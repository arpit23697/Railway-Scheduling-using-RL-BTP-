{
 "cells": [
  {
   "cell_type": "code",
   "execution_count": 1,
   "metadata": {},
   "outputs": [],
   "source": [
    "import pandas as pd\n",
    "import datetime as dt"
   ]
  },
  {
   "cell_type": "code",
   "execution_count": 2,
   "metadata": {},
   "outputs": [],
   "source": [
    "df = pd.read_csv(\"/home/arpit/study/BTP/dataset/hypothetical-data/rl-toy-OriginalTT.csv\")"
   ]
  },
  {
   "cell_type": "code",
   "execution_count": 3,
   "metadata": {
    "scrolled": true
   },
   "outputs": [
    {
     "data": {
      "text/html": [
       "<div>\n",
       "<style scoped>\n",
       "    .dataframe tbody tr th:only-of-type {\n",
       "        vertical-align: middle;\n",
       "    }\n",
       "\n",
       "    .dataframe tbody tr th {\n",
       "        vertical-align: top;\n",
       "    }\n",
       "\n",
       "    .dataframe thead th {\n",
       "        text-align: right;\n",
       "    }\n",
       "</style>\n",
       "<table border=\"1\" class=\"dataframe\">\n",
       "  <thead>\n",
       "    <tr style=\"text-align: right;\">\n",
       "      <th></th>\n",
       "      <th>Station</th>\n",
       "      <th>TTArrTime</th>\n",
       "      <th>ArrFlag</th>\n",
       "      <th>Loop</th>\n",
       "      <th>TTDepTime</th>\n",
       "      <th>DepFlag</th>\n",
       "      <th>Secn</th>\n",
       "      <th>TTHaltTime</th>\n",
       "      <th>MinHaltTime</th>\n",
       "      <th>TTRunTime</th>\n",
       "      <th>MinRunTime</th>\n",
       "      <th>TrainID</th>\n",
       "      <th>Priority</th>\n",
       "    </tr>\n",
       "  </thead>\n",
       "  <tbody>\n",
       "    <tr>\n",
       "      <th>0</th>\n",
       "      <td>Echo</td>\n",
       "      <td>2017-03-01 00:00:00</td>\n",
       "      <td>P</td>\n",
       "      <td>0</td>\n",
       "      <td>2017-03-01 00:05:00</td>\n",
       "      <td>P</td>\n",
       "      <td>0</td>\n",
       "      <td>5</td>\n",
       "      <td>5</td>\n",
       "      <td>10</td>\n",
       "      <td>10</td>\n",
       "      <td>10001</td>\n",
       "      <td>1</td>\n",
       "    </tr>\n",
       "    <tr>\n",
       "      <th>1</th>\n",
       "      <td>Delta</td>\n",
       "      <td>2017-03-01 00:15:00</td>\n",
       "      <td>P</td>\n",
       "      <td>0</td>\n",
       "      <td>2017-03-01 00:20:00</td>\n",
       "      <td>P</td>\n",
       "      <td>0</td>\n",
       "      <td>5</td>\n",
       "      <td>5</td>\n",
       "      <td>10</td>\n",
       "      <td>10</td>\n",
       "      <td>10001</td>\n",
       "      <td>1</td>\n",
       "    </tr>\n",
       "    <tr>\n",
       "      <th>2</th>\n",
       "      <td>Charlie</td>\n",
       "      <td>2017-03-01 00:30:00</td>\n",
       "      <td>P</td>\n",
       "      <td>0</td>\n",
       "      <td>2017-03-01 00:35:00</td>\n",
       "      <td>P</td>\n",
       "      <td>0</td>\n",
       "      <td>5</td>\n",
       "      <td>5</td>\n",
       "      <td>10</td>\n",
       "      <td>10</td>\n",
       "      <td>10001</td>\n",
       "      <td>1</td>\n",
       "    </tr>\n",
       "    <tr>\n",
       "      <th>3</th>\n",
       "      <td>Bravo</td>\n",
       "      <td>2017-03-01 00:45:00</td>\n",
       "      <td>P</td>\n",
       "      <td>0</td>\n",
       "      <td>2017-03-01 00:50:00</td>\n",
       "      <td>P</td>\n",
       "      <td>0</td>\n",
       "      <td>5</td>\n",
       "      <td>5</td>\n",
       "      <td>10</td>\n",
       "      <td>10</td>\n",
       "      <td>10001</td>\n",
       "      <td>1</td>\n",
       "    </tr>\n",
       "    <tr>\n",
       "      <th>4</th>\n",
       "      <td>Alpha</td>\n",
       "      <td>2017-03-01 01:00:00</td>\n",
       "      <td>P</td>\n",
       "      <td>0</td>\n",
       "      <td>2017-03-01 01:05:00</td>\n",
       "      <td>P</td>\n",
       "      <td>0</td>\n",
       "      <td>5</td>\n",
       "      <td>5</td>\n",
       "      <td>0</td>\n",
       "      <td>0</td>\n",
       "      <td>10001</td>\n",
       "      <td>1</td>\n",
       "    </tr>\n",
       "  </tbody>\n",
       "</table>\n",
       "</div>"
      ],
      "text/plain": [
       "   Station            TTArrTime ArrFlag  Loop            TTDepTime DepFlag  \\\n",
       "0     Echo  2017-03-01 00:00:00       P     0  2017-03-01 00:05:00       P   \n",
       "1    Delta  2017-03-01 00:15:00       P     0  2017-03-01 00:20:00       P   \n",
       "2  Charlie  2017-03-01 00:30:00       P     0  2017-03-01 00:35:00       P   \n",
       "3    Bravo  2017-03-01 00:45:00       P     0  2017-03-01 00:50:00       P   \n",
       "4    Alpha  2017-03-01 01:00:00       P     0  2017-03-01 01:05:00       P   \n",
       "\n",
       "   Secn  TTHaltTime  MinHaltTime  TTRunTime  MinRunTime  TrainID  Priority  \n",
       "0     0           5            5         10          10    10001         1  \n",
       "1     0           5            5         10          10    10001         1  \n",
       "2     0           5            5         10          10    10001         1  \n",
       "3     0           5            5         10          10    10001         1  \n",
       "4     0           5            5          0           0    10001         1  "
      ]
     },
     "execution_count": 3,
     "metadata": {},
     "output_type": "execute_result"
    }
   ],
   "source": [
    "df.head()"
   ]
  },
  {
   "cell_type": "markdown",
   "metadata": {},
   "source": [
    "# Arrival time"
   ]
  },
  {
   "cell_type": "code",
   "execution_count": 4,
   "metadata": {},
   "outputs": [],
   "source": [
    "df['arrival_time'] = pd.to_datetime(df['TTArrTime'])"
   ]
  },
  {
   "cell_type": "code",
   "execution_count": 5,
   "metadata": {},
   "outputs": [],
   "source": [
    "df['arrival_time_epoch'] = (df['arrival_time'] - dt.datetime(1970 , 1 , 1)).dt.total_seconds()//60"
   ]
  },
  {
   "cell_type": "code",
   "execution_count": 6,
   "metadata": {},
   "outputs": [],
   "source": [
    "min_time = df['arrival_time_epoch'].min()\n",
    "df['arrival_time_epoch'] = df['arrival_time_epoch'] - min_time"
   ]
  },
  {
   "cell_type": "markdown",
   "metadata": {},
   "source": [
    "# Departure time"
   ]
  },
  {
   "cell_type": "code",
   "execution_count": 7,
   "metadata": {},
   "outputs": [],
   "source": [
    "df['departure_time'] = pd.to_datetime(df['TTDepTime'])\n",
    "df['departure_time_epoch'] = (df['departure_time'] - dt.datetime(1970 , 1 , 1)).dt.total_seconds()//60\n",
    "df['departure_time_epoch'] = df['departure_time_epoch'] - min_time"
   ]
  },
  {
   "cell_type": "code",
   "execution_count": 28,
   "metadata": {},
   "outputs": [],
   "source": [
    "train_count = df.groupby('TrainID').count()['Station']\n",
    "train_ids = df['TrainID'].unique()"
   ]
  },
  {
   "cell_type": "code",
   "execution_count": 58,
   "metadata": {},
   "outputs": [],
   "source": [
    "f = open(\"/home/arpit/study/BTP/rail_simulator/Input_files/HYP1/Trains.txt\" , \"w\")"
   ]
  },
  {
   "cell_type": "code",
   "execution_count": 59,
   "metadata": {},
   "outputs": [],
   "source": [
    "for train , count in zip(train_ids, train_count):\n",
    "    df_temp = df[df['TrainID'] == train]\n",
    "    \n",
    "    f.write(\"{} {} {}\\n\".format(train , df_temp['Priority'].unique()[0] , count))\n",
    "    for index, row in df_temp.iterrows():\n",
    "        f.write(\"{} {} {} {} {}\\n\".format(row['Station'] , int(row['arrival_time_epoch']) , int(row['departure_time_epoch']), \n",
    "              row['MinHaltTime'] , row['MinRunTime']))\n",
    "    \n",
    "    f.write('*'*50)\n",
    "    f.write('\\n')\n",
    "    \n",
    "f.close()"
   ]
  },
  {
   "cell_type": "code",
   "execution_count": null,
   "metadata": {},
   "outputs": [],
   "source": []
  }
 ],
 "metadata": {
  "kernelspec": {
   "display_name": "Python 3",
   "language": "python",
   "name": "python3"
  },
  "language_info": {
   "codemirror_mode": {
    "name": "ipython",
    "version": 3
   },
   "file_extension": ".py",
   "mimetype": "text/x-python",
   "name": "python",
   "nbconvert_exporter": "python",
   "pygments_lexer": "ipython3",
   "version": "3.7.4"
  }
 },
 "nbformat": 4,
 "nbformat_minor": 2
}
