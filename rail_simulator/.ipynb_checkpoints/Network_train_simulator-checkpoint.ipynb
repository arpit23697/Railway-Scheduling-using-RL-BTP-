{
 "cells": [
  {
   "cell_type": "code",
   "execution_count": 1,
   "metadata": {},
   "outputs": [],
   "source": [
    "import config\n",
    "import numpy as np\n",
    "import networkx as nx\n",
    "import matplotlib.pyplot as plt\n",
    "import matplotlib.patches as mpatches\n",
    "import matplotlib\n",
    "import random\n",
    "import time\n",
    "from network import *\n",
    "from utility import *\n",
    "from train import *\n",
    "import simpy\n",
    "import logging\n",
    "import math"
   ]
  },
  {
   "cell_type": "code",
   "execution_count": 2,
   "metadata": {},
   "outputs": [],
   "source": [
    "%matplotlib notebook\n",
    "plt.ion()"
   ]
  },
  {
   "cell_type": "code",
   "execution_count": 3,
   "metadata": {},
   "outputs": [],
   "source": [
    "env = simpy.Environment()"
   ]
  },
  {
   "cell_type": "code",
   "execution_count": 4,
   "metadata": {},
   "outputs": [],
   "source": [
    "N = Network(config.STATIONS_FILENAME, config.RAILWAY_FILENAME , env)"
   ]
  },
  {
   "cell_type": "code",
   "execution_count": 5,
   "metadata": {},
   "outputs": [],
   "source": [
    "def create_statistic_proc(env , logger , stat_time , N , trains):\n",
    "    '''\n",
    "    Create statistic in the log file every stat_time\n",
    "    @parameters:\n",
    "    env : simpy environment\n",
    "    logger : log file where need to create the log\n",
    "    stat_time : time after which log is to be created\n",
    "    N         : network\n",
    "    trains    : trains in the network\n",
    "    '''\n",
    "    while True :\n",
    "        yield env.timeout(20)\n",
    "\n",
    "        #create statistics\n",
    "        not_yet_started = 0\n",
    "        running = 0\n",
    "        Completed_resource_not_freed = 0\n",
    "        Completed = 0\n",
    "\n",
    "        for t in trains:\n",
    "            status = t.status()\n",
    "            if (status == 'not_yet_started'):\n",
    "                not_yet_started += 1\n",
    "            elif (status == 'running'):\n",
    "                running += 1\n",
    "            elif(status == 'Completed_resource_not_freed'):\n",
    "                Completed_resource_not_freed += 1\n",
    "            else:\n",
    "                Completed += 1\n",
    "        \n",
    "        if (len(trains) == Completed):\n",
    "            config.TRAINS_COMPLETED_JOURNEY = True\n",
    "\n",
    "        logger.info(\"Time : {} Number of trains not yet started - {}\".format(env.now , not_yet_started))\n",
    "        logger.info(\"Time : {} Number of running trains - {}\".format(env.now , running))\n",
    "        logger.info(\"Time : {} Number of trains Completed but resource not freed - {}\".format(env.now , Completed_resource_not_freed))\n",
    "        logger.info(\"Time : {} Number of trains which have Completed journey - {}\".format(env.now , Completed))"
   ]
  },
  {
   "cell_type": "code",
   "execution_count": 6,
   "metadata": {},
   "outputs": [],
   "source": [
    "#utility function\n",
    "def update_graph (env , interval , train_to_color = None):\n",
    "    '''\n",
    "    This function will simulate the whole process on a GUI\n",
    "    This function is going to be used as the process\n",
    "    @parameters\n",
    "    env : simpy environment\n",
    "    total_time : total time for the simulation\n",
    "    '''\n",
    "    fig = plt.figure(figsize = (6 , 6))\n",
    "    ax = fig.add_subplot(111)\n",
    "    fig.show()\n",
    "    fig.canvas.draw()\n",
    "    \n",
    "    while True:\n",
    "        #Draw graph\n",
    "        \n",
    "        N.draw_railway_network(ax  = ax , suppress_station_info= False , \n",
    "                               suppress_track_info= False , suppress_edge_label=False , \n",
    "                               train_to_color=train_to_color)\n",
    "\n",
    "\n",
    "        #yield interval time\n",
    "        yield env.timeout(interval)\n",
    "        time.sleep(0.5)\n",
    "        \n",
    "        #log info\n",
    "        plt.title(\"Time {}\".format(env.now))\n",
    "        \n",
    "        #Paint the canvas\n",
    "        fig.canvas.draw()"
   ]
  },
  {
   "cell_type": "code",
   "execution_count": 7,
   "metadata": {},
   "outputs": [],
   "source": [
    "def deadlock_detection_process (env , deadlock_time):\n",
    "    '''\n",
    "    For creating deadlock detection process\n",
    "    '''\n",
    "    global DEADLOCK\n",
    "    while True:\n",
    "        \n",
    "        #Invoke this deadlock process after every 20 iterations\n",
    "        \n",
    "        yield env.timeout(deadlock_time)\n",
    "        logger.info(\"Time : {} Checking Deadlock\".format(env.now))\n",
    "        config.DEADLOCK , _ = deadlock_detection(N , trains)\n",
    "        \n"
   ]
  },
  {
   "cell_type": "code",
   "execution_count": 8,
   "metadata": {},
   "outputs": [],
   "source": [
    "def compute_loss_one_train (t):\n",
    "    '''\n",
    "    This function should be called after the successful completion of the train\n",
    "    @Parameter : Name of the train \n",
    "    @Return : Loss for the train  \n",
    "    '''\n",
    "    p = t.priority\n",
    "    loss = 0\n",
    "    \n",
    "    for route , log in zip(t.route , t.log):\n",
    "        d , t1 , t2 = route\n",
    "        _ , t3 , t4 = log\n",
    "        \n",
    "        assert t3 >= t1 and t4 >= t2\n",
    "        loss += (t3 - t1) + (t4 - t2)\n",
    "\n",
    "    return loss / p\n",
    "    "
   ]
  },
  {
   "cell_type": "code",
   "execution_count": 9,
   "metadata": {},
   "outputs": [],
   "source": [
    "\n",
    "def compute_loss (trains):\n",
    "    '''\n",
    "    Takes all the trains in the network after completing the journey and then computes the value of J\n",
    "    '''\n",
    "    total_loss = 0\n",
    "    total_departures = 0\n",
    "    for t in trains:\n",
    "        total_departures += 2*len(t.route)\n",
    "        total_loss += compute_loss_one_train(t)\n",
    "        \n",
    "    total_loss = total_loss / total_departures\n",
    "    return total_loss"
   ]
  },
  {
   "cell_type": "code",
   "execution_count": 10,
   "metadata": {},
   "outputs": [],
   "source": [
    "def get_state_vector (train_name , b = 2 , l= 6 , R = 3 , w_c = 1 , w_d = 1):\n",
    "    #get the train\n",
    "    t = name_train_map[train_name]\n",
    "    \n",
    "    #find the current position \n",
    "    current = t.current_index * 2;\n",
    "    if (not t.station_or_not):\n",
    "        current += 1\n",
    "            \n",
    "    #get the local neighbors\n",
    "    res =t.all_resources[ max(0 , current - b) : min(current + l+1 , len(t.all_resources )) ]\n",
    "    state_vector = [0 for _ in range(len(res))]\n",
    "    res_to_index = {}\n",
    "    for i in range(len(res)):\n",
    "        res_to_index[res[i]] = i\n",
    "\n",
    "    #position of the train in the local space\n",
    "    if (t.current == '_'):\n",
    "        t1_pos = 0 \n",
    "    else:\n",
    "        t1_pos = res_to_index[t.current]\n",
    "    \n",
    "\n",
    "    #go through each local resource\n",
    "    for t2_pos , r in enumerate(res):\n",
    "        #check if the resource is station or track and get the corresponding details\n",
    "        if type(r) is not str:\n",
    "            s = N.get_track_details(r[0],r[1])\n",
    "\n",
    "        else:\n",
    "            s = N.get_station_details(r)\n",
    "        \n",
    "        towards = 0                                          #train converging towards the given train  \n",
    "        away = 0                                             #trains diverging from the given train\n",
    "        total = len(s.train_running)                         #total number of trains\n",
    "        \n",
    "        #for each train in one of the local resource \n",
    "        for running_train in s.train_running:\n",
    "\n",
    "            if not running_train == '_':\n",
    "                \n",
    "                #find the next position of the train and depict wether it is moving towards or away from the resource\n",
    "                t2 = name_train_map[running_train]\n",
    "                index = t2.current_index * 2 \n",
    "                if not (t2.station_or_not):\n",
    "                    index += 1\n",
    "                \n",
    "                #if train is not at the last destination\n",
    "                if ( index + 1 < len(t2.all_resources) ):\n",
    "                    #get the next resource and find it's position\n",
    "                    next_res = t2.all_resources[index + 1]\n",
    "                    if next_res in res_to_index:\n",
    "                        t2_next_pos = res_to_index[t2.all_resources[index + 1]]\n",
    "                        if abs(t2_next_pos - t1_pos) < abs(t2_pos - t1_pos):\n",
    "                            towards+=1\n",
    "                        else:\n",
    "                            away+=1\n",
    "\n",
    "                    elif type(next_res) is not str and (next_res[1] , next_res[0]) in res_to_index:\n",
    "                        t2_next_pos = res_to_index[(next_res[1] , next_res[0]) ]\n",
    "                        if abs(t2_next_pos - t1_pos) < abs(t2_pos - t1_pos):\n",
    "                            towards+=1\n",
    "                        else:\n",
    "                            away+=1\n",
    "\n",
    "                    else :\n",
    "                        away+=1\n",
    "                else :\n",
    "                    away+=1\n",
    "#         print(\"Resource {} Total = {} Towards = {} Away = {}\".format(r , len(s.train_running) , towards , away))\n",
    "        #construct the state vector\n",
    "        state_vector[t2_pos] = int(R - 1 - min (R-1 , math.floor(total - w_c * towards - w_d * away)))\n",
    "    \n",
    "    #make it equal to the size of the state vector\n",
    "    if (current - b < 0):\n",
    "        temp_list = [0] * abs(current-b)\n",
    "        temp_list.extend(state_vector)\n",
    "        state_vector = temp_list\n",
    "\n",
    "    if (current + l + 1 > len(t.all_resources)):\n",
    "        state_vector.extend([0] * (current + l + 1 - len(t.all_resources)) )\n",
    "        \n",
    "    #include the priority of the train in the state vector\n",
    "    state_vector.insert(0 , t.priority)\n",
    "    \n",
    "    return state_vector\n",
    "    "
   ]
  },
  {
   "cell_type": "code",
   "execution_count": 11,
   "metadata": {},
   "outputs": [],
   "source": [
    "def state_vector_to_index (state_vector , b = 2 , l = 6 , total_priority = 3 , R = 3):\n",
    "    '''\n",
    "    This function takes the state vector and convert it into index used for storing purpose\n",
    "    state vector is a list\n",
    "    '''\n",
    "    temp = 1\n",
    "    ans = 0\n",
    "    for i in range(1 , len(state_vector)):\n",
    "        ans += temp * state_vector[i]\n",
    "        temp *= R\n",
    "        \n",
    "    x = R ** (l + b + 1)\n",
    "    return ans + (state_vector[0]-1) * x"
   ]
  },
  {
   "cell_type": "code",
   "execution_count": 12,
   "metadata": {},
   "outputs": [],
   "source": [
    "def index_to_state_vector (index , b = 2 , l = 6 , R = 3 , total_priority = 3):\n",
    "    '''\n",
    "    Given th index , it returns the state vector\n",
    "    '''\n",
    "    state_vector = [0]\n",
    "    x = R ** (l + b + 1)\n",
    "    state_vector[0] = index//x + 1\n",
    "    index = index % x\n",
    "    \n",
    "    while index:\n",
    "        index, r = divmod(index, 3)\n",
    "        state_vector.append(r)\n",
    "        \n",
    "    state_vector.extend( [0] * (l + b + 2 - len(state_vector)) )\n",
    "    return state_vector"
   ]
  },
  {
   "cell_type": "code",
   "execution_count": 13,
   "metadata": {
    "scrolled": false
   },
   "outputs": [],
   "source": [
    "trains = read_trains(config.TRAINS_FILENAME , N , env)"
   ]
  },
  {
   "cell_type": "code",
   "execution_count": 14,
   "metadata": {},
   "outputs": [],
   "source": [
    "name_train_map = {}                #Map from train name to train object; note key can be changed to train_id \n",
    "for t in trains:\n",
    "    name_train_map[t.name] = t"
   ]
  },
  {
   "cell_type": "code",
   "execution_count": 15,
   "metadata": {},
   "outputs": [
    {
     "name": "stdout",
     "output_type": "stream",
     "text": [
      "{'Train001': 'red', 'Train002': 'saddlebrown', 'Train003': 'forestgreen', 'Train004': 'dimgray', 'Train011': 'darkcyan', 'Train012': 'royalblue', 'Train013': 'magenta', 'Train014': 'darkorange'}\n"
     ]
    }
   ],
   "source": [
    "#Define a map from train to color to which it belongs \n",
    "#Note this feature considers only 10 trains into account\n",
    "colors = ['red' , 'saddlebrown' , 'forestgreen','dimgray' , 'darkcyan' , 'royalblue' , 'magenta' , 'darkorange' ] \n",
    "permanent_color = 'lightcoral'\n",
    "\n",
    "train_to_color = {}\n",
    "if (len(trains) <= 8):\n",
    "    for i,t in enumerate(trains):\n",
    "        train_to_color[t.name] = colors[i]\n",
    "else:\n",
    "    for i,t in enumerate(trains):\n",
    "        train_to_color[t.name] = permanent_color\n",
    "        \n",
    "print(train_to_color)\n"
   ]
  },
  {
   "cell_type": "code",
   "execution_count": 16,
   "metadata": {},
   "outputs": [],
   "source": [
    "logger = setup_logger(\"main_log_file\" ,\"Logs/log.log\")"
   ]
  },
  {
   "cell_type": "markdown",
   "metadata": {},
   "source": [
    "# Simulation and Algorithm"
   ]
  },
  {
   "cell_type": "code",
   "execution_count": 17,
   "metadata": {},
   "outputs": [],
   "source": [
    "#hyperparameters\n",
    "pho = 0.25\n",
    "minimum_J = 1000000\n",
    "total_priority = 3\n",
    "R = 3\n",
    "l = 6\n",
    "b = 2\n",
    "total_episodes = 5"
   ]
  },
  {
   "cell_type": "code",
   "execution_count": 18,
   "metadata": {},
   "outputs": [
    {
     "name": "stdout",
     "output_type": "stream",
     "text": [
      "{'Train001': '-', 'Train002': '-', 'Train003': '-', 'Train004': '-', 'Train011': '-', 'Train012': '-', 'Train013': '-', 'Train014': '-'}\n"
     ]
    }
   ],
   "source": [
    "#Variables\n",
    "total_states = total_priority * (R ** (l + b + 1))\n",
    "success_freq = np.zeros (( total_states , 2 ))\n",
    "pass_freq = np.zeros ((total_states , 2))\n",
    "success_prob = 0.5 * np.ones ((total_states , 2))\n",
    "seen = np.zeros((total_states , 2))\n",
    "\n",
    "#map for the train most recent state space\n",
    "train_state_space_map = {} \n",
    "for key , value in  name_train_map.items():\n",
    "    train_state_space_map[key] = '-'\n",
    "    \n",
    "print(train_state_space_map)"
   ]
  },
  {
   "cell_type": "code",
   "execution_count": 19,
   "metadata": {},
   "outputs": [],
   "source": [
    "def choose_action_algo (env ,N ,name_train_map):\n",
    "    \n",
    "    '''\n",
    "    This function will choose the action for the trains that need action at the\n",
    "    particular simulation time\n",
    "    \n",
    "    This will also check if the move is valid or not.\n",
    "    '''\n",
    "    \n",
    "    global TRAINS_NEEDING_ACTION\n",
    "    actions = ['move' , 'wait']\n",
    "    \n",
    "    while True :\n",
    "        #This line is extremely important\n",
    "        #As this line will wait for all the events upto this current simulation point to complete first\n",
    "        #and then this will execute\n",
    "        for _ in range(4*len(name_train_map)):\n",
    "            yield env.timeout(0)\n",
    "        \n",
    "        #Check if the trains need action\n",
    "        if (len(config.TRAINS_NEEDING_ACTION) == 0):\n",
    "            yield env.timeout(1)\n",
    "        \n",
    "        else:\n",
    "            \n",
    "            #Pick the train that needs the action most\n",
    "#             time , name = config.TRAINS_NEEDING_ACTION[0]\n",
    "            \n",
    "            time ,name = pick_most_suitable_action(name_train_map , N , env)\n",
    "            t = name_train_map[name]\n",
    "        \n",
    "            state_vector = get_state_vector(name)\n",
    "            #Pick the action\n",
    "            action = np.random.choice(actions , 1 , p = [0.5 , 0.5])          \n",
    "        \n",
    "            \n",
    "            #if the action is to move, then check if move is valid or not\n",
    "            #if not : then implement the wait move\n",
    "            if not (t.is_move_valid(env)):\n",
    "                action = 'wait'\n",
    "            \n",
    "            action_index = 0\n",
    "            if action == 'wait':\n",
    "                action_index = 1\n",
    "            \n",
    "            train_state_space_map[name] = (state_vector , action_index)    \n",
    "            seen[state_vector_to_index(state_vector) , action_index ] = 1\n",
    "            #Create the process that completes the action\n",
    "            env.process(t.act_simulate(env , action))\n",
    "            \n",
    "            #Remove the name of the train from the list\n",
    "            config.TRAINS_NEEDING_ACTION.remove((time,  name) )\n",
    "            \n"
   ]
  },
  {
   "cell_type": "code",
   "execution_count": 20,
   "metadata": {},
   "outputs": [],
   "source": [
    "# sim_proc = env.process(update_graph(env , 1 , train_to_color =train_to_color))\n",
    "\n",
    "def start_episode():\n",
    "\n",
    "    env = simpy.Environment()\n",
    "    N.reset(env)\n",
    "    for t in trains:\n",
    "        t.reset(env , N)\n",
    "    \n",
    "        \n",
    "    dead_proc = env.process(deadlock_detection_process(env , 20))\n",
    "    stat_proc = env.process(create_statistic_proc(env , logger , 20 , N , trains))\n",
    "\n",
    "    for t in trains:\n",
    "        proc = env.process(t.put_train_on_track(env))\n",
    "\n",
    "    proc_act = env.process(choose_action_algo(env , N, name_train_map))\n",
    "    return env,N"
   ]
  },
  {
   "cell_type": "code",
   "execution_count": 21,
   "metadata": {
    "scrolled": false
   },
   "outputs": [
    {
     "name": "stdout",
     "output_type": "stream",
     "text": [
      "Episode :  0\n",
      "Terminating Simulation : All trains completed journey\n",
      "**************************************************\n",
      "Train ID : 8\n",
      "Name :Train001\n",
      "Priority : 1\n",
      "Average speed : 1\n",
      "Route of the train\n",
      "            Alpha : 0 - 1 \n",
      "            Bravo : 2 - 3 \n",
      "            Charlie : 4 - 5 \n",
      "            Delta : 6 - 7 \n",
      "            Echo : 8 - 9 \n",
      "Train has completed the journey\n",
      "______Printing log________\n",
      "            Alpha : 1 2 \n",
      "            Bravo : 3 7 \n",
      "            Charlie : 8 12 \n",
      "            Delta : 13 14 \n",
      "            Echo : 16 19 \n",
      "**************************************************\n",
      "Episode :  1\n",
      "Terminating Simulation : All trains completed journey\n",
      "**************************************************\n",
      "Train ID : 8\n",
      "Name :Train001\n",
      "Priority : 1\n",
      "Average speed : 1\n",
      "Route of the train\n",
      "            Alpha : 0 - 1 \n",
      "            Bravo : 2 - 3 \n",
      "            Charlie : 4 - 5 \n",
      "            Delta : 6 - 7 \n",
      "            Echo : 8 - 9 \n",
      "Train has completed the journey\n",
      "______Printing log________\n",
      "            Alpha : 1 5 \n",
      "            Bravo : 8 9 \n",
      "            Charlie : 11 20 \n",
      "            Delta : 23 33 \n",
      "            Echo : 34 35 \n",
      "**************************************************\n",
      "Episode :  2\n",
      "Terminating Simulation : All trains completed journey\n",
      "**************************************************\n",
      "Train ID : 8\n",
      "Name :Train001\n",
      "Priority : 1\n",
      "Average speed : 1\n",
      "Route of the train\n",
      "            Alpha : 0 - 1 \n",
      "            Bravo : 2 - 3 \n",
      "            Charlie : 4 - 5 \n",
      "            Delta : 6 - 7 \n",
      "            Echo : 8 - 9 \n",
      "Train has completed the journey\n",
      "______Printing log________\n",
      "            Alpha : 6 8 \n",
      "            Bravo : 11 16 \n",
      "            Charlie : 17 29 \n",
      "            Delta : 30 31 \n",
      "            Echo : 34 37 \n",
      "**************************************************\n",
      "Episode :  3\n",
      "Terminating Simulation : All trains completed journey\n",
      "**************************************************\n",
      "Train ID : 8\n",
      "Name :Train001\n",
      "Priority : 1\n",
      "Average speed : 1\n",
      "Route of the train\n",
      "            Alpha : 0 - 1 \n",
      "            Bravo : 2 - 3 \n",
      "            Charlie : 4 - 5 \n",
      "            Delta : 6 - 7 \n",
      "            Echo : 8 - 9 \n",
      "Train has completed the journey\n",
      "______Printing log________\n",
      "            Alpha : 1 4 \n",
      "            Bravo : 6 12 \n",
      "            Charlie : 13 24 \n",
      "            Delta : 25 28 \n",
      "            Echo : 29 30 \n",
      "**************************************************\n",
      "Episode :  4\n",
      "Terminating Simulation : All trains completed journey\n",
      "**************************************************\n",
      "Train ID : 8\n",
      "Name :Train001\n",
      "Priority : 1\n",
      "Average speed : 1\n",
      "Route of the train\n",
      "            Alpha : 0 - 1 \n",
      "            Bravo : 2 - 3 \n",
      "            Charlie : 4 - 5 \n",
      "            Delta : 6 - 7 \n",
      "            Echo : 8 - 9 \n",
      "Train has completed the journey\n",
      "______Printing log________\n",
      "            Alpha : 3 4 \n",
      "            Bravo : 5 6 \n",
      "            Charlie : 9 17 \n",
      "            Delta : 18 20 \n",
      "            Echo : 22 25 \n",
      "**************************************************\n"
     ]
    }
   ],
   "source": [
    "steps = 20\n",
    "for episode in range(5):\n",
    "    \n",
    "    print(\"Episode : \" , episode)\n",
    "    config.TRAINS_NEEDING_ACTION = []\n",
    "    env , N = start_episode()    \n",
    "    config.DEADLOCK = True\n",
    "    config.TRAINS_COMPLETED_JOURNEY = False\n",
    "    config.CURRENT_SIMULATION_TIME = 0\n",
    "\n",
    "    seen = np.zeros((total_states , 2))\n",
    "\n",
    "    #This loop is not needed as such\n",
    "    for time in range(0 , config.TOTAL_SIMULATION_TIME , steps):\n",
    "        if (config.DEADLOCK== False):\n",
    "            logger.warning(\"Time : {} Terminating Simulation. Deadlock detected\".format(env.now))\n",
    "            print(\"Terminating Simulation : Deadlock detected\")\n",
    "            break\n",
    "\n",
    "        if (config.TRAINS_COMPLETED_JOURNEY == True):\n",
    "            logger.info(\"Time : {} All trains completed journey. Terminating Simulation\".format(env.now))\n",
    "            print(\"Terminating Simulation : All trains completed journey\")\n",
    "            break\n",
    "\n",
    "        config.CURRENT_SIMULATION_TIME += 20\n",
    "\n",
    "\n",
    "        #Run the simulation\n",
    "        env.run(until = config.CURRENT_SIMULATION_TIME)\n",
    "\n",
    "    success = False\n",
    "    \n",
    "    t = name_train_map['Train001']\n",
    "    t.print_details()\n",
    "    \n",
    "    \n",
    "    \n",
    "    if (config.TRAINS_COMPLETED_JOURNEY == True):\n",
    "        J = compute_loss(trains) \n",
    "        if (J < (1 + pho) * minimum_J):\n",
    "            success = True \n",
    "        minimum_J = min (J , minimum_J)\n",
    "    \n",
    "    if (success):\n",
    "        success_freq[seen == 1] += 1 \n",
    "\n",
    "    pass_freq = pass_freq + seen \n",
    "    for x in range(total_states):\n",
    "        for y in range(2):\n",
    "            if not (pass_freq[x,y] == 0):\n",
    "                success_prob[x,y] = success_freq[x,y] / pass_freq[x,y] \n"
   ]
  },
  {
   "cell_type": "code",
   "execution_count": 23,
   "metadata": {
    "scrolled": true
   },
   "outputs": [
    {
     "data": {
      "text/plain": [
       "{'Train001': ([1, 0, 1, 0, 0, 0, 0, 0, 0, 0], 0),\n",
       " 'Train002': ([1, 0, 1, 0, 0, 0, 0, 0, 0, 0], 0),\n",
       " 'Train003': ([1, 0, 1, 0, 0, 0, 0, 0, 0, 0], 0),\n",
       " 'Train004': ([1, 0, 1, 0, 0, 0, 0, 0, 0, 0], 0),\n",
       " 'Train011': ([1, 1, 1, 0, 0, 0, 0, 0, 0, 0], 0),\n",
       " 'Train012': ([1, 0, 1, 0, 0, 0, 0, 0, 0, 0], 0),\n",
       " 'Train013': ([1, 0, 1, 0, 0, 0, 0, 0, 0, 0], 0),\n",
       " 'Train014': ([1, 0, 1, 0, 0, 0, 0, 0, 0, 0], 0)}"
      ]
     },
     "execution_count": 23,
     "metadata": {},
     "output_type": "execute_result"
    }
   ],
   "source": [
    "train_state_space_map"
   ]
  },
  {
   "cell_type": "code",
   "execution_count": 27,
   "metadata": {},
   "outputs": [
    {
     "data": {
      "text/plain": [
       "263"
      ]
     },
     "execution_count": 27,
     "metadata": {},
     "output_type": "execute_result"
    }
   ],
   "source": [
    "np.count_nonzero(pass_freq)"
   ]
  },
  {
   "cell_type": "code",
   "execution_count": 26,
   "metadata": {},
   "outputs": [
    {
     "data": {
      "text/plain": [
       "5.0"
      ]
     },
     "execution_count": 26,
     "metadata": {},
     "output_type": "execute_result"
    }
   ],
   "source": [
    "state_vector , action = train_state_space_map[\"Train001\"]\n",
    "pass_freq[state_vector_to_index(state_vector) , action  ]"
   ]
  },
  {
   "cell_type": "code",
   "execution_count": 25,
   "metadata": {
    "scrolled": true
   },
   "outputs": [
    {
     "data": {
      "text/plain": [
       "[1, 0, 2, 2, 2, 0, 1, 0, 0, 0]"
      ]
     },
     "execution_count": 25,
     "metadata": {},
     "output_type": "execute_result"
    }
   ],
   "source": [
    "get_state_vector('Train001')"
   ]
  },
  {
   "cell_type": "code",
   "execution_count": 26,
   "metadata": {},
   "outputs": [
    {
     "data": {
      "text/plain": [
       "1000000"
      ]
     },
     "execution_count": 26,
     "metadata": {},
     "output_type": "execute_result"
    }
   ],
   "source": [
    "minimum_J"
   ]
  },
  {
   "cell_type": "code",
   "execution_count": 27,
   "metadata": {},
   "outputs": [],
   "source": [
    "# fig = plt.figure(figsize = (6 , 6))\n",
    "# ax = fig.add_subplot(111)\n",
    "# fig.show()\n",
    "# fig.canvas.draw()\n",
    "# N.draw_railway_network(ax  = ax , suppress_station_info= False , \n",
    "#                                suppress_track_info= False , suppress_edge_label=False , \n",
    "#                                train_to_color=train_to_color)"
   ]
  },
  {
   "cell_type": "code",
   "execution_count": 28,
   "metadata": {},
   "outputs": [
    {
     "ename": "AssertionError",
     "evalue": "",
     "output_type": "error",
     "traceback": [
      "\u001b[0;31m---------------------------------------------------------------------------\u001b[0m",
      "\u001b[0;31mAssertionError\u001b[0m                            Traceback (most recent call last)",
      "\u001b[0;32m<ipython-input-28-1fc92bc11aab>\u001b[0m in \u001b[0;36m<module>\u001b[0;34m()\u001b[0m\n\u001b[0;32m----> 1\u001b[0;31m \u001b[0mcompute_loss\u001b[0m\u001b[0;34m(\u001b[0m\u001b[0mtrains\u001b[0m\u001b[0;34m)\u001b[0m\u001b[0;34m\u001b[0m\u001b[0m\n\u001b[0m",
      "\u001b[0;32m<ipython-input-9-155856df3d5f>\u001b[0m in \u001b[0;36mcompute_loss\u001b[0;34m(trains)\u001b[0m\n\u001b[1;32m      8\u001b[0m     \u001b[0;32mfor\u001b[0m \u001b[0mt\u001b[0m \u001b[0;32min\u001b[0m \u001b[0mtrains\u001b[0m\u001b[0;34m:\u001b[0m\u001b[0;34m\u001b[0m\u001b[0m\n\u001b[1;32m      9\u001b[0m         \u001b[0mtotal_departures\u001b[0m \u001b[0;34m+=\u001b[0m \u001b[0;36m2\u001b[0m\u001b[0;34m*\u001b[0m\u001b[0mlen\u001b[0m\u001b[0;34m(\u001b[0m\u001b[0mt\u001b[0m\u001b[0;34m.\u001b[0m\u001b[0mroute\u001b[0m\u001b[0;34m)\u001b[0m\u001b[0;34m\u001b[0m\u001b[0m\n\u001b[0;32m---> 10\u001b[0;31m         \u001b[0mtotal_loss\u001b[0m \u001b[0;34m+=\u001b[0m \u001b[0mcompute_loss_one_train\u001b[0m\u001b[0;34m(\u001b[0m\u001b[0mt\u001b[0m\u001b[0;34m)\u001b[0m\u001b[0;34m\u001b[0m\u001b[0m\n\u001b[0m\u001b[1;32m     11\u001b[0m \u001b[0;34m\u001b[0m\u001b[0m\n\u001b[1;32m     12\u001b[0m     \u001b[0mtotal_loss\u001b[0m \u001b[0;34m=\u001b[0m \u001b[0mtotal_loss\u001b[0m \u001b[0;34m/\u001b[0m \u001b[0mtotal_departures\u001b[0m\u001b[0;34m\u001b[0m\u001b[0m\n",
      "\u001b[0;32m<ipython-input-8-ea5ec73bb96a>\u001b[0m in \u001b[0;36mcompute_loss_one_train\u001b[0;34m(t)\u001b[0m\n\u001b[1;32m     12\u001b[0m         \u001b[0m_\u001b[0m \u001b[0;34m,\u001b[0m \u001b[0mt3\u001b[0m \u001b[0;34m,\u001b[0m \u001b[0mt4\u001b[0m \u001b[0;34m=\u001b[0m \u001b[0mlog\u001b[0m\u001b[0;34m\u001b[0m\u001b[0m\n\u001b[1;32m     13\u001b[0m \u001b[0;34m\u001b[0m\u001b[0m\n\u001b[0;32m---> 14\u001b[0;31m         \u001b[0;32massert\u001b[0m \u001b[0mt3\u001b[0m \u001b[0;34m>=\u001b[0m \u001b[0mt1\u001b[0m \u001b[0;32mand\u001b[0m \u001b[0mt4\u001b[0m \u001b[0;34m>=\u001b[0m \u001b[0mt2\u001b[0m\u001b[0;34m\u001b[0m\u001b[0m\n\u001b[0m\u001b[1;32m     15\u001b[0m         \u001b[0mloss\u001b[0m \u001b[0;34m+=\u001b[0m \u001b[0;34m(\u001b[0m\u001b[0mt3\u001b[0m \u001b[0;34m-\u001b[0m \u001b[0mt1\u001b[0m\u001b[0;34m)\u001b[0m \u001b[0;34m+\u001b[0m \u001b[0;34m(\u001b[0m\u001b[0mt4\u001b[0m \u001b[0;34m-\u001b[0m \u001b[0mt2\u001b[0m\u001b[0;34m)\u001b[0m\u001b[0;34m\u001b[0m\u001b[0m\n\u001b[1;32m     16\u001b[0m \u001b[0;34m\u001b[0m\u001b[0m\n",
      "\u001b[0;31mAssertionError\u001b[0m: "
     ]
    }
   ],
   "source": [
    "compute_loss(trains)"
   ]
  },
  {
   "cell_type": "code",
   "execution_count": null,
   "metadata": {
    "scrolled": true
   },
   "outputs": [],
   "source": [
    "state_vec = get_state_vector(\"Train014\" , b = 2 , l = 6)"
   ]
  },
  {
   "cell_type": "code",
   "execution_count": null,
   "metadata": {
    "scrolled": false
   },
   "outputs": [],
   "source": [
    "state_vec = [2 , 2 , 1 , 0, 0 ,0 , 0 , 0 ,0 , 0]\n",
    "index = state_vector_to_index(state_vec)"
   ]
  },
  {
   "cell_type": "code",
   "execution_count": null,
   "metadata": {},
   "outputs": [],
   "source": [
    "index_to_state_vector(index)"
   ]
  },
  {
   "cell_type": "markdown",
   "metadata": {},
   "source": [
    "# Resource Usage"
   ]
  },
  {
   "cell_type": "code",
   "execution_count": null,
   "metadata": {},
   "outputs": [],
   "source": [
    "G,train_nodes , station_nodes , track_nodes = create_resource_usage_graph(trains , N)"
   ]
  },
  {
   "cell_type": "code",
   "execution_count": null,
   "metadata": {
    "scrolled": false
   },
   "outputs": [],
   "source": [
    "fig = plt.figure(figsize = (6 , 6))\n",
    "ax = fig.add_subplot(111)\n",
    "draw_network_usage_graph(G,train_nodes , station_nodes , track_nodes, N,ax)"
   ]
  },
  {
   "cell_type": "markdown",
   "metadata": {},
   "source": [
    "# TODO\n",
    "\n",
    "1. Create a simple train class with all the parameters                                                Done\n",
    "2. Implement the resource facility with the track and the station                                     Done\n",
    "3. Run the single train on the track (without getting worried wether the resource is free or not)     Done  \n",
    "4. Simulate whole thing on graph (single train only)                                                  Done\n",
    "5. Run multiple instances of the train without worrying about the deadlock                            Done\n",
    "   Create action for each train                                                                       Done\n",
    "6. Try to simulate as you want to do in the project i.e. take action from the user.                   Done\n",
    "   Also able to order the train for which to take the action at a particular time \n",
    "   \n",
    "   \n",
    "   \n",
    "7. Try to create deadlock with the trains                                                             Done \n",
    "8. Create the graph for resource usage.                                                               Done  \n",
    "9. Use the standard deadlock detection algorithm for the detection of the algorithm                   Done \n",
    "   Implement the Bank's algorithm for deadlock detection."
   ]
  },
  {
   "cell_type": "markdown",
   "metadata": {},
   "source": [
    "\n",
    "# List of reasons of creating events\n",
    "1. If a train is standing at a station, the event processing time            Can be done by implementing timeout if train arrive early before depart time\n",
    "    corresponds to the earliest time at which the train can depart,          occupancy of next track.\n",
    "    as defined by its minimum halt time at the station and by any           Done\n",
    "    departure time constraints enforced for passenger convenience.\n",
    "\n",
    "2. `If it is running between two stations, the event processing time         Already done   \n",
    "    corresponds to the earliest time at which it can arrive at the          occupancy of next station if move.\n",
    "    next station, as defined by the length of the track and the train       Done\n",
    "    running speed.\n",
    "\n",
    "3. If the train is yet to start, the event processing                       Done\n",
    "    time is the time at which it is expected at the starting station.       "
   ]
  },
  {
   "cell_type": "markdown",
   "metadata": {
    "scrolled": false
   },
   "source": [
    "# TODO\n",
    "\n",
    "Create the actions properly and implement deadlock Avoidance heuristic\n",
    "\n",
    "1. Code the proper list of events. All the three listed above.                                      Done\n",
    "2. Create the proper time table with arrival and departure time of each train at each station.      Done\n",
    "3. Create separate log file for each train.                                                         Done\n",
    "3. Run simulation with the first toy environment (as in the paper).                                 Done\n",
    "4. Label the current set of implementation under Simulation Phase.                                  Done\n",
    "5. Implement the actions properly without actually waiting for the resource.                        Done\n",
    "6. Understand Heuristic that can be used to avoid deadlock.                                         Done\n",
    "7. Move that train that occupies the most congested resource first and then other.                  Done\n",
    "   If tie break it using priority of each train.\n",
    "   \n",
    "   \n",
    "8. Implement the state vector when action need to be taken.                                       Note Done\n",
    "\n"
   ]
  },
  {
   "cell_type": "markdown",
   "metadata": {},
   "source": [
    "# TODO \n",
    "1. Implement the function to compute J      $\\;\\;\\;\\;\\;\\;\\;\\;\\;\\;\\;$   Done\n",
    "2. Implement the state space i.e. when taking action train should know what is the state space \n",
    "3. Implement Proxy reward.\n",
    "4. Implement the Q-learning algo given in the paper\n",
    "5. Check for the first test case"
   ]
  },
  {
   "cell_type": "code",
   "execution_count": null,
   "metadata": {},
   "outputs": [],
   "source": [
    "'''\n",
    "Doubts\n",
    "1. If the train is not yet started what is the state vector\n",
    "\n",
    "'''"
   ]
  }
 ],
 "metadata": {
  "kernelspec": {
   "display_name": "Python 3",
   "language": "python",
   "name": "python3"
  },
  "language_info": {
   "codemirror_mode": {
    "name": "ipython",
    "version": 3
   },
   "file_extension": ".py",
   "mimetype": "text/x-python",
   "name": "python",
   "nbconvert_exporter": "python",
   "pygments_lexer": "ipython3",
   "version": "3.6.5"
  }
 },
 "nbformat": 4,
 "nbformat_minor": 2
}
