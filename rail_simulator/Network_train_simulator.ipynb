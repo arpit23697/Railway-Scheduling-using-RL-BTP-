{
 "cells": [
  {
   "cell_type": "code",
   "execution_count": 1,
   "metadata": {},
   "outputs": [],
   "source": [
    "import numpy as np\n",
    "import networkx as nx\n",
    "import matplotlib.pyplot as plt\n",
    "import matplotlib\n",
    "import random\n",
    "import time\n",
    "from network import *\n",
    "from utility import *\n",
    "from train import *\n",
    "from config import *\n",
    "import simpy\n",
    "import logging"
   ]
  },
  {
   "cell_type": "code",
   "execution_count": 2,
   "metadata": {},
   "outputs": [],
   "source": [
    "logger2 = None"
   ]
  },
  {
   "cell_type": "code",
   "execution_count": 3,
   "metadata": {},
   "outputs": [],
   "source": [
    "#Create and configure logger \n",
    "def setup_logger (name, log_file):\n",
    "    formatter = logging.Formatter('%(asctime)s %(levelname)s %(message)s')\n",
    "    \n",
    "    \n",
    "    handler = logging.FileHandler(log_file , mode ='w')        \n",
    "    handler.setFormatter(formatter)\n",
    "\n",
    "    logger = logging.getLogger(name)\n",
    "    logger.setLevel(logging.INFO)\n",
    "    logger.addHandler(handler)\n",
    "\n",
    "    return logger"
   ]
  },
  {
   "cell_type": "code",
   "execution_count": 4,
   "metadata": {},
   "outputs": [],
   "source": [
    "%matplotlib notebook\n",
    "plt.ion()"
   ]
  },
  {
   "cell_type": "code",
   "execution_count": 5,
   "metadata": {},
   "outputs": [],
   "source": [
    "env = simpy.Environment()"
   ]
  },
  {
   "cell_type": "code",
   "execution_count": 6,
   "metadata": {},
   "outputs": [],
   "source": [
    "N = Network(STATIONS_FILENAME, RAILWAY_FILENAME , env)"
   ]
  },
  {
   "cell_type": "code",
   "execution_count": 7,
   "metadata": {},
   "outputs": [],
   "source": [
    "#utility function\n",
    "def update_graph (env , interval):\n",
    "    '''\n",
    "    This function will simulate the whole process on a GUI\n",
    "    This function is going to be used as the process\n",
    "    @parameters\n",
    "    env : simpy environment\n",
    "    total_time : total time for the simulation\n",
    "    '''\n",
    "    fig = plt.figure(figsize = (6 , 6))\n",
    "    ax = fig.add_subplot(111)\n",
    "    fig.show()\n",
    "    fig.canvas.draw()\n",
    "    \n",
    "    while True:\n",
    "        #Draw graph\n",
    "        \n",
    "        N.draw_railway_network(ax  = ax , suppress_station_info= False , \n",
    "                               suppress_track_info= False , suppress_edge_label=False)\n",
    "\n",
    "        #yield interval time\n",
    "        yield env.timeout(interval)\n",
    "        time.sleep(0.5)\n",
    "        \n",
    "        #log info\n",
    "        #logger.info(\"Time : {} Updating Graph\".format(env.now))\n",
    "        plt.title(\"Time {}\".format(env.now))\n",
    "        \n",
    "        #Paint the canvas\n",
    "        fig.canvas.draw()"
   ]
  },
  {
   "cell_type": "code",
   "execution_count": 8,
   "metadata": {},
   "outputs": [],
   "source": [
    "def read_trains(filename):\n",
    "    \n",
    "    '''\n",
    "    Reads the trains and put them in the list from the given filename\n",
    "    '''\n",
    "    trains = []\n",
    "    with open(filename) as f:\n",
    "        \n",
    "        while True:\n",
    "            line = f.readline().strip().split()\n",
    "            \n",
    "            if len(line) == 4:\n",
    "                name , speed , priority, route_len = line[0] , int(line[1]) , int(line[2]) , int(line[3])\n",
    "\n",
    "                #Read the route\n",
    "                route = []\n",
    "                for _ in range(route_len):\n",
    "                    line = f.readline().strip().split()\n",
    "                    route.append((line[0] , int(line[1]) , int(line[2]) ))\n",
    "                \n",
    "                line = f.readline().strip().split()\n",
    "                #Create train instance and append it to the list\n",
    "                log_filename = \"Logs/\" + name + \".log\"\n",
    "                \n",
    "                logger = setup_logger(name , log_filename)\n",
    "                train = Train (name , speed , priority , route , env , N , logger)\n",
    "                trains.append(train)\n",
    "            else:\n",
    "                break\n",
    "    return trains\n",
    "        "
   ]
  },
  {
   "cell_type": "code",
   "execution_count": 9,
   "metadata": {},
   "outputs": [],
   "source": [
    "def deadlock_detection_process (env):\n",
    "    '''\n",
    "    For creating deadlock detection process\n",
    "    '''\n",
    "    global DEADLOCK\n",
    "    while True:\n",
    "        \n",
    "        #Invoke this deadlock process after every 20 iterations\n",
    "        \n",
    "        yield env.timeout(20)\n",
    "        logger.info(\"Time : {} Checking Deadlock\".format(env.now))\n",
    "        DEADLOCK , _ = deadlock_detection(N , trains)\n",
    "        \n"
   ]
  },
  {
   "cell_type": "code",
   "execution_count": 10,
   "metadata": {},
   "outputs": [],
   "source": [
    "def run_simulation (trains , total_time):\n",
    "    \n",
    "    '''\n",
    "    Takes the train and total_time for simulation and run it    \n",
    "    '''\n",
    "    for t in trains:\n",
    "        proc = env.process(t.move_train_simulate(env))\n",
    "\n",
    "    sim_proc = env.process(update_graph(env , 1))\n",
    "    env.run(until =total_time)"
   ]
  },
  {
   "cell_type": "code",
   "execution_count": 11,
   "metadata": {
    "scrolled": false
   },
   "outputs": [],
   "source": [
    "trains = read_trains(TRAINS_FILENAME)"
   ]
  },
  {
   "cell_type": "code",
   "execution_count": 12,
   "metadata": {},
   "outputs": [],
   "source": [
    "name_train_map = {}                #Map from train name to train object; note key can be changed to train_id \n",
    "for t in trains:\n",
    "    name_train_map[t.name] = t"
   ]
  },
  {
   "cell_type": "code",
   "execution_count": 13,
   "metadata": {},
   "outputs": [],
   "source": [
    "logger = setup_logger(\"main_log_file\" ,\"Logs/log.log\")"
   ]
  },
  {
   "cell_type": "code",
   "execution_count": 14,
   "metadata": {},
   "outputs": [],
   "source": [
    "def choose_action_simulate (env):\n",
    "    \n",
    "    '''\n",
    "    This function will choose the action for the trains that need action at the\n",
    "    particular simulation time\n",
    "    \n",
    "    This will not check if the move is valid or not.\n",
    "    In case of invalid moves, train will wait till the resource is freed.\n",
    "    '''\n",
    "    \n",
    "    global TRAINS_NEEDING_ACTION\n",
    "    actions = ['move' , 'wait']\n",
    "    \n",
    "    while True :\n",
    "        #This line is extremely important\n",
    "        #As this line will wait for all the events upto this current simulation point to complete first\n",
    "        #and then this will execute\n",
    "        for _ in range(4*len(trains)):\n",
    "            yield env.timeout(0)\n",
    "        \n",
    "        #Check if the trains need action\n",
    "        if (len(TRAINS_NEEDING_ACTION) == 0):\n",
    "            yield env.timeout(1)\n",
    "        \n",
    "        else:\n",
    "            \n",
    "            #Pick the train that needs the action mose\n",
    "            #TODO : choose the train that needs action based on the heuristic\n",
    "            time , name = TRAINS_NEEDING_ACTION[0]\n",
    "            t = name_train_map[name]\n",
    "        \n",
    "            #Pick the action\n",
    "            action = np.random.choice(actions , 1 , p = [0.5 , 0.5])          \n",
    "        \n",
    "            #Create the process that completes the action\n",
    "            env.process(t.act_simulate(env , action))\n",
    "            \n",
    "            #Remove the name of the train from the list\n",
    "            TRAINS_NEEDING_ACTION.remove((time,  name) )\n",
    "            \n",
    "            "
   ]
  },
  {
   "cell_type": "code",
   "execution_count": 15,
   "metadata": {},
   "outputs": [],
   "source": [
    "def choose_action (env):\n",
    "    \n",
    "    '''\n",
    "    This function will choose the action for the trains that need action at the\n",
    "    particular simulation time\n",
    "    \n",
    "    This will also check if the move is valid or not.\n",
    "    '''\n",
    "    \n",
    "    global TRAINS_NEEDING_ACTION\n",
    "    actions = ['move' , 'wait']\n",
    "    \n",
    "    while True :\n",
    "        #This line is extremely important\n",
    "        #As this line will wait for all the events upto this current simulation point to complete first\n",
    "        #and then this will execute\n",
    "        for _ in range(4*len(trains)):\n",
    "            yield env.timeout(0)\n",
    "        \n",
    "        #Check if the trains need action\n",
    "        if (len(TRAINS_NEEDING_ACTION) == 0):\n",
    "            yield env.timeout(1)\n",
    "        \n",
    "        else:\n",
    "            \n",
    "            #Pick the train that needs the action most\n",
    "            #TODO : choose the train that needs action based on the heuristic\n",
    "            time ,name = pick_most_suitable_action(name_train_map , N , env)\n",
    "            t = name_train_map[name]\n",
    "        \n",
    "            #Pick the action\n",
    "            action = np.random.choice(actions , 1 , p = [1 , 0])          \n",
    "        \n",
    "            #if the action is to move, then check if move is valid or not\n",
    "            #if not : then implement the wait move\n",
    "            if not (t.is_move_valid(env)):\n",
    "                action = 'wait'\n",
    "                \n",
    "            \n",
    "            \n",
    "            #Create the process that completes the action\n",
    "            env.process(t.act_simulate(env , action))\n",
    "            \n",
    "            #Remove the name of the train from the list\n",
    "            TRAINS_NEEDING_ACTION.remove((time,  name) )\n",
    "            \n",
    "            "
   ]
  },
  {
   "cell_type": "code",
   "execution_count": 16,
   "metadata": {},
   "outputs": [],
   "source": [
    "# sim_proc = env.process(update_graph(env , 1))\n",
    "dead_proc = env.process(deadlock_detection_process(env))\n",
    "\n",
    "for t in trains:\n",
    "    proc = env.process(t.put_train_on_track(env))\n",
    "    \n",
    "proc_act = env.process(choose_action(env))"
   ]
  },
  {
   "cell_type": "code",
   "execution_count": 17,
   "metadata": {
    "scrolled": false
   },
   "outputs": [
    {
     "name": "stdout",
     "output_type": "stream",
     "text": [
      "[('Train001', 'Alpha', 0, 1), ('Train002', 'Alpha', 0, 1), ('Train003', 'Alpha', 0, 1), ('Train004', 'Alpha', 0, 1), ('Train011', 'Echo', 0, 1), ('Train012', 'Echo', 0, 1), ('Train013', 'Echo', 0, 1), ('Train014', 'Echo', 0, 1)]\n"
     ]
    },
    {
     "ename": "KeyError",
     "evalue": "'_'",
     "output_type": "error",
     "traceback": [
      "\u001b[0;31m---------------------------------------------------------------------------\u001b[0m",
      "\u001b[0;31mKeyError\u001b[0m                                  Traceback (most recent call last)",
      "\u001b[0;32m<ipython-input-15-7b6feba62d88>\u001b[0m in \u001b[0;36mchoose_action\u001b[0;34m(env)\u001b[0m\n\u001b[1;32m     27\u001b[0m             \u001b[0;31m#TODO : choose the train that needs action based on the heuristic\u001b[0m\u001b[0;34m\u001b[0m\u001b[0;34m\u001b[0m\u001b[0m\n\u001b[0;32m---> 28\u001b[0;31m             \u001b[0mtime\u001b[0m \u001b[0;34m,\u001b[0m\u001b[0mname\u001b[0m \u001b[0;34m=\u001b[0m \u001b[0mpick_most_suitable_action\u001b[0m\u001b[0;34m(\u001b[0m\u001b[0mname_train_map\u001b[0m \u001b[0;34m,\u001b[0m \u001b[0mN\u001b[0m \u001b[0;34m,\u001b[0m \u001b[0menv\u001b[0m\u001b[0;34m)\u001b[0m\u001b[0;34m\u001b[0m\u001b[0m\n\u001b[0m\u001b[1;32m     29\u001b[0m             \u001b[0mt\u001b[0m \u001b[0;34m=\u001b[0m \u001b[0mname_train_map\u001b[0m\u001b[0;34m[\u001b[0m\u001b[0mname\u001b[0m\u001b[0;34m]\u001b[0m\u001b[0;34m\u001b[0m\u001b[0m\n",
      "\u001b[0;32m~/study/BTP/rail_simulator/utility.py\u001b[0m in \u001b[0;36mpick_most_suitable_action\u001b[0;34m(name_train_map, N, env)\u001b[0m\n\u001b[1;32m    378\u001b[0m             \u001b[0;32mfor\u001b[0m \u001b[0mtrain_running\u001b[0m \u001b[0;32min\u001b[0m \u001b[0mstation\u001b[0m\u001b[0;34m.\u001b[0m\u001b[0mtrain_running\u001b[0m\u001b[0;34m:\u001b[0m\u001b[0;34m\u001b[0m\u001b[0m\n\u001b[0;32m--> 379\u001b[0;31m                 \u001b[0mpriority\u001b[0m \u001b[0;34m=\u001b[0m \u001b[0mmin\u001b[0m \u001b[0;34m(\u001b[0m\u001b[0mpriority\u001b[0m \u001b[0;34m,\u001b[0m \u001b[0mname_train_map\u001b[0m\u001b[0;34m[\u001b[0m\u001b[0mtrain_running\u001b[0m\u001b[0;34m]\u001b[0m\u001b[0;34m.\u001b[0m\u001b[0mpriority\u001b[0m \u001b[0;34m)\u001b[0m\u001b[0;34m\u001b[0m\u001b[0m\n\u001b[0m\u001b[1;32m    380\u001b[0m \u001b[0;34m\u001b[0m\u001b[0m\n",
      "\u001b[0;31mKeyError\u001b[0m: '_'",
      "\nThe above exception was the direct cause of the following exception:\n",
      "\u001b[0;31mKeyError\u001b[0m                                  Traceback (most recent call last)",
      "\u001b[0;32m<ipython-input-17-b96d4f869d48>\u001b[0m in \u001b[0;36m<module>\u001b[0;34m()\u001b[0m\n\u001b[1;32m     11\u001b[0m \u001b[0;34m\u001b[0m\u001b[0m\n\u001b[1;32m     12\u001b[0m     \u001b[0;31m#Run the simulation\u001b[0m\u001b[0;34m\u001b[0m\u001b[0;34m\u001b[0m\u001b[0m\n\u001b[0;32m---> 13\u001b[0;31m     \u001b[0menv\u001b[0m\u001b[0;34m.\u001b[0m\u001b[0mrun\u001b[0m\u001b[0;34m(\u001b[0m\u001b[0muntil\u001b[0m \u001b[0;34m=\u001b[0m \u001b[0mCURRENT_SIMULATION_TIME\u001b[0m\u001b[0;34m)\u001b[0m\u001b[0;34m\u001b[0m\u001b[0m\n\u001b[0m\u001b[1;32m     14\u001b[0m \u001b[0;34m\u001b[0m\u001b[0m\n",
      "\u001b[0;32m~/anaconda3/lib/python3.6/site-packages/simpy/core.py\u001b[0m in \u001b[0;36mrun\u001b[0;34m(self, until)\u001b[0m\n\u001b[1;32m    136\u001b[0m         \u001b[0;32mtry\u001b[0m\u001b[0;34m:\u001b[0m\u001b[0;34m\u001b[0m\u001b[0m\n\u001b[1;32m    137\u001b[0m             \u001b[0;32mwhile\u001b[0m \u001b[0;32mTrue\u001b[0m\u001b[0;34m:\u001b[0m\u001b[0;34m\u001b[0m\u001b[0m\n\u001b[0;32m--> 138\u001b[0;31m                 \u001b[0mself\u001b[0m\u001b[0;34m.\u001b[0m\u001b[0mstep\u001b[0m\u001b[0;34m(\u001b[0m\u001b[0;34m)\u001b[0m\u001b[0;34m\u001b[0m\u001b[0m\n\u001b[0m\u001b[1;32m    139\u001b[0m         \u001b[0;32mexcept\u001b[0m \u001b[0mStopSimulation\u001b[0m \u001b[0;32mas\u001b[0m \u001b[0mexc\u001b[0m\u001b[0;34m:\u001b[0m\u001b[0;34m\u001b[0m\u001b[0m\n\u001b[1;32m    140\u001b[0m             \u001b[0;32mreturn\u001b[0m \u001b[0mexc\u001b[0m\u001b[0;34m.\u001b[0m\u001b[0margs\u001b[0m\u001b[0;34m[\u001b[0m\u001b[0;36m0\u001b[0m\u001b[0;34m]\u001b[0m  \u001b[0;31m# == until.value\u001b[0m\u001b[0;34m\u001b[0m\u001b[0m\n",
      "\u001b[0;32m~/anaconda3/lib/python3.6/site-packages/simpy/core.py\u001b[0m in \u001b[0;36mstep\u001b[0;34m(self)\u001b[0m\n\u001b[1;32m    228\u001b[0m             \u001b[0mexc\u001b[0m \u001b[0;34m=\u001b[0m \u001b[0mtype\u001b[0m\u001b[0;34m(\u001b[0m\u001b[0mevent\u001b[0m\u001b[0;34m.\u001b[0m\u001b[0m_value\u001b[0m\u001b[0;34m)\u001b[0m\u001b[0;34m(\u001b[0m\u001b[0;34m*\u001b[0m\u001b[0mevent\u001b[0m\u001b[0;34m.\u001b[0m\u001b[0m_value\u001b[0m\u001b[0;34m.\u001b[0m\u001b[0margs\u001b[0m\u001b[0;34m)\u001b[0m\u001b[0;34m\u001b[0m\u001b[0m\n\u001b[1;32m    229\u001b[0m             \u001b[0mexc\u001b[0m\u001b[0;34m.\u001b[0m\u001b[0m__cause__\u001b[0m \u001b[0;34m=\u001b[0m \u001b[0mevent\u001b[0m\u001b[0;34m.\u001b[0m\u001b[0m_value\u001b[0m\u001b[0;34m\u001b[0m\u001b[0m\n\u001b[0;32m--> 230\u001b[0;31m             \u001b[0;32mraise\u001b[0m \u001b[0mexc\u001b[0m\u001b[0;34m\u001b[0m\u001b[0m\n\u001b[0m",
      "\u001b[0;31mKeyError\u001b[0m: '_'"
     ]
    }
   ],
   "source": [
    "for _ in range(TOTAL_SIMULATION_TIME):\n",
    "    \n",
    "    if (DEADLOCK== False):\n",
    "        logger.warning(\"Time : {} Terminating Simulation. Deadlock detected\".format(env.now))\n",
    "        print(\"Terminating Simulation : Deadlock detected\")\n",
    "        break\n",
    "    \n",
    "    \n",
    "    CURRENT_SIMULATION_TIME += 1\n",
    "    \n",
    "    \n",
    "    #Run the simulation\n",
    "    env.run(until = CURRENT_SIMULATION_TIME)\n",
    "    "
   ]
  },
  {
   "cell_type": "code",
   "execution_count": null,
   "metadata": {},
   "outputs": [],
   "source": [
    "G,train_nodes , station_nodes , track_nodes = create_resource_usage_graph(trains , N)"
   ]
  },
  {
   "cell_type": "code",
   "execution_count": null,
   "metadata": {
    "scrolled": false
   },
   "outputs": [],
   "source": [
    "fig = plt.figure(figsize = (6 , 6))\n",
    "ax = fig.add_subplot(111)\n",
    "draw_network_usage_graph(G,train_nodes , station_nodes , track_nodes, N,ax)"
   ]
  },
  {
   "cell_type": "code",
   "execution_count": null,
   "metadata": {},
   "outputs": [],
   "source": [
    "# TODO\n",
    "'''\n",
    "1. Create a simple train class with all the parameters                                                Done\n",
    "2. Implement the resource facility with the track and the station                                     Done\n",
    "3. Run the single train on the track (without getting worried wether the resource is free or not)     Done  \n",
    "4. Simulate whole thing on graph (single train only)                                                  Done\n",
    "5. Run multiple instances of the train without worrying about the deadlock                            Done\n",
    "   Create action for each train                                                                       Done\n",
    "6. Try to simulate as you want to do in the project i.e. take action from the user.                   Done\n",
    "   Also able to order the train for which to take the action at a particular time \n",
    "   \n",
    "   \n",
    "   \n",
    "7. Try to create deadlock with the trains                                                             Done \n",
    "8. Create the graph for resource usage.                                                               Done  \n",
    "9. Use the standard deadlock detection algorithm for the detection of the algorithm                   Done \n",
    "   Implement the Bank's algorithm for deadlock detection.\n",
    "'''"
   ]
  },
  {
   "cell_type": "code",
   "execution_count": null,
   "metadata": {},
   "outputs": [],
   "source": [
    "'''\n",
    "List of reasons of creating events\n",
    "1. If a train is standing at a station, the event processing time            Can be done by implementing timeout if train arrive early before depart time\n",
    "    corresponds to the earliest time at which the train can depart,          occupancy of next track.\n",
    "    as defined by its minimum halt time at the station and by any           Done\n",
    "    departure time constraints enforced for passenger convenience.\n",
    "\n",
    "2. `If it is running between two stations, the event processing time         Already done   \n",
    "    corresponds to the earliest time at which it can arrive at the          occupancy of next station if move.\n",
    "    next station, as defined by the length of the track and the train       Done\n",
    "    running speed.\n",
    "\n",
    "3. If the train is yet to start, the event processing                       Done\n",
    "    time is the time at which it is expected at the starting station.       \n",
    "'''"
   ]
  },
  {
   "cell_type": "code",
   "execution_count": null,
   "metadata": {
    "scrolled": false
   },
   "outputs": [],
   "source": [
    "#TODO\n",
    "'''\n",
    "Create the actions properly and implement deadlock Avoidance heuristic\n",
    "\n",
    "1. Code the proper list of events. All the three listed above.                                      Done\n",
    "2. Create the proper time table with arrival and departure time of each train at each station.      Done\n",
    "3. Create separate log file for each train.                                                         Done\n",
    "3. Run simulation with the first toy environment (as in the paper).                                 Done\n",
    "4. Label the current set of implementation under Simulation Phase.                                  Done\n",
    "5. Implement the actions properly without actually waiting for the resource.                        Done\n",
    "6. Understand Heuristic that can be used to avoid deadlock.                                         Done\n",
    "7. Move that train that occupies the most congested resource first and then other.                Not Done\n",
    "   If tie break it using priority of each train.\n",
    "   \n",
    "   \n",
    "8. Implement the state vector when action need to be taken.                                       Note Done\n",
    "\n",
    "'''"
   ]
  },
  {
   "cell_type": "code",
   "execution_count": null,
   "metadata": {},
   "outputs": [],
   "source": [
    "avail = np.array([0,0,0])  \n",
    "  \n",
    "# Maximum R that can be allocated  \n",
    "# to processes  \n",
    "maxm = np.array([[0, 1, 0], [4, 0, 2], \n",
    "        [3, 0, 4], [3, 1, 1], \n",
    "        [0, 0, 4]]) \n",
    "\n",
    "# Resources allocated to processes  \n",
    "allot = np.array([[0, 1, 0], [2, 0, 0], \n",
    "         [3, 0, 3], [2, 1, 1], \n",
    "         [0, 0, 2]])  \n",
    "\n",
    "# Check system is in safe state or not  \n",
    "isSafe(avail, maxm, allot)  "
   ]
  },
  {
   "cell_type": "code",
   "execution_count": null,
   "metadata": {},
   "outputs": [],
   "source": [
    "deadlock_detection (N , trains)"
   ]
  },
  {
   "cell_type": "code",
   "execution_count": null,
   "metadata": {},
   "outputs": [],
   "source": [
    "def choose_action_one_train (env, train):\n",
    "    '''\n",
    "    After each unit time: this function will check if the train need the action or not\n",
    "    If yes : this will take the action for the train and check again if it needs action\n",
    "    This keeps on happening\n",
    "    '''\n",
    "    \n",
    "    global TRAINS_NEEDING_ACTION\n",
    "    actions = ['move' , 'wait']\n",
    "    while True:\n",
    "        \n",
    "        #keep on taking the action for the train till it is not present in TRAINS_NEEDING_ACTION\n",
    "        while (train.name in TRAINS_NEEDING_ACTION):\n",
    "            action = np.random.choice(actions , 1 , p = [1 , 0])\n",
    "\n",
    "            #Take the action\n",
    "            yield env.process(t.act(env , action))\n",
    "\n",
    "            #remove the train from the list\n",
    "            TRAINS_NEEDING_ACTION.remove(train.name)\n",
    "        \n",
    "        yield env.timeout(1)\n",
    "        "
   ]
  },
  {
   "cell_type": "code",
   "execution_count": null,
   "metadata": {},
   "outputs": [],
   "source": [
    "def choose_action_temp (env):\n",
    "    #Process the action for the trains in the list    \n",
    "    #randomly take action for each train waiting for action \n",
    "    #We can also order the train for which we are taking the action depending on the situation\n",
    "    global TRAINS_NEEDING_ACTION\n",
    "    actions = ['move' , 'wait']\n",
    "    \n",
    "    temp_trains_needing_action = TRAINS_NEEDING_ACTION\n",
    "    \n",
    "    for name in temp_trains_needing_action:\n",
    "        t = name_train_map[name]\n",
    "        \n",
    "        action = np.random.choice(actions , 1 , p = [1 , 0])          #move with 50% probability\n",
    "        \n",
    "        #Take the action\n",
    "        yield env.process(t.act(env , action))\n",
    "        \n",
    "        #remove the train from the list\n",
    "        TRAINS_NEEDING_ACTION.remove(name)\n",
    "        \n",
    "        "
   ]
  },
  {
   "cell_type": "code",
   "execution_count": null,
   "metadata": {},
   "outputs": [],
   "source": [
    "def choose_action_process(env):\n",
    "    #Choose action\n",
    "    while True:\n",
    "        while (not len(TRAINS_NEEDING_ACTION) == 0 ):\n",
    "            yield env.process(choose_action(env))\n",
    "    \n",
    "        yield env.timeout(1)"
   ]
  },
  {
   "cell_type": "code",
   "execution_count": null,
   "metadata": {},
   "outputs": [],
   "source": []
  }
 ],
 "metadata": {
  "kernelspec": {
   "display_name": "Python 3",
   "language": "python",
   "name": "python3"
  },
  "language_info": {
   "codemirror_mode": {
    "name": "ipython",
    "version": 3
   },
   "file_extension": ".py",
   "mimetype": "text/x-python",
   "name": "python",
   "nbconvert_exporter": "python",
   "pygments_lexer": "ipython3",
   "version": "3.6.5"
  }
 },
 "nbformat": 4,
 "nbformat_minor": 2
}
