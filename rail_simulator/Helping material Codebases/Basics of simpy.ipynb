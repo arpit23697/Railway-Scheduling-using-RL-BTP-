{
 "cells": [
  {
   "cell_type": "code",
   "execution_count": 1,
   "metadata": {},
   "outputs": [],
   "source": [
    "import simpy"
   ]
  },
  {
   "cell_type": "code",
   "execution_count": 2,
   "metadata": {},
   "outputs": [],
   "source": [
    "'''\n",
    "Car is a process\n",
    "After parking, it will yield the tiemout event and signal the simulation that the process wants\n",
    "to wait for that event to occur\n",
    "Once the event occurs the process will resume the operation\n",
    "\n",
    "It takes the env as the input to indicate that car is the process in this env\n",
    "'''\n",
    "def car (env):\n",
    "    while (True):\n",
    "        print(\"Car starting at %d\" % env.now)\n",
    "        parking_duration = 5\n",
    "        yield env.timeout(parking_duration)\n",
    "        \n",
    "        print('Start driving at %d' % env.now)\n",
    "        trip_duration = 2\n",
    "        yield env.timeout(trip_duration)"
   ]
  },
  {
   "cell_type": "code",
   "execution_count": 3,
   "metadata": {},
   "outputs": [
    {
     "name": "stdout",
     "output_type": "stream",
     "text": [
      "Car starting at 0\n",
      "Start driving at 5\n",
      "Car starting at 7\n",
      "Start driving at 12\n",
      "Car starting at 14\n"
     ]
    }
   ],
   "source": [
    "env = simpy.Environment()\n",
    "env.process(car(env))                #making the car as the process \n",
    "                                     #creating the instance of the process\n",
    "env.run(until = 15)                  #running the envirionment for 15 timesteps"
   ]
  },
  {
   "cell_type": "code",
   "execution_count": 4,
   "metadata": {},
   "outputs": [],
   "source": [
    "#creating two differenct processes and then calling it\n",
    "def proc1 (env):\n",
    "    while (True):\n",
    "        print (\"Process 1 is invoked at {}\".format(env.now))\n",
    "        yield env.timeout(2)\n",
    "\n",
    "def proc2 (env):\n",
    "    while (True):\n",
    "        print (\"Process 2 is invoked at {}\".format(env.now))\n",
    "        yield env.timeout(3)"
   ]
  },
  {
   "cell_type": "code",
   "execution_count": 5,
   "metadata": {},
   "outputs": [
    {
     "name": "stdout",
     "output_type": "stream",
     "text": [
      "Process 1 is invoked at 0\n",
      "Process 2 is invoked at 0\n",
      "Process 1 is invoked at 2\n",
      "Process 2 is invoked at 3\n",
      "Process 1 is invoked at 4\n",
      "Process 2 is invoked at 6\n",
      "Process 1 is invoked at 6\n",
      "Process 1 is invoked at 8\n",
      "Process 2 is invoked at 9\n",
      "Process 1 is invoked at 10\n",
      "Process 2 is invoked at 12\n",
      "Process 1 is invoked at 12\n",
      "Process 1 is invoked at 14\n"
     ]
    }
   ],
   "source": [
    "env = simpy.Environment()\n",
    "env.process (proc1(env))\n",
    "env.process (proc2(env))\n",
    "env.run(until= 15)"
   ]
  },
  {
   "cell_type": "markdown",
   "metadata": {},
   "source": [
    "# Process Interaction"
   ]
  },
  {
   "cell_type": "code",
   "execution_count": 6,
   "metadata": {},
   "outputs": [],
   "source": [
    "'''\n",
    "Car object is created \n",
    "There are two processes in the car class : run , charge\n",
    "\n",
    "When the car object is created then the run process is automatically created\n",
    "A new charge process is started every time the vehicle starts parking. \n",
    "By yielding the Process instance that Environment.process() returns, the run process starts waiting for it to finish\n",
    "\n",
    "'''\n",
    "class Car(object):\n",
    "    def __init__(self, env):\n",
    "        #Car object have the env instance in which it is instantiated\n",
    "        self.env = env\n",
    "        # Start the run process everytime an instance is created.\n",
    "        self.action = env.process(self.run())\n",
    "    def run(self):\n",
    "        while True:\n",
    "            print('Start parking and charging at %d' % self.env.now)\n",
    "            charge_duration = 5\n",
    "            # We yield the process that process() returns\n",
    "            # to wait for it to finish\n",
    "            try : \n",
    "                yield self.env.process(self.charge(charge_duration))\n",
    "            except simpy.Interrupt:\n",
    "                print(\"Was interrupted. Hope , the battery is full enough ...\")\n",
    "            # The charge process has finished and\n",
    "            # we can start driving again.\n",
    "            print('Start driving at %d' % self.env.now)\n",
    "            trip_duration = 2\n",
    "            yield self.env.timeout(trip_duration)\n",
    "    def charge(self, duration):\n",
    "        yield self.env.timeout(duration)"
   ]
  },
  {
   "cell_type": "code",
   "execution_count": 7,
   "metadata": {},
   "outputs": [],
   "source": [
    "def driver (env, car):\n",
    "    yield env.timeout(3)\n",
    "    car.action.interrupt()"
   ]
  },
  {
   "cell_type": "code",
   "execution_count": 9,
   "metadata": {},
   "outputs": [
    {
     "name": "stdout",
     "output_type": "stream",
     "text": [
      "Start parking and charging at 0\n",
      "Was interrupted. Hope , the battery is full enough ...\n",
      "Start driving at 3\n",
      "Start parking and charging at 5\n",
      "Start driving at 10\n",
      "Start parking and charging at 12\n",
      "Start driving at 17\n",
      "Start parking and charging at 19\n"
     ]
    }
   ],
   "source": [
    "#running the instance\n",
    "env = simpy.Environment()\n",
    "car = Car(env)\n",
    "env.process(driver(env , car))\n",
    "env.run(until = 20)"
   ]
  },
  {
   "cell_type": "markdown",
   "metadata": {},
   "source": [
    "# Resource Usage"
   ]
  },
  {
   "cell_type": "code",
   "execution_count": 10,
   "metadata": {},
   "outputs": [],
   "source": [
    "def car_resource(env, name, bcs, driving_time, charge_duration):\n",
    "    # Simulate driving to the BCS\n",
    "    yield env.timeout(driving_time)\n",
    "    # Request one of its charging spots\n",
    "    print('%s arriving at %d' % (name, env.now))\n",
    "    with bcs.request() as req:\n",
    "        yield req\n",
    "        # Charge the battery\n",
    "        print('%s starting to charge at %s' % (name, env.now))\n",
    "        yield env.timeout(charge_duration)\n",
    "        print('%s leaving the bcs at %s' % (name, env.now))"
   ]
  },
  {
   "cell_type": "code",
   "execution_count": 11,
   "metadata": {},
   "outputs": [],
   "source": [
    "env = simpy.Environment()\n",
    "bcs = simpy.Resource(env, capacity = 2 )"
   ]
  },
  {
   "cell_type": "code",
   "execution_count": 12,
   "metadata": {},
   "outputs": [],
   "source": [
    "#create 4 processes car_resource\n",
    "#All of them drive first and then try to acquire the resource\n",
    "for i in range (4):\n",
    "    env.process(car_resource(env, 'Car %d' %i , bcs , i * 2 , 5))"
   ]
  },
  {
   "cell_type": "code",
   "execution_count": 13,
   "metadata": {},
   "outputs": [
    {
     "name": "stdout",
     "output_type": "stream",
     "text": [
      "Car 0 arriving at 0\n",
      "Car 0 starting to charge at 0\n",
      "Car 1 arriving at 2\n",
      "Car 1 starting to charge at 2\n",
      "Car 2 arriving at 4\n",
      "Car 0 leaving the bcs at 5\n",
      "Car 2 starting to charge at 5\n",
      "Car 3 arriving at 6\n",
      "Car 1 leaving the bcs at 7\n",
      "Car 3 starting to charge at 7\n",
      "Car 2 leaving the bcs at 10\n",
      "Car 3 leaving the bcs at 12\n"
     ]
    }
   ],
   "source": [
    "env.run()"
   ]
  },
  {
   "cell_type": "code",
   "execution_count": null,
   "metadata": {},
   "outputs": [],
   "source": []
  }
 ],
 "metadata": {
  "kernelspec": {
   "display_name": "Python 3",
   "language": "python",
   "name": "python3"
  },
  "language_info": {
   "codemirror_mode": {
    "name": "ipython",
    "version": 3
   },
   "file_extension": ".py",
   "mimetype": "text/x-python",
   "name": "python",
   "nbconvert_exporter": "python",
   "pygments_lexer": "ipython3",
   "version": "3.6.5"
  }
 },
 "nbformat": 4,
 "nbformat_minor": 2
}
