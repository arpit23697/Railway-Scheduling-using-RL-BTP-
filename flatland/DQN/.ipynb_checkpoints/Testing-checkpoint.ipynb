{
 "cells": [
  {
   "cell_type": "code",
   "execution_count": 1,
   "metadata": {},
   "outputs": [
    {
     "name": "stdout",
     "output_type": "stream",
     "text": [
      "cpu\n"
     ]
    }
   ],
   "source": [
    "import getopt\n",
    "import random\n",
    "import sys\n",
    "import time\n",
    "from collections import deque\n",
    "# make sure the root path is in system path\n",
    "from pathlib import Path\n",
    "\n",
    "from flatland.envs.malfunction_generators import malfunction_from_params\n",
    "# base_dir = Path(__file__).resolve().parent.parent\n",
    "# sys.path.append(str(base_dir))\n",
    "\n",
    "import matplotlib.pyplot as plt\n",
    "import numpy as np\n",
    "import torch\n",
    "from double_duelling_dqn import Agent\n",
    "from observation_utils import normalize_observation\n",
    "\n",
    "from flatland.envs.rail_generators import complex_rail_generator, rail_from_manual_specifications_generator, random_rail_generator , sparse_rail_generator\n",
    "from flatland.envs.schedule_generators import complex_schedule_generator, sparse_schedule_generator\n",
    "from flatland.envs.rail_env import RailEnv\n",
    "from flatland.utils.rendertools import RenderTool\n",
    "from flatland.envs.observations import TreeObsForRailEnv,GlobalObsForRailEnv,LocalObsForRailEnv\n",
    "from flatland.envs.predictions import ShortestPathPredictorForRailEnv\n",
    "from flatland.utils.ordered_set import OrderedSet\n",
    "from flatland.core.grid.grid4_utils import get_new_position"
   ]
  },
  {
   "cell_type": "code",
   "execution_count": 9,
   "metadata": {},
   "outputs": [],
   "source": [
    "Global_observations = GlobalObsForRailEnv()\n",
    "Tree_observations = TreeObsForRailEnv(max_depth=2)"
   ]
  },
  {
   "cell_type": "code",
   "execution_count": 3,
   "metadata": {},
   "outputs": [],
   "source": [
    "# random.seed(1000)\n",
    "# np.random.seed(1000)"
   ]
  },
  {
   "cell_type": "code",
   "execution_count": 4,
   "metadata": {},
   "outputs": [],
   "source": [
    "def environment1 ():\n",
    "    transition_probability = [1.0,  # empty cell - Case 0\n",
    "                          1.0,  # Case 1 - straight\n",
    "                          1.0,  # Case 2 - simple switch\n",
    "                          0.3,  # Case 3 - diamond drossing\n",
    "                          0.5,  # Case 4 - single slip\n",
    "                          0.5,  # Case 5 - double slip\n",
    "                          0.2,  # Case 6 - symmetrical\n",
    "                          0.0,  # Case 7 - dead end\n",
    "                          0.2,  # Case 8 - turn left\n",
    "                          0.2,  # Case 9 - turn right\n",
    "                          1.0]  # Case 10 - mirrored switch\n",
    "\n",
    "    # Example generate a random rail\n",
    "    env = RailEnv(width=10,\n",
    "                  height=10,\n",
    "                  rail_generator=random_rail_generator(\n",
    "                            cell_type_relative_proportion=transition_probability\n",
    "                            ),\n",
    "                  number_of_agents=1,\n",
    "                  obs_builder_object= Tree_observations )\n",
    "    return env"
   ]
  },
  {
   "cell_type": "code",
   "execution_count": 5,
   "metadata": {},
   "outputs": [],
   "source": [
    "def environment2 ():\n",
    " #fix the randomness\n",
    "\n",
    "#     random.seed(10)\n",
    "#     np.random.seed(10)\n",
    "\n",
    "    x_dim = 35\n",
    "    y_dim = 35\n",
    "    n_agents = 1\n",
    "\n",
    "    stochastic_data = {'malfunction_rate': 8000,  # Rate of malfunction occurence of single agent\n",
    "                       'min_duration': 15,  # Minimal duration of malfunction\n",
    "                       'max_duration': 50  # Max duration of malfunction\n",
    "                       }\n",
    "\n",
    "    TreeObservation = TreeObsForRailEnv(max_depth=2)\n",
    "    speed_ration_map = {1.: 0.,  # Fast passenger train\n",
    "                        1. / 2.: 1.0,  # Fast freight train\n",
    "                        1. / 3.: 0.0,  # Slow commuter train\n",
    "                        1. / 4.: 0.0}  # Slow freight train\n",
    "    \n",
    "    env = RailEnv(width=x_dim,\n",
    "                  height=y_dim,\n",
    "                  rail_generator=sparse_rail_generator(max_num_cities=5,\n",
    "                                                       # Number of cities in map (where train stations are)\n",
    "                                                       seed=1,  # Random seed\n",
    "                                                       grid_mode=False,\n",
    "                                                       max_rails_between_cities=2,\n",
    "                                                       max_rails_in_city=3),\n",
    "                  schedule_generator=sparse_schedule_generator(),\n",
    "                  number_of_agents=n_agents,\n",
    "                  malfunction_generator_and_process_data=malfunction_from_params(stochastic_data),\n",
    "                  # Malfunction data generator\n",
    "                  obs_builder_object=TreeObservation)\n",
    "\n",
    "    return env    "
   ]
  },
  {
   "cell_type": "code",
   "execution_count": 6,
   "metadata": {},
   "outputs": [],
   "source": [
    "env = environment2()\n",
    "env_renderer = RenderTool(env, gl=\"PILSVG\", )\n",
    "obs , info = env.reset()\n",
    "\n",
    "num_features_per_node = env.obs_builder.observation_dim\n",
    "tree_depth = 2\n",
    "nr_nodes = 0\n",
    "for i in range(tree_depth + 1):\n",
    "    nr_nodes += np.power(4, i)\n",
    "state_size = num_features_per_node * nr_nodes\n",
    "\n",
    "# The action space of flatland is 5 discrete actions\n",
    "action_size = 5\n",
    "\n",
    "# And the max number of steps we want to take per episode\n",
    "max_steps = int(3 * (env.height + env.width))\n",
    "eps = 0.01\n",
    "\n",
    "agent = Agent(state_size, action_size)"
   ]
  },
  {
   "cell_type": "code",
   "execution_count": 7,
   "metadata": {},
   "outputs": [],
   "source": [
    "agent.load(\"Nets/checkpoint_env1\")"
   ]
  },
  {
   "cell_type": "code",
   "execution_count": 8,
   "metadata": {},
   "outputs": [
    {
     "name": "stderr",
     "output_type": "stream",
     "text": [
      "/home/arpit/anaconda3/envs/IA/lib/python3.7/site-packages/flatland/utils/rendertools.py:313: UserWarning: Predictor did not provide any predicted cells to render.                 Predictors builder needs to populate: env.dev_pred_dict\n",
      "  Predictors builder needs to populate: env.dev_pred_dict\")\n"
     ]
    }
   ],
   "source": [
    "_done = False\n",
    "total_reward =0 \n",
    "for _ in range(max_steps):\n",
    "    \n",
    "    _action = {}\n",
    "    for a in range(env.get_num_agents()):\n",
    "        if ( info['action_required'][a]):\n",
    "            state = normalize_observation(obs[a], tree_depth, observation_radius=10)\n",
    "            _action[a] =  agent.act(state, eps=eps)\n",
    "            \n",
    "        else:\n",
    "            _action[a] = 0\n",
    "    obs, all_rewards, done, info = env.step(_action)\n",
    "    total_reward += all_rewards[0]\n",
    "    _done = done['__all__']\n",
    "    env_renderer.render_env(show=True , frames = True , show_observations = True , show_predictions=True )\n",
    "    time.sleep(0.3)\n",
    "    \n",
    "    if (_done == True):\n",
    "        break"
   ]
  },
  {
   "cell_type": "code",
   "execution_count": 9,
   "metadata": {},
   "outputs": [],
   "source": [
    "env_renderer.close_window()"
   ]
  },
  {
   "cell_type": "code",
   "execution_count": null,
   "metadata": {},
   "outputs": [],
   "source": []
  },
  {
   "cell_type": "code",
   "execution_count": null,
   "metadata": {},
   "outputs": [],
   "source": []
  }
 ],
 "metadata": {
  "kernelspec": {
   "display_name": "Python 3",
   "language": "python",
   "name": "python3"
  },
  "language_info": {
   "codemirror_mode": {
    "name": "ipython",
    "version": 3
   },
   "file_extension": ".py",
   "mimetype": "text/x-python",
   "name": "python",
   "nbconvert_exporter": "python",
   "pygments_lexer": "ipython3",
   "version": "3.7.4"
  }
 },
 "nbformat": 4,
 "nbformat_minor": 2
}
