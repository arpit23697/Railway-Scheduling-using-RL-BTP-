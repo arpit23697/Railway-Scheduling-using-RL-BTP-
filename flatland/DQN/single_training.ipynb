{
 "cells": [
  {
   "cell_type": "code",
   "execution_count": 1,
   "metadata": {},
   "outputs": [
    {
     "name": "stdout",
     "output_type": "stream",
     "text": [
      "cpu\n"
     ]
    }
   ],
   "source": [
    "import getopt\n",
    "import random\n",
    "import sys\n",
    "import time\n",
    "from collections import deque\n",
    "# make sure the root path is in system path\n",
    "from pathlib import Path\n",
    "\n",
    "from flatland.envs.malfunction_generators import malfunction_from_params\n",
    "# base_dir = Path(__file__).resolve().parent.parent\n",
    "# sys.path.append(str(base_dir))\n",
    "\n",
    "import matplotlib.pyplot as plt\n",
    "import numpy as np\n",
    "import torch\n",
    "from double_duelling_dqn import Agent\n",
    "from observation_utils import normalize_observation\n",
    "\n",
    "from flatland.envs.rail_generators import complex_rail_generator, rail_from_manual_specifications_generator, random_rail_generator , sparse_rail_generator\n",
    "from flatland.envs.schedule_generators import complex_schedule_generator, sparse_schedule_generator\n",
    "from flatland.envs.rail_env import RailEnv\n",
    "from flatland.utils.rendertools import RenderTool\n",
    "from flatland.envs.observations import TreeObsForRailEnv,GlobalObsForRailEnv,LocalObsForRailEnv\n",
    "from flatland.envs.predictions import ShortestPathPredictorForRailEnv\n",
    "from flatland.utils.ordered_set import OrderedSet\n",
    "from flatland.core.grid.grid4_utils import get_new_position\n",
    "\n"
   ]
  },
  {
   "cell_type": "code",
   "execution_count": 2,
   "metadata": {},
   "outputs": [],
   "source": [
    "%matplotlib notebook\n",
    "plt.ion()"
   ]
  },
  {
   "cell_type": "code",
   "execution_count": 3,
   "metadata": {},
   "outputs": [],
   "source": [
    "Global_observations = GlobalObsForRailEnv()\n",
    "Tree_observations = TreeObsForRailEnv(max_depth=2)"
   ]
  },
  {
   "cell_type": "code",
   "execution_count": 4,
   "metadata": {},
   "outputs": [],
   "source": [
    "def environment1 ():\n",
    "    transition_probability = [1.0,  # empty cell - Case 0\n",
    "                          1.0,  # Case 1 - straight\n",
    "                          1.0,  # Case 2 - simple switch\n",
    "                          0.3,  # Case 3 - diamond drossing\n",
    "                          0.5,  # Case 4 - single slip\n",
    "                          0.5,  # Case 5 - double slip\n",
    "                          0.2,  # Case 6 - symmetrical\n",
    "                          0.0,  # Case 7 - dead end\n",
    "                          0.2,  # Case 8 - turn left\n",
    "                          0.2,  # Case 9 - turn right\n",
    "                          1.0]  # Case 10 - mirrored switch\n",
    "\n",
    "    # Example generate a random rail\n",
    "    env = RailEnv(width=10,\n",
    "                  height=10,\n",
    "                  rail_generator=random_rail_generator(\n",
    "                            cell_type_relative_proportion=transition_probability\n",
    "                            ),\n",
    "                  number_of_agents=1,\n",
    "                  obs_builder_object= Tree_observations )\n",
    "    return env"
   ]
  },
  {
   "cell_type": "code",
   "execution_count": 5,
   "metadata": {},
   "outputs": [],
   "source": [
    "def environment2 ():\n",
    "     #fix the randomness\n",
    "    random.seed(1)\n",
    "    np.random.seed(1)\n",
    "    \n",
    "    x_dim = 35\n",
    "    y_dim = 35\n",
    "    n_agents = 1\n",
    "\n",
    "    stochastic_data = {'malfunction_rate': 8000,  # Rate of malfunction occurence of single agent\n",
    "                       'min_duration': 15,  # Minimal duration of malfunction\n",
    "                       'max_duration': 50  # Max duration of malfunction\n",
    "                       }\n",
    "\n",
    "    TreeObservation = TreeObsForRailEnv(max_depth=2)\n",
    "    speed_ration_map = {1.: 0.,  # Fast passenger train\n",
    "                        1. / 2.: 1.0,  # Fast freight train\n",
    "                        1. / 3.: 0.0,  # Slow commuter train\n",
    "                        1. / 4.: 0.0}  # Slow freight train\n",
    "    \n",
    "    env = RailEnv(width=x_dim,\n",
    "                  height=y_dim,\n",
    "                  rail_generator=sparse_rail_generator(max_num_cities=5,\n",
    "                                                       # Number of cities in map (where train stations are)\n",
    "                                                       seed=1,  # Random seed\n",
    "                                                       grid_mode=False,\n",
    "                                                       max_rails_between_cities=2,\n",
    "                                                       max_rails_in_city=3),\n",
    "                  schedule_generator=sparse_schedule_generator(),\n",
    "                  number_of_agents=n_agents,\n",
    "                  malfunction_generator_and_process_data=malfunction_from_params(stochastic_data),\n",
    "                  # Malfunction data generator\n",
    "                  obs_builder_object=TreeObservation)\n",
    "\n",
    "    return env\n",
    "\n",
    "    "
   ]
  },
  {
   "cell_type": "code",
   "execution_count": 6,
   "metadata": {
    "scrolled": false
   },
   "outputs": [
    {
     "data": {
      "application/javascript": [
       "/* Put everything inside the global mpl namespace */\n",
       "window.mpl = {};\n",
       "\n",
       "\n",
       "mpl.get_websocket_type = function() {\n",
       "    if (typeof(WebSocket) !== 'undefined') {\n",
       "        return WebSocket;\n",
       "    } else if (typeof(MozWebSocket) !== 'undefined') {\n",
       "        return MozWebSocket;\n",
       "    } else {\n",
       "        alert('Your browser does not have WebSocket support. ' +\n",
       "              'Please try Chrome, Safari or Firefox ≥ 6. ' +\n",
       "              'Firefox 4 and 5 are also supported but you ' +\n",
       "              'have to enable WebSockets in about:config.');\n",
       "    };\n",
       "}\n",
       "\n",
       "mpl.figure = function(figure_id, websocket, ondownload, parent_element) {\n",
       "    this.id = figure_id;\n",
       "\n",
       "    this.ws = websocket;\n",
       "\n",
       "    this.supports_binary = (this.ws.binaryType != undefined);\n",
       "\n",
       "    if (!this.supports_binary) {\n",
       "        var warnings = document.getElementById(\"mpl-warnings\");\n",
       "        if (warnings) {\n",
       "            warnings.style.display = 'block';\n",
       "            warnings.textContent = (\n",
       "                \"This browser does not support binary websocket messages. \" +\n",
       "                    \"Performance may be slow.\");\n",
       "        }\n",
       "    }\n",
       "\n",
       "    this.imageObj = new Image();\n",
       "\n",
       "    this.context = undefined;\n",
       "    this.message = undefined;\n",
       "    this.canvas = undefined;\n",
       "    this.rubberband_canvas = undefined;\n",
       "    this.rubberband_context = undefined;\n",
       "    this.format_dropdown = undefined;\n",
       "\n",
       "    this.image_mode = 'full';\n",
       "\n",
       "    this.root = $('<div/>');\n",
       "    this._root_extra_style(this.root)\n",
       "    this.root.attr('style', 'display: inline-block');\n",
       "\n",
       "    $(parent_element).append(this.root);\n",
       "\n",
       "    this._init_header(this);\n",
       "    this._init_canvas(this);\n",
       "    this._init_toolbar(this);\n",
       "\n",
       "    var fig = this;\n",
       "\n",
       "    this.waiting = false;\n",
       "\n",
       "    this.ws.onopen =  function () {\n",
       "            fig.send_message(\"supports_binary\", {value: fig.supports_binary});\n",
       "            fig.send_message(\"send_image_mode\", {});\n",
       "            if (mpl.ratio != 1) {\n",
       "                fig.send_message(\"set_dpi_ratio\", {'dpi_ratio': mpl.ratio});\n",
       "            }\n",
       "            fig.send_message(\"refresh\", {});\n",
       "        }\n",
       "\n",
       "    this.imageObj.onload = function() {\n",
       "            if (fig.image_mode == 'full') {\n",
       "                // Full images could contain transparency (where diff images\n",
       "                // almost always do), so we need to clear the canvas so that\n",
       "                // there is no ghosting.\n",
       "                fig.context.clearRect(0, 0, fig.canvas.width, fig.canvas.height);\n",
       "            }\n",
       "            fig.context.drawImage(fig.imageObj, 0, 0);\n",
       "        };\n",
       "\n",
       "    this.imageObj.onunload = function() {\n",
       "        fig.ws.close();\n",
       "    }\n",
       "\n",
       "    this.ws.onmessage = this._make_on_message_function(this);\n",
       "\n",
       "    this.ondownload = ondownload;\n",
       "}\n",
       "\n",
       "mpl.figure.prototype._init_header = function() {\n",
       "    var titlebar = $(\n",
       "        '<div class=\"ui-dialog-titlebar ui-widget-header ui-corner-all ' +\n",
       "        'ui-helper-clearfix\"/>');\n",
       "    var titletext = $(\n",
       "        '<div class=\"ui-dialog-title\" style=\"width: 100%; ' +\n",
       "        'text-align: center; padding: 3px;\"/>');\n",
       "    titlebar.append(titletext)\n",
       "    this.root.append(titlebar);\n",
       "    this.header = titletext[0];\n",
       "}\n",
       "\n",
       "\n",
       "\n",
       "mpl.figure.prototype._canvas_extra_style = function(canvas_div) {\n",
       "\n",
       "}\n",
       "\n",
       "\n",
       "mpl.figure.prototype._root_extra_style = function(canvas_div) {\n",
       "\n",
       "}\n",
       "\n",
       "mpl.figure.prototype._init_canvas = function() {\n",
       "    var fig = this;\n",
       "\n",
       "    var canvas_div = $('<div/>');\n",
       "\n",
       "    canvas_div.attr('style', 'position: relative; clear: both; outline: 0');\n",
       "\n",
       "    function canvas_keyboard_event(event) {\n",
       "        return fig.key_event(event, event['data']);\n",
       "    }\n",
       "\n",
       "    canvas_div.keydown('key_press', canvas_keyboard_event);\n",
       "    canvas_div.keyup('key_release', canvas_keyboard_event);\n",
       "    this.canvas_div = canvas_div\n",
       "    this._canvas_extra_style(canvas_div)\n",
       "    this.root.append(canvas_div);\n",
       "\n",
       "    var canvas = $('<canvas/>');\n",
       "    canvas.addClass('mpl-canvas');\n",
       "    canvas.attr('style', \"left: 0; top: 0; z-index: 0; outline: 0\")\n",
       "\n",
       "    this.canvas = canvas[0];\n",
       "    this.context = canvas[0].getContext(\"2d\");\n",
       "\n",
       "    var backingStore = this.context.backingStorePixelRatio ||\n",
       "\tthis.context.webkitBackingStorePixelRatio ||\n",
       "\tthis.context.mozBackingStorePixelRatio ||\n",
       "\tthis.context.msBackingStorePixelRatio ||\n",
       "\tthis.context.oBackingStorePixelRatio ||\n",
       "\tthis.context.backingStorePixelRatio || 1;\n",
       "\n",
       "    mpl.ratio = (window.devicePixelRatio || 1) / backingStore;\n",
       "\n",
       "    var rubberband = $('<canvas/>');\n",
       "    rubberband.attr('style', \"position: absolute; left: 0; top: 0; z-index: 1;\")\n",
       "\n",
       "    var pass_mouse_events = true;\n",
       "\n",
       "    canvas_div.resizable({\n",
       "        start: function(event, ui) {\n",
       "            pass_mouse_events = false;\n",
       "        },\n",
       "        resize: function(event, ui) {\n",
       "            fig.request_resize(ui.size.width, ui.size.height);\n",
       "        },\n",
       "        stop: function(event, ui) {\n",
       "            pass_mouse_events = true;\n",
       "            fig.request_resize(ui.size.width, ui.size.height);\n",
       "        },\n",
       "    });\n",
       "\n",
       "    function mouse_event_fn(event) {\n",
       "        if (pass_mouse_events)\n",
       "            return fig.mouse_event(event, event['data']);\n",
       "    }\n",
       "\n",
       "    rubberband.mousedown('button_press', mouse_event_fn);\n",
       "    rubberband.mouseup('button_release', mouse_event_fn);\n",
       "    // Throttle sequential mouse events to 1 every 20ms.\n",
       "    rubberband.mousemove('motion_notify', mouse_event_fn);\n",
       "\n",
       "    rubberband.mouseenter('figure_enter', mouse_event_fn);\n",
       "    rubberband.mouseleave('figure_leave', mouse_event_fn);\n",
       "\n",
       "    canvas_div.on(\"wheel\", function (event) {\n",
       "        event = event.originalEvent;\n",
       "        event['data'] = 'scroll'\n",
       "        if (event.deltaY < 0) {\n",
       "            event.step = 1;\n",
       "        } else {\n",
       "            event.step = -1;\n",
       "        }\n",
       "        mouse_event_fn(event);\n",
       "    });\n",
       "\n",
       "    canvas_div.append(canvas);\n",
       "    canvas_div.append(rubberband);\n",
       "\n",
       "    this.rubberband = rubberband;\n",
       "    this.rubberband_canvas = rubberband[0];\n",
       "    this.rubberband_context = rubberband[0].getContext(\"2d\");\n",
       "    this.rubberband_context.strokeStyle = \"#000000\";\n",
       "\n",
       "    this._resize_canvas = function(width, height) {\n",
       "        // Keep the size of the canvas, canvas container, and rubber band\n",
       "        // canvas in synch.\n",
       "        canvas_div.css('width', width)\n",
       "        canvas_div.css('height', height)\n",
       "\n",
       "        canvas.attr('width', width * mpl.ratio);\n",
       "        canvas.attr('height', height * mpl.ratio);\n",
       "        canvas.attr('style', 'width: ' + width + 'px; height: ' + height + 'px;');\n",
       "\n",
       "        rubberband.attr('width', width);\n",
       "        rubberband.attr('height', height);\n",
       "    }\n",
       "\n",
       "    // Set the figure to an initial 600x600px, this will subsequently be updated\n",
       "    // upon first draw.\n",
       "    this._resize_canvas(600, 600);\n",
       "\n",
       "    // Disable right mouse context menu.\n",
       "    $(this.rubberband_canvas).bind(\"contextmenu\",function(e){\n",
       "        return false;\n",
       "    });\n",
       "\n",
       "    function set_focus () {\n",
       "        canvas.focus();\n",
       "        canvas_div.focus();\n",
       "    }\n",
       "\n",
       "    window.setTimeout(set_focus, 100);\n",
       "}\n",
       "\n",
       "mpl.figure.prototype._init_toolbar = function() {\n",
       "    var fig = this;\n",
       "\n",
       "    var nav_element = $('<div/>');\n",
       "    nav_element.attr('style', 'width: 100%');\n",
       "    this.root.append(nav_element);\n",
       "\n",
       "    // Define a callback function for later on.\n",
       "    function toolbar_event(event) {\n",
       "        return fig.toolbar_button_onclick(event['data']);\n",
       "    }\n",
       "    function toolbar_mouse_event(event) {\n",
       "        return fig.toolbar_button_onmouseover(event['data']);\n",
       "    }\n",
       "\n",
       "    for(var toolbar_ind in mpl.toolbar_items) {\n",
       "        var name = mpl.toolbar_items[toolbar_ind][0];\n",
       "        var tooltip = mpl.toolbar_items[toolbar_ind][1];\n",
       "        var image = mpl.toolbar_items[toolbar_ind][2];\n",
       "        var method_name = mpl.toolbar_items[toolbar_ind][3];\n",
       "\n",
       "        if (!name) {\n",
       "            // put a spacer in here.\n",
       "            continue;\n",
       "        }\n",
       "        var button = $('<button/>');\n",
       "        button.addClass('ui-button ui-widget ui-state-default ui-corner-all ' +\n",
       "                        'ui-button-icon-only');\n",
       "        button.attr('role', 'button');\n",
       "        button.attr('aria-disabled', 'false');\n",
       "        button.click(method_name, toolbar_event);\n",
       "        button.mouseover(tooltip, toolbar_mouse_event);\n",
       "\n",
       "        var icon_img = $('<span/>');\n",
       "        icon_img.addClass('ui-button-icon-primary ui-icon');\n",
       "        icon_img.addClass(image);\n",
       "        icon_img.addClass('ui-corner-all');\n",
       "\n",
       "        var tooltip_span = $('<span/>');\n",
       "        tooltip_span.addClass('ui-button-text');\n",
       "        tooltip_span.html(tooltip);\n",
       "\n",
       "        button.append(icon_img);\n",
       "        button.append(tooltip_span);\n",
       "\n",
       "        nav_element.append(button);\n",
       "    }\n",
       "\n",
       "    var fmt_picker_span = $('<span/>');\n",
       "\n",
       "    var fmt_picker = $('<select/>');\n",
       "    fmt_picker.addClass('mpl-toolbar-option ui-widget ui-widget-content');\n",
       "    fmt_picker_span.append(fmt_picker);\n",
       "    nav_element.append(fmt_picker_span);\n",
       "    this.format_dropdown = fmt_picker[0];\n",
       "\n",
       "    for (var ind in mpl.extensions) {\n",
       "        var fmt = mpl.extensions[ind];\n",
       "        var option = $(\n",
       "            '<option/>', {selected: fmt === mpl.default_extension}).html(fmt);\n",
       "        fmt_picker.append(option);\n",
       "    }\n",
       "\n",
       "    // Add hover states to the ui-buttons\n",
       "    $( \".ui-button\" ).hover(\n",
       "        function() { $(this).addClass(\"ui-state-hover\");},\n",
       "        function() { $(this).removeClass(\"ui-state-hover\");}\n",
       "    );\n",
       "\n",
       "    var status_bar = $('<span class=\"mpl-message\"/>');\n",
       "    nav_element.append(status_bar);\n",
       "    this.message = status_bar[0];\n",
       "}\n",
       "\n",
       "mpl.figure.prototype.request_resize = function(x_pixels, y_pixels) {\n",
       "    // Request matplotlib to resize the figure. Matplotlib will then trigger a resize in the client,\n",
       "    // which will in turn request a refresh of the image.\n",
       "    this.send_message('resize', {'width': x_pixels, 'height': y_pixels});\n",
       "}\n",
       "\n",
       "mpl.figure.prototype.send_message = function(type, properties) {\n",
       "    properties['type'] = type;\n",
       "    properties['figure_id'] = this.id;\n",
       "    this.ws.send(JSON.stringify(properties));\n",
       "}\n",
       "\n",
       "mpl.figure.prototype.send_draw_message = function() {\n",
       "    if (!this.waiting) {\n",
       "        this.waiting = true;\n",
       "        this.ws.send(JSON.stringify({type: \"draw\", figure_id: this.id}));\n",
       "    }\n",
       "}\n",
       "\n",
       "\n",
       "mpl.figure.prototype.handle_save = function(fig, msg) {\n",
       "    var format_dropdown = fig.format_dropdown;\n",
       "    var format = format_dropdown.options[format_dropdown.selectedIndex].value;\n",
       "    fig.ondownload(fig, format);\n",
       "}\n",
       "\n",
       "\n",
       "mpl.figure.prototype.handle_resize = function(fig, msg) {\n",
       "    var size = msg['size'];\n",
       "    if (size[0] != fig.canvas.width || size[1] != fig.canvas.height) {\n",
       "        fig._resize_canvas(size[0], size[1]);\n",
       "        fig.send_message(\"refresh\", {});\n",
       "    };\n",
       "}\n",
       "\n",
       "mpl.figure.prototype.handle_rubberband = function(fig, msg) {\n",
       "    var x0 = msg['x0'] / mpl.ratio;\n",
       "    var y0 = (fig.canvas.height - msg['y0']) / mpl.ratio;\n",
       "    var x1 = msg['x1'] / mpl.ratio;\n",
       "    var y1 = (fig.canvas.height - msg['y1']) / mpl.ratio;\n",
       "    x0 = Math.floor(x0) + 0.5;\n",
       "    y0 = Math.floor(y0) + 0.5;\n",
       "    x1 = Math.floor(x1) + 0.5;\n",
       "    y1 = Math.floor(y1) + 0.5;\n",
       "    var min_x = Math.min(x0, x1);\n",
       "    var min_y = Math.min(y0, y1);\n",
       "    var width = Math.abs(x1 - x0);\n",
       "    var height = Math.abs(y1 - y0);\n",
       "\n",
       "    fig.rubberband_context.clearRect(\n",
       "        0, 0, fig.canvas.width / mpl.ratio, fig.canvas.height / mpl.ratio);\n",
       "\n",
       "    fig.rubberband_context.strokeRect(min_x, min_y, width, height);\n",
       "}\n",
       "\n",
       "mpl.figure.prototype.handle_figure_label = function(fig, msg) {\n",
       "    // Updates the figure title.\n",
       "    fig.header.textContent = msg['label'];\n",
       "}\n",
       "\n",
       "mpl.figure.prototype.handle_cursor = function(fig, msg) {\n",
       "    var cursor = msg['cursor'];\n",
       "    switch(cursor)\n",
       "    {\n",
       "    case 0:\n",
       "        cursor = 'pointer';\n",
       "        break;\n",
       "    case 1:\n",
       "        cursor = 'default';\n",
       "        break;\n",
       "    case 2:\n",
       "        cursor = 'crosshair';\n",
       "        break;\n",
       "    case 3:\n",
       "        cursor = 'move';\n",
       "        break;\n",
       "    }\n",
       "    fig.rubberband_canvas.style.cursor = cursor;\n",
       "}\n",
       "\n",
       "mpl.figure.prototype.handle_message = function(fig, msg) {\n",
       "    fig.message.textContent = msg['message'];\n",
       "}\n",
       "\n",
       "mpl.figure.prototype.handle_draw = function(fig, msg) {\n",
       "    // Request the server to send over a new figure.\n",
       "    fig.send_draw_message();\n",
       "}\n",
       "\n",
       "mpl.figure.prototype.handle_image_mode = function(fig, msg) {\n",
       "    fig.image_mode = msg['mode'];\n",
       "}\n",
       "\n",
       "mpl.figure.prototype.updated_canvas_event = function() {\n",
       "    // Called whenever the canvas gets updated.\n",
       "    this.send_message(\"ack\", {});\n",
       "}\n",
       "\n",
       "// A function to construct a web socket function for onmessage handling.\n",
       "// Called in the figure constructor.\n",
       "mpl.figure.prototype._make_on_message_function = function(fig) {\n",
       "    return function socket_on_message(evt) {\n",
       "        if (evt.data instanceof Blob) {\n",
       "            /* FIXME: We get \"Resource interpreted as Image but\n",
       "             * transferred with MIME type text/plain:\" errors on\n",
       "             * Chrome.  But how to set the MIME type?  It doesn't seem\n",
       "             * to be part of the websocket stream */\n",
       "            evt.data.type = \"image/png\";\n",
       "\n",
       "            /* Free the memory for the previous frames */\n",
       "            if (fig.imageObj.src) {\n",
       "                (window.URL || window.webkitURL).revokeObjectURL(\n",
       "                    fig.imageObj.src);\n",
       "            }\n",
       "\n",
       "            fig.imageObj.src = (window.URL || window.webkitURL).createObjectURL(\n",
       "                evt.data);\n",
       "            fig.updated_canvas_event();\n",
       "            fig.waiting = false;\n",
       "            return;\n",
       "        }\n",
       "        else if (typeof evt.data === 'string' && evt.data.slice(0, 21) == \"data:image/png;base64\") {\n",
       "            fig.imageObj.src = evt.data;\n",
       "            fig.updated_canvas_event();\n",
       "            fig.waiting = false;\n",
       "            return;\n",
       "        }\n",
       "\n",
       "        var msg = JSON.parse(evt.data);\n",
       "        var msg_type = msg['type'];\n",
       "\n",
       "        // Call the  \"handle_{type}\" callback, which takes\n",
       "        // the figure and JSON message as its only arguments.\n",
       "        try {\n",
       "            var callback = fig[\"handle_\" + msg_type];\n",
       "        } catch (e) {\n",
       "            console.log(\"No handler for the '\" + msg_type + \"' message type: \", msg);\n",
       "            return;\n",
       "        }\n",
       "\n",
       "        if (callback) {\n",
       "            try {\n",
       "                // console.log(\"Handling '\" + msg_type + \"' message: \", msg);\n",
       "                callback(fig, msg);\n",
       "            } catch (e) {\n",
       "                console.log(\"Exception inside the 'handler_\" + msg_type + \"' callback:\", e, e.stack, msg);\n",
       "            }\n",
       "        }\n",
       "    };\n",
       "}\n",
       "\n",
       "// from http://stackoverflow.com/questions/1114465/getting-mouse-location-in-canvas\n",
       "mpl.findpos = function(e) {\n",
       "    //this section is from http://www.quirksmode.org/js/events_properties.html\n",
       "    var targ;\n",
       "    if (!e)\n",
       "        e = window.event;\n",
       "    if (e.target)\n",
       "        targ = e.target;\n",
       "    else if (e.srcElement)\n",
       "        targ = e.srcElement;\n",
       "    if (targ.nodeType == 3) // defeat Safari bug\n",
       "        targ = targ.parentNode;\n",
       "\n",
       "    // jQuery normalizes the pageX and pageY\n",
       "    // pageX,Y are the mouse positions relative to the document\n",
       "    // offset() returns the position of the element relative to the document\n",
       "    var x = e.pageX - $(targ).offset().left;\n",
       "    var y = e.pageY - $(targ).offset().top;\n",
       "\n",
       "    return {\"x\": x, \"y\": y};\n",
       "};\n",
       "\n",
       "/*\n",
       " * return a copy of an object with only non-object keys\n",
       " * we need this to avoid circular references\n",
       " * http://stackoverflow.com/a/24161582/3208463\n",
       " */\n",
       "function simpleKeys (original) {\n",
       "  return Object.keys(original).reduce(function (obj, key) {\n",
       "    if (typeof original[key] !== 'object')\n",
       "        obj[key] = original[key]\n",
       "    return obj;\n",
       "  }, {});\n",
       "}\n",
       "\n",
       "mpl.figure.prototype.mouse_event = function(event, name) {\n",
       "    var canvas_pos = mpl.findpos(event)\n",
       "\n",
       "    if (name === 'button_press')\n",
       "    {\n",
       "        this.canvas.focus();\n",
       "        this.canvas_div.focus();\n",
       "    }\n",
       "\n",
       "    var x = canvas_pos.x * mpl.ratio;\n",
       "    var y = canvas_pos.y * mpl.ratio;\n",
       "\n",
       "    this.send_message(name, {x: x, y: y, button: event.button,\n",
       "                             step: event.step,\n",
       "                             guiEvent: simpleKeys(event)});\n",
       "\n",
       "    /* This prevents the web browser from automatically changing to\n",
       "     * the text insertion cursor when the button is pressed.  We want\n",
       "     * to control all of the cursor setting manually through the\n",
       "     * 'cursor' event from matplotlib */\n",
       "    event.preventDefault();\n",
       "    return false;\n",
       "}\n",
       "\n",
       "mpl.figure.prototype._key_event_extra = function(event, name) {\n",
       "    // Handle any extra behaviour associated with a key event\n",
       "}\n",
       "\n",
       "mpl.figure.prototype.key_event = function(event, name) {\n",
       "\n",
       "    // Prevent repeat events\n",
       "    if (name == 'key_press')\n",
       "    {\n",
       "        if (event.which === this._key)\n",
       "            return;\n",
       "        else\n",
       "            this._key = event.which;\n",
       "    }\n",
       "    if (name == 'key_release')\n",
       "        this._key = null;\n",
       "\n",
       "    var value = '';\n",
       "    if (event.ctrlKey && event.which != 17)\n",
       "        value += \"ctrl+\";\n",
       "    if (event.altKey && event.which != 18)\n",
       "        value += \"alt+\";\n",
       "    if (event.shiftKey && event.which != 16)\n",
       "        value += \"shift+\";\n",
       "\n",
       "    value += 'k';\n",
       "    value += event.which.toString();\n",
       "\n",
       "    this._key_event_extra(event, name);\n",
       "\n",
       "    this.send_message(name, {key: value,\n",
       "                             guiEvent: simpleKeys(event)});\n",
       "    return false;\n",
       "}\n",
       "\n",
       "mpl.figure.prototype.toolbar_button_onclick = function(name) {\n",
       "    if (name == 'download') {\n",
       "        this.handle_save(this, null);\n",
       "    } else {\n",
       "        this.send_message(\"toolbar_button\", {name: name});\n",
       "    }\n",
       "};\n",
       "\n",
       "mpl.figure.prototype.toolbar_button_onmouseover = function(tooltip) {\n",
       "    this.message.textContent = tooltip;\n",
       "};\n",
       "mpl.toolbar_items = [[\"Home\", \"Reset original view\", \"fa fa-home icon-home\", \"home\"], [\"Back\", \"Back to previous view\", \"fa fa-arrow-left icon-arrow-left\", \"back\"], [\"Forward\", \"Forward to next view\", \"fa fa-arrow-right icon-arrow-right\", \"forward\"], [\"\", \"\", \"\", \"\"], [\"Pan\", \"Pan axes with left mouse, zoom with right\", \"fa fa-arrows icon-move\", \"pan\"], [\"Zoom\", \"Zoom to rectangle\", \"fa fa-square-o icon-check-empty\", \"zoom\"], [\"\", \"\", \"\", \"\"], [\"Download\", \"Download plot\", \"fa fa-floppy-o icon-save\", \"download\"]];\n",
       "\n",
       "mpl.extensions = [\"eps\", \"pdf\", \"png\", \"ps\", \"raw\", \"svg\"];\n",
       "\n",
       "mpl.default_extension = \"png\";var comm_websocket_adapter = function(comm) {\n",
       "    // Create a \"websocket\"-like object which calls the given IPython comm\n",
       "    // object with the appropriate methods. Currently this is a non binary\n",
       "    // socket, so there is still some room for performance tuning.\n",
       "    var ws = {};\n",
       "\n",
       "    ws.close = function() {\n",
       "        comm.close()\n",
       "    };\n",
       "    ws.send = function(m) {\n",
       "        //console.log('sending', m);\n",
       "        comm.send(m);\n",
       "    };\n",
       "    // Register the callback with on_msg.\n",
       "    comm.on_msg(function(msg) {\n",
       "        //console.log('receiving', msg['content']['data'], msg);\n",
       "        // Pass the mpl event to the overridden (by mpl) onmessage function.\n",
       "        ws.onmessage(msg['content']['data'])\n",
       "    });\n",
       "    return ws;\n",
       "}\n",
       "\n",
       "mpl.mpl_figure_comm = function(comm, msg) {\n",
       "    // This is the function which gets called when the mpl process\n",
       "    // starts-up an IPython Comm through the \"matplotlib\" channel.\n",
       "\n",
       "    var id = msg.content.data.id;\n",
       "    // Get hold of the div created by the display call when the Comm\n",
       "    // socket was opened in Python.\n",
       "    var element = $(\"#\" + id);\n",
       "    var ws_proxy = comm_websocket_adapter(comm)\n",
       "\n",
       "    function ondownload(figure, format) {\n",
       "        window.open(figure.imageObj.src);\n",
       "    }\n",
       "\n",
       "    var fig = new mpl.figure(id, ws_proxy,\n",
       "                           ondownload,\n",
       "                           element.get(0));\n",
       "\n",
       "    // Call onopen now - mpl needs it, as it is assuming we've passed it a real\n",
       "    // web socket which is closed, not our websocket->open comm proxy.\n",
       "    ws_proxy.onopen();\n",
       "\n",
       "    fig.parent_element = element.get(0);\n",
       "    fig.cell_info = mpl.find_output_cell(\"<div id='\" + id + \"'></div>\");\n",
       "    if (!fig.cell_info) {\n",
       "        console.error(\"Failed to find cell for figure\", id, fig);\n",
       "        return;\n",
       "    }\n",
       "\n",
       "    var output_index = fig.cell_info[2]\n",
       "    var cell = fig.cell_info[0];\n",
       "\n",
       "};\n",
       "\n",
       "mpl.figure.prototype.handle_close = function(fig, msg) {\n",
       "    var width = fig.canvas.width/mpl.ratio\n",
       "    fig.root.unbind('remove')\n",
       "\n",
       "    // Update the output cell to use the data from the current canvas.\n",
       "    fig.push_to_output();\n",
       "    var dataURL = fig.canvas.toDataURL();\n",
       "    // Re-enable the keyboard manager in IPython - without this line, in FF,\n",
       "    // the notebook keyboard shortcuts fail.\n",
       "    IPython.keyboard_manager.enable()\n",
       "    $(fig.parent_element).html('<img src=\"' + dataURL + '\" width=\"' + width + '\">');\n",
       "    fig.close_ws(fig, msg);\n",
       "}\n",
       "\n",
       "mpl.figure.prototype.close_ws = function(fig, msg){\n",
       "    fig.send_message('closing', msg);\n",
       "    // fig.ws.close()\n",
       "}\n",
       "\n",
       "mpl.figure.prototype.push_to_output = function(remove_interactive) {\n",
       "    // Turn the data on the canvas into data in the output cell.\n",
       "    var width = this.canvas.width/mpl.ratio\n",
       "    var dataURL = this.canvas.toDataURL();\n",
       "    this.cell_info[1]['text/html'] = '<img src=\"' + dataURL + '\" width=\"' + width + '\">';\n",
       "}\n",
       "\n",
       "mpl.figure.prototype.updated_canvas_event = function() {\n",
       "    // Tell IPython that the notebook contents must change.\n",
       "    IPython.notebook.set_dirty(true);\n",
       "    this.send_message(\"ack\", {});\n",
       "    var fig = this;\n",
       "    // Wait a second, then push the new image to the DOM so\n",
       "    // that it is saved nicely (might be nice to debounce this).\n",
       "    setTimeout(function () { fig.push_to_output() }, 1000);\n",
       "}\n",
       "\n",
       "mpl.figure.prototype._init_toolbar = function() {\n",
       "    var fig = this;\n",
       "\n",
       "    var nav_element = $('<div/>');\n",
       "    nav_element.attr('style', 'width: 100%');\n",
       "    this.root.append(nav_element);\n",
       "\n",
       "    // Define a callback function for later on.\n",
       "    function toolbar_event(event) {\n",
       "        return fig.toolbar_button_onclick(event['data']);\n",
       "    }\n",
       "    function toolbar_mouse_event(event) {\n",
       "        return fig.toolbar_button_onmouseover(event['data']);\n",
       "    }\n",
       "\n",
       "    for(var toolbar_ind in mpl.toolbar_items){\n",
       "        var name = mpl.toolbar_items[toolbar_ind][0];\n",
       "        var tooltip = mpl.toolbar_items[toolbar_ind][1];\n",
       "        var image = mpl.toolbar_items[toolbar_ind][2];\n",
       "        var method_name = mpl.toolbar_items[toolbar_ind][3];\n",
       "\n",
       "        if (!name) { continue; };\n",
       "\n",
       "        var button = $('<button class=\"btn btn-default\" href=\"#\" title=\"' + name + '\"><i class=\"fa ' + image + ' fa-lg\"></i></button>');\n",
       "        button.click(method_name, toolbar_event);\n",
       "        button.mouseover(tooltip, toolbar_mouse_event);\n",
       "        nav_element.append(button);\n",
       "    }\n",
       "\n",
       "    // Add the status bar.\n",
       "    var status_bar = $('<span class=\"mpl-message\" style=\"text-align:right; float: right;\"/>');\n",
       "    nav_element.append(status_bar);\n",
       "    this.message = status_bar[0];\n",
       "\n",
       "    // Add the close button to the window.\n",
       "    var buttongrp = $('<div class=\"btn-group inline pull-right\"></div>');\n",
       "    var button = $('<button class=\"btn btn-mini btn-primary\" href=\"#\" title=\"Stop Interaction\"><i class=\"fa fa-power-off icon-remove icon-large\"></i></button>');\n",
       "    button.click(function (evt) { fig.handle_close(fig, {}); } );\n",
       "    button.mouseover('Stop Interaction', toolbar_mouse_event);\n",
       "    buttongrp.append(button);\n",
       "    var titlebar = this.root.find($('.ui-dialog-titlebar'));\n",
       "    titlebar.prepend(buttongrp);\n",
       "}\n",
       "\n",
       "mpl.figure.prototype._root_extra_style = function(el){\n",
       "    var fig = this\n",
       "    el.on(\"remove\", function(){\n",
       "\tfig.close_ws(fig, {});\n",
       "    });\n",
       "}\n",
       "\n",
       "mpl.figure.prototype._canvas_extra_style = function(el){\n",
       "    // this is important to make the div 'focusable\n",
       "    el.attr('tabindex', 0)\n",
       "    // reach out to IPython and tell the keyboard manager to turn it's self\n",
       "    // off when our div gets focus\n",
       "\n",
       "    // location in version 3\n",
       "    if (IPython.notebook.keyboard_manager) {\n",
       "        IPython.notebook.keyboard_manager.register_events(el);\n",
       "    }\n",
       "    else {\n",
       "        // location in version 2\n",
       "        IPython.keyboard_manager.register_events(el);\n",
       "    }\n",
       "\n",
       "}\n",
       "\n",
       "mpl.figure.prototype._key_event_extra = function(event, name) {\n",
       "    var manager = IPython.notebook.keyboard_manager;\n",
       "    if (!manager)\n",
       "        manager = IPython.keyboard_manager;\n",
       "\n",
       "    // Check for shift+enter\n",
       "    if (event.shiftKey && event.which == 13) {\n",
       "        this.canvas_div.blur();\n",
       "        event.shiftKey = false;\n",
       "        // Send a \"J\" for go to next cell\n",
       "        event.which = 74;\n",
       "        event.keyCode = 74;\n",
       "        manager.command_mode();\n",
       "        manager.handle_keydown(event);\n",
       "    }\n",
       "}\n",
       "\n",
       "mpl.figure.prototype.handle_save = function(fig, msg) {\n",
       "    fig.ondownload(fig, null);\n",
       "}\n",
       "\n",
       "\n",
       "mpl.find_output_cell = function(html_output) {\n",
       "    // Return the cell and output element which can be found *uniquely* in the notebook.\n",
       "    // Note - this is a bit hacky, but it is done because the \"notebook_saving.Notebook\"\n",
       "    // IPython event is triggered only after the cells have been serialised, which for\n",
       "    // our purposes (turning an active figure into a static one), is too late.\n",
       "    var cells = IPython.notebook.get_cells();\n",
       "    var ncells = cells.length;\n",
       "    for (var i=0; i<ncells; i++) {\n",
       "        var cell = cells[i];\n",
       "        if (cell.cell_type === 'code'){\n",
       "            for (var j=0; j<cell.output_area.outputs.length; j++) {\n",
       "                var data = cell.output_area.outputs[j];\n",
       "                if (data.data) {\n",
       "                    // IPython >= 3 moved mimebundle to data attribute of output\n",
       "                    data = data.data;\n",
       "                }\n",
       "                if (data['text/html'] == html_output) {\n",
       "                    return [cell, data, j];\n",
       "                }\n",
       "            }\n",
       "        }\n",
       "    }\n",
       "}\n",
       "\n",
       "// Register the function which deals with the matplotlib target/channel.\n",
       "// The kernel may be null if the page has been refreshed.\n",
       "if (IPython.notebook.kernel != null) {\n",
       "    IPython.notebook.kernel.comm_manager.register_target('matplotlib', mpl.mpl_figure_comm);\n",
       "}\n"
      ],
      "text/plain": [
       "<IPython.core.display.Javascript object>"
      ]
     },
     "metadata": {},
     "output_type": "display_data"
    },
    {
     "data": {
      "text/html": [
       "<img src=\"data:image/png;base64,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\" width=\"600\">"
      ],
      "text/plain": [
       "<IPython.core.display.HTML object>"
      ]
     },
     "metadata": {},
     "output_type": "display_data"
    },
    {
     "name": "stdout",
     "output_type": "stream",
     "text": [
      "Training 1 Agents on (10,10).\t Episode 10\t Average Score: -52.200\tDones: 30.00%\tEpsilon: 0.98 \t Action Probabilities: \t [0.17613636 0.18371212 0.21590909 0.19128788 0.23295455] re_generate cnt=2\n"
     ]
    },
    {
     "name": "stderr",
     "output_type": "stream",
     "text": [
      "/home/arpit/anaconda3/envs/IA/lib/python3.7/site-packages/flatland/envs/schedule_generators.py:257: UserWarning: reset position for agent[0]: (3, 6) -> (7, 8)\n",
      "  \"reset position for agent[{}]: {} -> {}\".format(i, agents_position[i], agents_target[i]))\n"
     ]
    },
    {
     "name": "stdout",
     "output_type": "stream",
     "text": [
      "Training 1 Agents on (10,10).\t Episode 13\t Average Score: -51.308\tDones: 30.77%\tEpsilon: 0.97 \t Action Probabilities: \t [0.18222222 0.18518519 0.20888889 0.19851852 0.22518519] re_generate cnt=2\n",
      "Training 1 Agents on (10,10).\t Episode 14\t Average Score: -47.786\tDones: 35.71%\tEpsilon: 0.97 \t Action Probabilities: \t [0.18409426 0.18409426 0.20765832 0.20029455 0.22385862] "
     ]
    },
    {
     "name": "stderr",
     "output_type": "stream",
     "text": [
      "/home/arpit/anaconda3/envs/IA/lib/python3.7/site-packages/flatland/envs/schedule_generators.py:257: UserWarning: reset position for agent[0]: (5, 7) -> (1, 3)\n",
      "  \"reset position for agent[{}]: {} -> {}\".format(i, agents_position[i], agents_target[i]))\n"
     ]
    },
    {
     "name": "stdout",
     "output_type": "stream",
     "text": [
      "Training 1 Agents on (10,10).\t Episode 37\t Average Score: -48.595\tDones: 35.14%\tEpsilon: 0.93 \t Action Probabilities: \t [0.19133772 0.20065789 0.20833333 0.20065789 0.19901316] re_generate cnt=2\n"
     ]
    },
    {
     "name": "stderr",
     "output_type": "stream",
     "text": [
      "/home/arpit/anaconda3/envs/IA/lib/python3.7/site-packages/flatland/envs/schedule_generators.py:257: UserWarning: reset position for agent[0]: (4, 8) -> (1, 2)\n",
      "  \"reset position for agent[{}]: {} -> {}\".format(i, agents_position[i], agents_target[i]))\n"
     ]
    },
    {
     "name": "stdout",
     "output_type": "stream",
     "text": [
      "Training 1 Agents on (10,10).\t Episode 56\t Average Score: -49.875\tDones: 30.36%\tEpsilon: 0.89 \t Action Probabilities: \t [0.18500177 0.20481075 0.19596746 0.21330032 0.2009197 ] re_generate cnt=2\n",
      "Training 1 Agents on (10,10).\t Episode 57\t Average Score: -49.211\tDones: 31.58%\tEpsilon: 0.89 \t Action Probabilities: \t [0.18549806 0.20450546 0.19640971 0.21295319 0.20063358] "
     ]
    },
    {
     "name": "stderr",
     "output_type": "stream",
     "text": [
      "/home/arpit/anaconda3/envs/IA/lib/python3.7/site-packages/flatland/envs/schedule_generators.py:257: UserWarning: reset position for agent[0]: (1, 4) -> (7, 4)\n",
      "  \"reset position for agent[{}]: {} -> {}\".format(i, agents_position[i], agents_target[i]))\n"
     ]
    },
    {
     "name": "stdout",
     "output_type": "stream",
     "text": [
      "\r",
      "Training 1 Agents on (10,10).\t Episode 58\t Average Score: -49.397\tDones: 31.03%\tEpsilon: 0.89 \t Action Probabilities: \t [0.18717684 0.20337815 0.19648397 0.21268528 0.20027577] re_generate cnt=2\n"
     ]
    },
    {
     "name": "stderr",
     "output_type": "stream",
     "text": [
      "/home/arpit/anaconda3/envs/IA/lib/python3.7/site-packages/flatland/envs/schedule_generators.py:257: UserWarning: reset position for agent[0]: (1, 8) -> (8, 8)\n",
      "  \"reset position for agent[{}]: {} -> {}\".format(i, agents_position[i], agents_target[i]))\n"
     ]
    },
    {
     "name": "stdout",
     "output_type": "stream",
     "text": [
      "Training 1 Agents on (10,10).\t Episode 71\t Average Score: -50.056\tDones: 29.58%\tEpsilon: 0.87 \t Action Probabilities: \t [0.18576196 0.19688543 0.19243604 0.22246941 0.20244716] re_generate cnt=2\n"
     ]
    },
    {
     "name": "stderr",
     "output_type": "stream",
     "text": [
      "/home/arpit/anaconda3/envs/IA/lib/python3.7/site-packages/flatland/envs/schedule_generators.py:257: UserWarning: reset position for agent[0]: (3, 3) -> (3, 1)\n",
      "  \"reset position for agent[{}]: {} -> {}\".format(i, agents_position[i], agents_target[i]))\n"
     ]
    },
    {
     "name": "stdout",
     "output_type": "stream",
     "text": [
      "Training 1 Agents on (10,10).\t Episode 86\t Average Score: -50.140\tDones: 30.23%\tEpsilon: 0.84 \t Action Probabilities: \t [0.18813016 0.19385885 0.19156737 0.21746104 0.20898258] re_generate cnt=2\n"
     ]
    },
    {
     "name": "stderr",
     "output_type": "stream",
     "text": [
      "/home/arpit/anaconda3/envs/IA/lib/python3.7/site-packages/flatland/envs/schedule_generators.py:257: UserWarning: reset position for agent[0]: (1, 1) -> (4, 6)\n",
      "  \"reset position for agent[{}]: {} -> {}\".format(i, agents_position[i], agents_target[i]))\n"
     ]
    },
    {
     "name": "stdout",
     "output_type": "stream",
     "text": [
      "Training 1 Agents on (10,10).\t Episode 89\t Average Score: -50.213\tDones: 30.34%\tEpsilon: 0.84 \t Action Probabilities: \t [0.18859164 0.19301349 0.1925713  0.21556489 0.21025868] re_generate cnt=2\n",
      "re_generate cnt=3\n",
      "re_generate cnt=4\n"
     ]
    },
    {
     "name": "stderr",
     "output_type": "stream",
     "text": [
      "/home/arpit/anaconda3/envs/IA/lib/python3.7/site-packages/flatland/envs/schedule_generators.py:257: UserWarning: reset position for agent[0]: (0, 3) -> (7, 9)\n",
      "  \"reset position for agent[{}]: {} -> {}\".format(i, agents_position[i], agents_target[i]))\n",
      "/home/arpit/anaconda3/envs/IA/lib/python3.7/site-packages/flatland/envs/schedule_generators.py:257: UserWarning: reset position for agent[0]: (3, 0) -> (3, 5)\n",
      "  \"reset position for agent[{}]: {} -> {}\".format(i, agents_position[i], agents_target[i]))\n",
      "/home/arpit/anaconda3/envs/IA/lib/python3.7/site-packages/flatland/envs/schedule_generators.py:257: UserWarning: reset position for agent[0]: (2, 4) -> (6, 6)\n",
      "  \"reset position for agent[{}]: {} -> {}\".format(i, agents_position[i], agents_target[i]))\n"
     ]
    },
    {
     "name": "stdout",
     "output_type": "stream",
     "text": [
      "\r",
      "Training 1 Agents on (10,10).\t Episode 90\t Average Score: -50.322\tDones: 30.00%\tEpsilon: 0.84 \t Action Probabilities: \t [0.18765001 0.19332315 0.19397774 0.21470652 0.21034257] re_generate cnt=2\n"
     ]
    },
    {
     "name": "stderr",
     "output_type": "stream",
     "text": [
      "/home/arpit/anaconda3/envs/IA/lib/python3.7/site-packages/flatland/envs/schedule_generators.py:257: UserWarning: reset position for agent[0]: (5, 2) -> (6, 0)\n",
      "  \"reset position for agent[{}]: {} -> {}\".format(i, agents_position[i], agents_target[i]))\n"
     ]
    },
    {
     "name": "stdout",
     "output_type": "stream",
     "text": [
      "Training 1 Agents on (10,10).\t Episode 96\t Average Score: -50.271\tDones: 30.21%\tEpsilon: 0.83 \t Action Probabilities: \t [0.18775594 0.19410319 0.19185094 0.21294021 0.21334971] re_generate cnt=2\n",
      "re_generate cnt=3\n"
     ]
    },
    {
     "name": "stderr",
     "output_type": "stream",
     "text": [
      "/home/arpit/anaconda3/envs/IA/lib/python3.7/site-packages/flatland/envs/schedule_generators.py:257: UserWarning: reset position for agent[0]: (1, 0) -> (6, 6)\n",
      "  \"reset position for agent[{}]: {} -> {}\".format(i, agents_position[i], agents_target[i]))\n",
      "/home/arpit/anaconda3/envs/IA/lib/python3.7/site-packages/flatland/envs/schedule_generators.py:257: UserWarning: reset position for agent[0]: (5, 6) -> (5, 1)\n",
      "  \"reset position for agent[{}]: {} -> {}\".format(i, agents_position[i], agents_target[i]))\n"
     ]
    },
    {
     "name": "stdout",
     "output_type": "stream",
     "text": [
      "Training 1 Agents on (10,10).\t Episode 99\t Average Score: -50.020\tDones: 30.30%\tEpsilon: 0.82 \t Action Probabilities: \t [0.18754988 0.19253791 0.19393456 0.21169194 0.21428571] re_generate cnt=2\n"
     ]
    },
    {
     "name": "stderr",
     "output_type": "stream",
     "text": [
      "/home/arpit/anaconda3/envs/IA/lib/python3.7/site-packages/flatland/envs/schedule_generators.py:257: UserWarning: reset position for agent[0]: (1, 1) -> (4, 4)\n",
      "  \"reset position for agent[{}]: {} -> {}\".format(i, agents_position[i], agents_target[i]))\n"
     ]
    },
    {
     "name": "stdout",
     "output_type": "stream",
     "text": [
      "Training 1 Agents on (10,10).\t Episode 106\t Average Score: -49.680\tDones: 31.00%\tEpsilon: 0.81 \t Action Probabilities: \t [0.18804062 0.19086123 0.19481008 0.21060549 0.21568259] re_generate cnt=2\n"
     ]
    },
    {
     "name": "stderr",
     "output_type": "stream",
     "text": [
      "/home/arpit/anaconda3/envs/IA/lib/python3.7/site-packages/flatland/envs/schedule_generators.py:257: UserWarning: reset position for agent[0]: (2, 1) -> (5, 6)\n",
      "  \"reset position for agent[{}]: {} -> {}\".format(i, agents_position[i], agents_target[i]))\n"
     ]
    },
    {
     "name": "stdout",
     "output_type": "stream",
     "text": [
      "Training 1 Agents on (10,10).\t Episode 111\t Average Score: -49.210\tDones: 33.00%\tEpsilon: 0.80 \t Action Probabilities: \t [0.18762332 0.19013453 0.19820628 0.20789238 0.2161435 ] re_generate cnt=2\n",
      "Training 1 Agents on (10,10).\t Episode 112\t Average Score: -48.960\tDones: 33.00%\tEpsilon: 0.80 \t Action Probabilities: \t [0.18755603 0.19006634 0.19849381 0.20781782 0.21606599] "
     ]
    },
    {
     "name": "stderr",
     "output_type": "stream",
     "text": [
      "/home/arpit/anaconda3/envs/IA/lib/python3.7/site-packages/flatland/envs/schedule_generators.py:257: UserWarning: reset position for agent[0]: (6, 7) -> (0, 8)\n",
      "  \"reset position for agent[{}]: {} -> {}\".format(i, agents_position[i], agents_target[i]))\n"
     ]
    },
    {
     "name": "stdout",
     "output_type": "stream",
     "text": [
      "\r",
      "Training 1 Agents on (10,10).\t Episode 113\t Average Score: -48.960\tDones: 33.00%\tEpsilon: 0.80 \t Action Probabilities: \t [0.18733369 0.19034948 0.19780025 0.20862161 0.21589498] re_generate cnt=2\n"
     ]
    },
    {
     "name": "stderr",
     "output_type": "stream",
     "text": [
      "/home/arpit/anaconda3/envs/IA/lib/python3.7/site-packages/flatland/envs/schedule_generators.py:257: UserWarning: reset position for agent[0]: (0, 1) -> (3, 3)\n",
      "  \"reset position for agent[{}]: {} -> {}\".format(i, agents_position[i], agents_target[i]))\n"
     ]
    },
    {
     "name": "stdout",
     "output_type": "stream",
     "text": [
      "\r",
      "Training 1 Agents on (10,10).\t Episode 114\t Average Score: -49.540\tDones: 32.00%\tEpsilon: 0.80 \t Action Probabilities: \t [0.18694049 0.19045111 0.19764788 0.20870634 0.21625417] re_generate cnt=2\n",
      "re_generate cnt=3\n",
      "re_generate cnt=4\n",
      "\r",
      "Training 1 Agents on (10,10).\t Episode 115\t Average Score: -49.230\tDones: 32.00%\tEpsilon: 0.79 \t Action Probabilities: \t [0.18672489 0.19021834 0.19877729 0.20838428 0.2158952 ] "
     ]
    },
    {
     "name": "stderr",
     "output_type": "stream",
     "text": [
      "/home/arpit/anaconda3/envs/IA/lib/python3.7/site-packages/flatland/envs/schedule_generators.py:257: UserWarning: reset position for agent[0]: (1, 3) -> (6, 8)\n",
      "  \"reset position for agent[{}]: {} -> {}\".format(i, agents_position[i], agents_target[i]))\n",
      "/home/arpit/anaconda3/envs/IA/lib/python3.7/site-packages/flatland/envs/schedule_generators.py:257: UserWarning: reset position for agent[0]: (8, 8) -> (1, 5)\n",
      "  \"reset position for agent[{}]: {} -> {}\".format(i, agents_position[i], agents_target[i]))\n",
      "/home/arpit/anaconda3/envs/IA/lib/python3.7/site-packages/flatland/envs/schedule_generators.py:257: UserWarning: reset position for agent[0]: (0, 3) -> (9, 1)\n",
      "  \"reset position for agent[{}]: {} -> {}\".format(i, agents_position[i], agents_target[i]))\n"
     ]
    },
    {
     "name": "stdout",
     "output_type": "stream",
     "text": [
      "Training 1 Agents on (10,10).\t Episode 119\t Average Score: -48.040\tDones: 33.00%\tEpsilon: 0.79 \t Action Probabilities: \t [0.18727429 0.1900258  0.19948409 0.2072227  0.21599312] re_generate cnt=2\n",
      "re_generate cnt=3\n",
      "Training 1 Agents on (10,10).\t Episode 120\t Average Score: -47.840\tDones: 33.00%\tEpsilon: 0.79 \t Action Probabilities: \t [0.18736047 0.19027992 0.19938176 0.20710974 0.21586811] "
     ]
    },
    {
     "name": "stderr",
     "output_type": "stream",
     "text": [
      "/home/arpit/anaconda3/envs/IA/lib/python3.7/site-packages/flatland/envs/schedule_generators.py:257: UserWarning: reset position for agent[0]: (3, 3) -> (9, 5)\n",
      "  \"reset position for agent[{}]: {} -> {}\".format(i, agents_position[i], agents_target[i]))\n",
      "/home/arpit/anaconda3/envs/IA/lib/python3.7/site-packages/flatland/envs/schedule_generators.py:257: UserWarning: reset position for agent[0]: (3, 4) -> (6, 8)\n",
      "  \"reset position for agent[{}]: {} -> {}\".format(i, agents_position[i], agents_target[i]))\n"
     ]
    },
    {
     "name": "stdout",
     "output_type": "stream",
     "text": [
      "Training 1 Agents on (10,10).\t Episode 150\t Average Score: -47.460\tDones: 34.00%\tEpsilon: 0.74 \t Action Probabilities: \t [0.18247577 0.18779855 0.1970793  0.20676948 0.22587689] re_generate cnt=2\n"
     ]
    },
    {
     "name": "stderr",
     "output_type": "stream",
     "text": [
      "/home/arpit/anaconda3/envs/IA/lib/python3.7/site-packages/flatland/envs/schedule_generators.py:257: UserWarning: reset position for agent[0]: (2, 3) -> (4, 8)\n",
      "  \"reset position for agent[{}]: {} -> {}\".format(i, agents_position[i], agents_target[i]))\n"
     ]
    },
    {
     "name": "stdout",
     "output_type": "stream",
     "text": [
      "Training 1 Agents on (10,10).\t Episode 212\t Average Score: -47.690\tDones: 30.00%\tEpsilon: 0.65 \t Action Probabilities: \t [0.17095906 0.19594465 0.19133192 0.20132616 0.24043821] re_generate cnt=2\n",
      "re_generate cnt=3\n",
      "re_generate cnt=4\n",
      "re_generate cnt=5\n",
      "Training 1 Agents on (10,10).\t Episode 213\t Average Score: -47.110\tDones: 31.00%\tEpsilon: 0.65 \t Action Probabilities: \t [0.17098943 0.19606148 0.19125841 0.20134486 0.24034582] "
     ]
    },
    {
     "name": "stderr",
     "output_type": "stream",
     "text": [
      "/home/arpit/anaconda3/envs/IA/lib/python3.7/site-packages/flatland/envs/schedule_generators.py:257: UserWarning: reset position for agent[0]: (3, 5) -> (8, 6)\n",
      "  \"reset position for agent[{}]: {} -> {}\".format(i, agents_position[i], agents_target[i]))\n",
      "/home/arpit/anaconda3/envs/IA/lib/python3.7/site-packages/flatland/envs/schedule_generators.py:257: UserWarning: reset position for agent[0]: (8, 7) -> (6, 2)\n",
      "  \"reset position for agent[{}]: {} -> {}\".format(i, agents_position[i], agents_target[i]))\n",
      "/home/arpit/anaconda3/envs/IA/lib/python3.7/site-packages/flatland/envs/schedule_generators.py:257: UserWarning: reset position for agent[0]: (9, 8) -> (4, 2)\n",
      "  \"reset position for agent[{}]: {} -> {}\".format(i, agents_position[i], agents_target[i]))\n",
      "/home/arpit/anaconda3/envs/IA/lib/python3.7/site-packages/flatland/envs/schedule_generators.py:257: UserWarning: reset position for agent[0]: (7, 6) -> (3, 2)\n",
      "  \"reset position for agent[{}]: {} -> {}\".format(i, agents_position[i], agents_target[i]))\n"
     ]
    },
    {
     "name": "stdout",
     "output_type": "stream",
     "text": [
      "Training 1 Agents on (10,10).\t Episode 233\t Average Score: -48.990\tDones: 28.00%\tEpsilon: 0.63 \t Action Probabilities: \t [0.17157757 0.19408953 0.18757062 0.20017384 0.24658844] re_generate cnt=2\n"
     ]
    },
    {
     "name": "stderr",
     "output_type": "stream",
     "text": [
      "/home/arpit/anaconda3/envs/IA/lib/python3.7/site-packages/flatland/envs/schedule_generators.py:257: UserWarning: reset position for agent[0]: (8, 2) -> (1, 3)\n",
      "  \"reset position for agent[{}]: {} -> {}\".format(i, agents_position[i], agents_target[i]))\n"
     ]
    },
    {
     "name": "stdout",
     "output_type": "stream",
     "text": [
      "\r",
      "Training 1 Agents on (10,10).\t Episode 234\t Average Score: -48.990\tDones: 28.00%\tEpsilon: 0.63 \t Action Probabilities: \t [0.17146563 0.19377432 0.18728923 0.20043234 0.24703848] re_generate cnt=2\n"
     ]
    },
    {
     "name": "stderr",
     "output_type": "stream",
     "text": [
      "/home/arpit/anaconda3/envs/IA/lib/python3.7/site-packages/flatland/envs/schedule_generators.py:257: UserWarning: reset position for agent[0]: (4, 6) -> (7, 5)\n",
      "  \"reset position for agent[{}]: {} -> {}\".format(i, agents_position[i], agents_target[i]))\n"
     ]
    },
    {
     "name": "stdout",
     "output_type": "stream",
     "text": [
      "Training 1 Agents on (10,10).\t Episode 241\t Average Score: -49.150\tDones: 28.00%\tEpsilon: 0.62 \t Action Probabilities: \t [0.1711742  0.19376785 0.18646061 0.2009911  0.24760625] re_generate cnt=2\n"
     ]
    },
    {
     "name": "stderr",
     "output_type": "stream",
     "text": [
      "/home/arpit/anaconda3/envs/IA/lib/python3.7/site-packages/flatland/envs/schedule_generators.py:257: UserWarning: reset position for agent[0]: (6, 5) -> (7, 5)\n",
      "  \"reset position for agent[{}]: {} -> {}\".format(i, agents_position[i], agents_target[i]))\n"
     ]
    },
    {
     "name": "stdout",
     "output_type": "stream",
     "text": [
      "Training 1 Agents on (10,10).\t Episode 283\t Average Score: -49.500\tDones: 28.00%\tEpsilon: 0.57 \t Action Probabilities: \t [0.17227312 0.19474664 0.18186373 0.19832522 0.2527913 ] re_generate cnt=2\n",
      "Training 1 Agents on (10,10).\t Episode 284\t Average Score: -49.120\tDones: 29.00%\tEpsilon: 0.57 \t Action Probabilities: \t [0.1722635  0.19476993 0.18169477 0.19827093 0.25300086] "
     ]
    },
    {
     "name": "stderr",
     "output_type": "stream",
     "text": [
      "/home/arpit/anaconda3/envs/IA/lib/python3.7/site-packages/flatland/envs/schedule_generators.py:257: UserWarning: reset position for agent[0]: (6, 7) -> (0, 3)\n",
      "  \"reset position for agent[{}]: {} -> {}\".format(i, agents_position[i], agents_target[i]))\n"
     ]
    },
    {
     "name": "stdout",
     "output_type": "stream",
     "text": [
      "Training 1 Agents on (10,10).\t Episode 294\t Average Score: -47.520\tDones: 32.00%\tEpsilon: 0.56 \t Action Probabilities: \t [0.17220523 0.19466073 0.18117353 0.19723304 0.25472747] re_generate cnt=2\n"
     ]
    },
    {
     "name": "stderr",
     "output_type": "stream",
     "text": [
      "/home/arpit/anaconda3/envs/IA/lib/python3.7/site-packages/flatland/envs/schedule_generators.py:257: UserWarning: reset position for agent[0]: (7, 2) -> (6, 4)\n",
      "  \"reset position for agent[{}]: {} -> {}\".format(i, agents_position[i], agents_target[i]))\n"
     ]
    },
    {
     "name": "stdout",
     "output_type": "stream",
     "text": [
      "Training 1 Agents on (10,10).\t Episode 310\t Average Score: -47.840\tDones: 32.00%\tEpsilon: 0.54 \t Action Probabilities: \t [0.170411   0.1955861  0.18012422 0.1958504  0.25802828] re_generate cnt=2\n"
     ]
    },
    {
     "name": "stderr",
     "output_type": "stream",
     "text": [
      "/home/arpit/anaconda3/envs/IA/lib/python3.7/site-packages/flatland/envs/schedule_generators.py:257: UserWarning: reset position for agent[0]: (3, 1) -> (7, 6)\n",
      "  \"reset position for agent[{}]: {} -> {}\".format(i, agents_position[i], agents_target[i]))\n",
      "/home/arpit/anaconda3/envs/IA/lib/python3.7/site-packages/flatland/envs/schedule_generators.py:257: UserWarning: reset position for agent[0]: (1, 7) -> (7, 9)\n",
      "  \"reset position for agent[{}]: {} -> {}\".format(i, agents_position[i], agents_target[i]))\n"
     ]
    },
    {
     "name": "stdout",
     "output_type": "stream",
     "text": [
      "re_generate cnt=3\n",
      "Training 1 Agents on (10,10).\t Episode 320\t Average Score: -47.150\tDones: 35.00%\tEpsilon: 0.53 \t Action Probabilities: \t [0.16884707 0.19617194 0.1805117  0.19617194 0.25829735] re_generate cnt=2\n",
      "re_generate cnt=3\n"
     ]
    },
    {
     "name": "stderr",
     "output_type": "stream",
     "text": [
      "/home/arpit/anaconda3/envs/IA/lib/python3.7/site-packages/flatland/envs/schedule_generators.py:257: UserWarning: reset position for agent[0]: (5, 5) -> (0, 2)\n",
      "  \"reset position for agent[{}]: {} -> {}\".format(i, agents_position[i], agents_target[i]))\n",
      "/home/arpit/anaconda3/envs/IA/lib/python3.7/site-packages/flatland/envs/schedule_generators.py:257: UserWarning: reset position for agent[0]: (2, 2) -> (8, 7)\n",
      "  \"reset position for agent[{}]: {} -> {}\".format(i, agents_position[i], agents_target[i]))\n"
     ]
    },
    {
     "name": "stdout",
     "output_type": "stream",
     "text": [
      "Training 1 Agents on (10,10).\t Episode 328\t Average Score: -46.300\tDones: 38.00%\tEpsilon: 0.52 \t Action Probabilities: \t [0.16804875 0.19663274 0.18055032 0.19499937 0.25976882] re_generate cnt=2\n"
     ]
    },
    {
     "name": "stderr",
     "output_type": "stream",
     "text": [
      "/home/arpit/anaconda3/envs/IA/lib/python3.7/site-packages/flatland/envs/schedule_generators.py:257: UserWarning: reset position for agent[0]: (3, 4) -> (6, 1)\n",
      "  \"reset position for agent[{}]: {} -> {}\".format(i, agents_position[i], agents_target[i]))\n"
     ]
    },
    {
     "name": "stdout",
     "output_type": "stream",
     "text": [
      "Training 1 Agents on (10,10).\t Episode 352\t Average Score: -44.330\tDones: 44.00%\tEpsilon: 0.49 \t Action Probabilities: \t [0.16832617 0.19955223 0.17781182 0.19548695 0.25882284] re_generate cnt=2\n"
     ]
    },
    {
     "name": "stderr",
     "output_type": "stream",
     "text": [
      "/home/arpit/anaconda3/envs/IA/lib/python3.7/site-packages/flatland/envs/schedule_generators.py:257: UserWarning: reset position for agent[0]: (1, 5) -> (1, 0)\n",
      "  \"reset position for agent[{}]: {} -> {}\".format(i, agents_position[i], agents_target[i]))\n"
     ]
    },
    {
     "name": "stdout",
     "output_type": "stream",
     "text": [
      "Training 1 Agents on (10,10).\t Episode 355\t Average Score: -44.250\tDones: 45.00%\tEpsilon: 0.49 \t Action Probabilities: \t [0.16825101 0.1997434  0.17723217 0.19601096 0.25876247] "
     ]
    },
    {
     "name": "stderr",
     "output_type": "stream",
     "text": [
      "/home/arpit/anaconda3/envs/IA/lib/python3.7/site-packages/flatland/envs/schedule_generators.py:257: UserWarning: reset position for agent[0]: (9, 4) -> (3, 8)\n",
      "  \"reset position for agent[{}]: {} -> {}\".format(i, agents_position[i], agents_target[i]))\n"
     ]
    },
    {
     "name": "stdout",
     "output_type": "stream",
     "text": [
      "re_generate cnt=2\n",
      "Training 1 Agents on (10,10).\t Episode 368\t Average Score: -42.850\tDones: 49.00%\tEpsilon: 0.48 \t Action Probabilities: \t [0.16827766 0.20072353 0.17483466 0.19778418 0.25837997] re_generate cnt=2\n"
     ]
    },
    {
     "name": "stderr",
     "output_type": "stream",
     "text": [
      "/home/arpit/anaconda3/envs/IA/lib/python3.7/site-packages/flatland/envs/schedule_generators.py:257: UserWarning: reset position for agent[0]: (4, 2) -> (8, 8)\n",
      "  \"reset position for agent[{}]: {} -> {}\".format(i, agents_position[i], agents_target[i]))\n"
     ]
    },
    {
     "name": "stdout",
     "output_type": "stream",
     "text": [
      "Training 1 Agents on (10,10).\t Episode 397\t Average Score: -45.700\tDones: 43.00%\tEpsilon: 0.45 \t Action Probabilities: \t [0.16672768 0.20103551 0.17368338 0.19685163 0.26170179] re_generate cnt=2\n"
     ]
    },
    {
     "name": "stderr",
     "output_type": "stream",
     "text": [
      "/home/arpit/anaconda3/envs/IA/lib/python3.7/site-packages/flatland/envs/schedule_generators.py:257: UserWarning: reset position for agent[0]: (0, 2) -> (6, 4)\n",
      "  \"reset position for agent[{}]: {} -> {}\".format(i, agents_position[i], agents_target[i]))\n"
     ]
    },
    {
     "name": "stdout",
     "output_type": "stream",
     "text": [
      "Training 1 Agents on (10,10).\t Episode 417\t Average Score: -45.500\tDones: 45.00%\tEpsilon: 0.43 \t Action Probabilities: \t [0.16653355 0.20122804 0.1733726  0.19678514 0.26208067] re_generate cnt=2\n",
      "Training 1 Agents on (10,10).\t Episode 418\t Average Score: -45.870\tDones: 45.00%\tEpsilon: 0.43 \t Action Probabilities: \t [0.16630981 0.20151372 0.17333068 0.19673356 0.26211223] "
     ]
    },
    {
     "name": "stderr",
     "output_type": "stream",
     "text": [
      "/home/arpit/anaconda3/envs/IA/lib/python3.7/site-packages/flatland/envs/schedule_generators.py:257: UserWarning: reset position for agent[0]: (5, 8) -> (8, 1)\n",
      "  \"reset position for agent[{}]: {} -> {}\".format(i, agents_position[i], agents_target[i]))\n"
     ]
    },
    {
     "name": "stdout",
     "output_type": "stream",
     "text": [
      "\r",
      "Training 1 Agents on (10,10).\t Episode 419\t Average Score: -45.930\tDones: 44.00%\tEpsilon: 0.43 \t Action Probabilities: \t [0.16606265 0.20155885 0.17326118 0.19654471 0.26257261] re_generate cnt=2\n",
      "re_generate cnt=3\n"
     ]
    },
    {
     "name": "stderr",
     "output_type": "stream",
     "text": [
      "/home/arpit/anaconda3/envs/IA/lib/python3.7/site-packages/flatland/envs/schedule_generators.py:257: UserWarning: reset position for agent[0]: (0, 4) -> (4, 8)\n",
      "  \"reset position for agent[{}]: {} -> {}\".format(i, agents_position[i], agents_target[i]))\n",
      "/home/arpit/anaconda3/envs/IA/lib/python3.7/site-packages/flatland/envs/schedule_generators.py:257: UserWarning: reset position for agent[0]: (5, 8) -> (3, 4)\n",
      "  \"reset position for agent[{}]: {} -> {}\".format(i, agents_position[i], agents_target[i]))\n"
     ]
    },
    {
     "name": "stdout",
     "output_type": "stream",
     "text": [
      "\r",
      "Training 1 Agents on (10,10).\t Episode 420\t Average Score: -46.000\tDones: 43.00%\tEpsilon: 0.43 \t Action Probabilities: \t [0.16616344 0.20170272 0.1730931  0.19645597 0.26258476] re_generate cnt=2\n"
     ]
    },
    {
     "name": "stderr",
     "output_type": "stream",
     "text": [
      "/home/arpit/anaconda3/envs/IA/lib/python3.7/site-packages/flatland/envs/schedule_generators.py:257: UserWarning: reset position for agent[0]: (3, 1) -> (8, 0)\n",
      "  \"reset position for agent[{}]: {} -> {}\".format(i, agents_position[i], agents_target[i]))\n"
     ]
    },
    {
     "name": "stdout",
     "output_type": "stream",
     "text": [
      "Training 1 Agents on (10,10).\t Episode 429\t Average Score: -44.980\tDones: 44.00%\tEpsilon: 0.42 \t Action Probabilities: \t [0.16548337 0.20161447 0.17336121 0.19670298 0.26283797] re_generate cnt=2\n"
     ]
    },
    {
     "name": "stderr",
     "output_type": "stream",
     "text": [
      "/home/arpit/anaconda3/envs/IA/lib/python3.7/site-packages/flatland/envs/schedule_generators.py:257: UserWarning: reset position for agent[0]: (3, 2) -> (2, 7)\n",
      "  \"reset position for agent[{}]: {} -> {}\".format(i, agents_position[i], agents_target[i]))\n"
     ]
    },
    {
     "name": "stdout",
     "output_type": "stream",
     "text": [
      "Training 1 Agents on (10,10).\t Episode 435\t Average Score: -44.230\tDones: 47.00%\tEpsilon: 0.42 \t Action Probabilities: \t [0.16560081 0.20123095 0.17238063 0.19796124 0.26282637] re_generate cnt=2\n",
      "Training 1 Agents on (10,10).\t Episode 436\t Average Score: -43.900\tDones: 47.00%\tEpsilon: 0.42 \t Action Probabilities: \t [0.16557692 0.20129808 0.17235577 0.19798077 0.26278846] "
     ]
    },
    {
     "name": "stderr",
     "output_type": "stream",
     "text": [
      "/home/arpit/anaconda3/envs/IA/lib/python3.7/site-packages/flatland/envs/schedule_generators.py:257: UserWarning: reset position for agent[0]: (1, 5) -> (1, 1)\n",
      "  \"reset position for agent[{}]: {} -> {}\".format(i, agents_position[i], agents_target[i]))\n"
     ]
    },
    {
     "name": "stdout",
     "output_type": "stream",
     "text": [
      "Training 1 Agents on (10,10).\t Episode 446\t Average Score: -44.650\tDones: 44.00%\tEpsilon: 0.41 \t Action Probabilities: \t [0.16493878 0.2011071  0.17450861 0.19744805 0.26199747] re_generate cnt=2\n",
      "Training 1 Agents on (10,10).\t Episode 447\t Average Score: -44.610\tDones: 44.00%\tEpsilon: 0.41 \t Action Probabilities: \t [0.16496248 0.2010788  0.17448405 0.19751407 0.2619606 ] "
     ]
    },
    {
     "name": "stderr",
     "output_type": "stream",
     "text": [
      "/home/arpit/anaconda3/envs/IA/lib/python3.7/site-packages/flatland/envs/schedule_generators.py:257: UserWarning: reset position for agent[0]: (3, 8) -> (9, 7)\n",
      "  \"reset position for agent[{}]: {} -> {}\".format(i, agents_position[i], agents_target[i]))\n"
     ]
    },
    {
     "name": "stdout",
     "output_type": "stream",
     "text": [
      "Training 1 Agents on (10,10).\t Episode 486\t Average Score: -43.550\tDones: 49.00%\tEpsilon: 0.38 \t Action Probabilities: \t [0.16238796 0.2028109  0.17391872 0.19898181 0.26190062] re_generate cnt=2\n",
      "re_generate cnt=3\n",
      "re_generate cnt=4\n",
      "re_generate cnt=5\n",
      "re_generate cnt=6\n",
      "re_generate cnt=7\n",
      "re_generate cnt=8\n",
      "re_generate cnt=9\n",
      "re_generate cnt=10\n",
      "re_generate cnt=11\n",
      "re_generate cnt=12\n"
     ]
    },
    {
     "name": "stderr",
     "output_type": "stream",
     "text": [
      "/home/arpit/anaconda3/envs/IA/lib/python3.7/site-packages/flatland/envs/schedule_generators.py:257: UserWarning: reset position for agent[0]: (2, 8) -> (1, 2)\n",
      "  \"reset position for agent[{}]: {} -> {}\".format(i, agents_position[i], agents_target[i]))\n",
      "/home/arpit/anaconda3/envs/IA/lib/python3.7/site-packages/flatland/envs/schedule_generators.py:257: UserWarning: reset position for agent[0]: (0, 1) -> (5, 7)\n",
      "  \"reset position for agent[{}]: {} -> {}\".format(i, agents_position[i], agents_target[i]))\n",
      "/home/arpit/anaconda3/envs/IA/lib/python3.7/site-packages/flatland/envs/schedule_generators.py:257: UserWarning: reset position for agent[0]: (6, 6) -> (6, 1)\n",
      "  \"reset position for agent[{}]: {} -> {}\".format(i, agents_position[i], agents_target[i]))\n",
      "/home/arpit/anaconda3/envs/IA/lib/python3.7/site-packages/flatland/envs/schedule_generators.py:257: UserWarning: reset position for agent[0]: (1, 8) -> (1, 0)\n",
      "  \"reset position for agent[{}]: {} -> {}\".format(i, agents_position[i], agents_target[i]))\n",
      "/home/arpit/anaconda3/envs/IA/lib/python3.7/site-packages/flatland/envs/schedule_generators.py:257: UserWarning: reset position for agent[0]: (1, 1) -> (1, 4)\n",
      "  \"reset position for agent[{}]: {} -> {}\".format(i, agents_position[i], agents_target[i]))\n",
      "/home/arpit/anaconda3/envs/IA/lib/python3.7/site-packages/flatland/envs/schedule_generators.py:257: UserWarning: reset position for agent[0]: (6, 0) -> (4, 4)\n",
      "  \"reset position for agent[{}]: {} -> {}\".format(i, agents_position[i], agents_target[i]))\n",
      "/home/arpit/anaconda3/envs/IA/lib/python3.7/site-packages/flatland/envs/schedule_generators.py:257: UserWarning: reset position for agent[0]: (7, 9) -> (8, 1)\n",
      "  \"reset position for agent[{}]: {} -> {}\".format(i, agents_position[i], agents_target[i]))\n",
      "/home/arpit/anaconda3/envs/IA/lib/python3.7/site-packages/flatland/envs/schedule_generators.py:257: UserWarning: reset position for agent[0]: (3, 2) -> (3, 9)\n",
      "  \"reset position for agent[{}]: {} -> {}\".format(i, agents_position[i], agents_target[i]))\n",
      "/home/arpit/anaconda3/envs/IA/lib/python3.7/site-packages/flatland/envs/schedule_generators.py:257: UserWarning: reset position for agent[0]: (9, 6) -> (5, 0)\n",
      "  \"reset position for agent[{}]: {} -> {}\".format(i, agents_position[i], agents_target[i]))\n",
      "/home/arpit/anaconda3/envs/IA/lib/python3.7/site-packages/flatland/envs/schedule_generators.py:257: UserWarning: reset position for agent[0]: (8, 9) -> (0, 2)\n",
      "  \"reset position for agent[{}]: {} -> {}\".format(i, agents_position[i], agents_target[i]))\n",
      "/home/arpit/anaconda3/envs/IA/lib/python3.7/site-packages/flatland/envs/schedule_generators.py:257: UserWarning: reset position for agent[0]: (1, 0) -> (7, 5)\n",
      "  \"reset position for agent[{}]: {} -> {}\".format(i, agents_position[i], agents_target[i]))\n"
     ]
    },
    {
     "name": "stdout",
     "output_type": "stream",
     "text": [
      "Training 1 Agents on (10,10).\t Episode 500\t Average Score: -40.500\tDones: 55.00%\tEpsilon: 0.37 \t Action Probabilities: \t [0.1634968  0.20315565 0.1733049  0.19880597 0.26123667] "
     ]
    },
    {
     "name": "stderr",
     "output_type": "stream",
     "text": [
      "/home/arpit/anaconda3/envs/IA/lib/python3.7/site-packages/flatland/envs/schedule_generators.py:257: UserWarning: reset position for agent[0]: (4, 2) -> (7, 4)\n",
      "  \"reset position for agent[{}]: {} -> {}\".format(i, agents_position[i], agents_target[i]))\n",
      "/home/arpit/anaconda3/envs/IA/lib/python3.7/site-packages/flatland/envs/schedule_generators.py:257: UserWarning: reset position for agent[0]: (8, 0) -> (1, 4)\n",
      "  \"reset position for agent[{}]: {} -> {}\".format(i, agents_position[i], agents_target[i]))\n"
     ]
    },
    {
     "name": "stdout",
     "output_type": "stream",
     "text": [
      "re_generate cnt=2\n",
      "re_generate cnt=3\n",
      "Training 1 Agents on (10,10).\t Episode 557\t Average Score: -37.090\tDones: 60.00%\tEpsilon: 0.33 \t Action Probabilities: \t [0.16022251 0.20699651 0.17358091 0.19947507 0.259725  ] re_generate cnt=2\n",
      "re_generate cnt=3\n"
     ]
    },
    {
     "name": "stderr",
     "output_type": "stream",
     "text": [
      "/home/arpit/anaconda3/envs/IA/lib/python3.7/site-packages/flatland/envs/schedule_generators.py:257: UserWarning: reset position for agent[0]: (1, 3) -> (9, 6)\n",
      "  \"reset position for agent[{}]: {} -> {}\".format(i, agents_position[i], agents_target[i]))\n",
      "/home/arpit/anaconda3/envs/IA/lib/python3.7/site-packages/flatland/envs/schedule_generators.py:257: UserWarning: reset position for agent[0]: (9, 8) -> (4, 3)\n",
      "  \"reset position for agent[{}]: {} -> {}\".format(i, agents_position[i], agents_target[i]))\n"
     ]
    },
    {
     "name": "stdout",
     "output_type": "stream",
     "text": [
      "Training 1 Agents on (10,10).\t Episode 569\t Average Score: -36.990\tDones: 58.00%\tEpsilon: 0.32 \t Action Probabilities: \t [0.15912414 0.20918956 0.17251597 0.19949203 0.25967829] re_generate cnt=2\n",
      "Training 1 Agents on (10,10).\t Episode 570\t Average Score: -36.630\tDones: 59.00%\tEpsilon: 0.32 \t Action Probabilities: \t [0.15900354 0.20928802 0.17234353 0.19948485 0.25988006] "
     ]
    },
    {
     "name": "stderr",
     "output_type": "stream",
     "text": [
      "/home/arpit/anaconda3/envs/IA/lib/python3.7/site-packages/flatland/envs/schedule_generators.py:257: UserWarning: reset position for agent[0]: (5, 1) -> (8, 3)\n",
      "  \"reset position for agent[{}]: {} -> {}\".format(i, agents_position[i], agents_target[i]))\n"
     ]
    },
    {
     "name": "stdout",
     "output_type": "stream",
     "text": [
      "Training 1 Agents on (10,10).\t Episode 596\t Average Score: -37.230\tDones: 60.00%\tEpsilon: 0.30 \t Action Probabilities: \t [0.15880665 0.20997646 0.17124044 0.20243526 0.2575412 ] re_generate cnt=2\n"
     ]
    },
    {
     "name": "stderr",
     "output_type": "stream",
     "text": [
      "/home/arpit/anaconda3/envs/IA/lib/python3.7/site-packages/flatland/envs/schedule_generators.py:257: UserWarning: reset position for agent[0]: (8, 8) -> (0, 6)\n",
      "  \"reset position for agent[{}]: {} -> {}\".format(i, agents_position[i], agents_target[i]))\n"
     ]
    },
    {
     "name": "stdout",
     "output_type": "stream",
     "text": [
      "\r",
      "Training 1 Agents on (10,10).\t Episode 597\t Average Score: -37.630\tDones: 59.00%\tEpsilon: 0.30 \t Action Probabilities: \t [0.15867714 0.20984437 0.17126707 0.20213625 0.25807517] \r",
      "Training 1 Agents on (10,10).\t Episode 598\t Average Score: -37.110\tDones: 60.00%\tEpsilon: 0.30 \t Action Probabilities: \t [0.15861892 0.20995083 0.17135099 0.20206208 0.25801717] re_generate cnt=2\n"
     ]
    },
    {
     "name": "stderr",
     "output_type": "stream",
     "text": [
      "/home/arpit/anaconda3/envs/IA/lib/python3.7/site-packages/flatland/envs/schedule_generators.py:257: UserWarning: reset position for agent[0]: (2, 2) -> (0, 6)\n",
      "  \"reset position for agent[{}]: {} -> {}\".format(i, agents_position[i], agents_target[i]))\n"
     ]
    },
    {
     "name": "stdout",
     "output_type": "stream",
     "text": [
      "Training 1 Agents on (10,10).\t Episode 618\t Average Score: -39.480\tDones: 57.00%\tEpsilon: 0.29 \t Action Probabilities: \t [0.15768697 0.20943135 0.17024076 0.20235428 0.26028664] re_generate cnt=2\n",
      "re_generate cnt=3\n"
     ]
    },
    {
     "name": "stderr",
     "output_type": "stream",
     "text": [
      "/home/arpit/anaconda3/envs/IA/lib/python3.7/site-packages/flatland/envs/schedule_generators.py:257: UserWarning: reset position for agent[0]: (8, 5) -> (8, 8)\n",
      "  \"reset position for agent[{}]: {} -> {}\".format(i, agents_position[i], agents_target[i]))\n",
      "/home/arpit/anaconda3/envs/IA/lib/python3.7/site-packages/flatland/envs/schedule_generators.py:257: UserWarning: reset position for agent[0]: (4, 3) -> (8, 9)\n",
      "  \"reset position for agent[{}]: {} -> {}\".format(i, agents_position[i], agents_target[i]))\n"
     ]
    },
    {
     "name": "stdout",
     "output_type": "stream",
     "text": [
      "Training 1 Agents on (10,10).\t Episode 660\t Average Score: -37.560\tDones: 62.00%\tEpsilon: 0.27 \t Action Probabilities: \t [0.15583316 0.21223509 0.16907035 0.20278963 0.26007177] "
     ]
    },
    {
     "name": "stderr",
     "output_type": "stream",
     "text": [
      "/home/arpit/anaconda3/envs/IA/lib/python3.7/site-packages/flatland/envs/schedule_generators.py:257: UserWarning: reset position for agent[0]: (0, 7) -> (4, 0)\n",
      "  \"reset position for agent[{}]: {} -> {}\".format(i, agents_position[i], agents_target[i]))\n"
     ]
    },
    {
     "name": "stdout",
     "output_type": "stream",
     "text": [
      "re_generate cnt=2\n",
      "Training 1 Agents on (10,10).\t Episode 671\t Average Score: -36.980\tDones: 63.00%\tEpsilon: 0.26 \t Action Probabilities: \t [0.15518108 0.21303896 0.16828034 0.20389293 0.25960669] re_generate cnt=2\n",
      "Training 1 Agents on (10,10).\t Episode 673\t Average Score: -36.180\tDones: 65.00%\tEpsilon: 0.26 \t Action Probabilities: \t [0.15552136 0.21299301 0.16819991 0.20382698 0.25945874] "
     ]
    },
    {
     "name": "stderr",
     "output_type": "stream",
     "text": [
      "/home/arpit/anaconda3/envs/IA/lib/python3.7/site-packages/flatland/envs/schedule_generators.py:257: UserWarning: reset position for agent[0]: (5, 9) -> (6, 5)\n",
      "  \"reset position for agent[{}]: {} -> {}\".format(i, agents_position[i], agents_target[i]))\n"
     ]
    },
    {
     "name": "stdout",
     "output_type": "stream",
     "text": [
      "Training 1 Agents on (10,10).\t Episode 687\t Average Score: -35.440\tDones: 64.00%\tEpsilon: 0.25 \t Action Probabilities: \t [0.15468996 0.21334735 0.16730163 0.20401997 0.26064109] re_generate cnt=2\n"
     ]
    },
    {
     "name": "stderr",
     "output_type": "stream",
     "text": [
      "/home/arpit/anaconda3/envs/IA/lib/python3.7/site-packages/flatland/envs/schedule_generators.py:257: UserWarning: reset position for agent[0]: (0, 2) -> (6, 3)\n",
      "  \"reset position for agent[{}]: {} -> {}\".format(i, agents_position[i], agents_target[i]))\n"
     ]
    },
    {
     "name": "stdout",
     "output_type": "stream",
     "text": [
      "Training 1 Agents on (10,10).\t Episode 707\t Average Score: -35.560\tDones: 63.00%\tEpsilon: 0.24 \t Action Probabilities: \t [0.15496112 0.21476338 0.16516814 0.20340447 0.26170288] re_generate cnt=2\n",
      "Training 1 Agents on (10,10).\t Episode 709\t Average Score: -35.290\tDones: 64.00%\tEpsilon: 0.24 \t Action Probabilities: \t [0.15486118 0.2146075  0.16540465 0.20336113 0.26176555] "
     ]
    },
    {
     "name": "stderr",
     "output_type": "stream",
     "text": [
      "/home/arpit/anaconda3/envs/IA/lib/python3.7/site-packages/flatland/envs/schedule_generators.py:257: UserWarning: reset position for agent[0]: (5, 8) -> (3, 3)\n",
      "  \"reset position for agent[{}]: {} -> {}\".format(i, agents_position[i], agents_target[i]))\n"
     ]
    },
    {
     "name": "stdout",
     "output_type": "stream",
     "text": [
      "Training 1 Agents on (10,10).\t Episode 734\t Average Score: -33.080\tDones: 69.00%\tEpsilon: 0.23 \t Action Probabilities: \t [0.15385569 0.21875291 0.16365384 0.2045828  0.25915475] re_generate cnt=2\n"
     ]
    },
    {
     "name": "stderr",
     "output_type": "stream",
     "text": [
      "/home/arpit/anaconda3/envs/IA/lib/python3.7/site-packages/flatland/envs/schedule_generators.py:257: UserWarning: reset position for agent[0]: (9, 2) -> (9, 6)\n",
      "  \"reset position for agent[{}]: {} -> {}\".format(i, agents_position[i], agents_target[i]))\n"
     ]
    },
    {
     "name": "stdout",
     "output_type": "stream",
     "text": [
      "\r",
      "Training 1 Agents on (10,10).\t Episode 735\t Average Score: -33.630\tDones: 69.00%\tEpsilon: 0.23 \t Action Probabilities: \t [0.1537033  0.21922684 0.16351481 0.20467981 0.25887524] re_generate cnt=2\n",
      "re_generate cnt=3\n"
     ]
    },
    {
     "name": "stderr",
     "output_type": "stream",
     "text": [
      "/home/arpit/anaconda3/envs/IA/lib/python3.7/site-packages/flatland/envs/schedule_generators.py:257: UserWarning: reset position for agent[0]: (1, 7) -> (5, 9)\n",
      "  \"reset position for agent[{}]: {} -> {}\".format(i, agents_position[i], agents_target[i]))\n",
      "/home/arpit/anaconda3/envs/IA/lib/python3.7/site-packages/flatland/envs/schedule_generators.py:257: UserWarning: reset position for agent[0]: (0, 8) -> (7, 9)\n",
      "  \"reset position for agent[{}]: {} -> {}\".format(i, agents_position[i], agents_target[i]))\n"
     ]
    },
    {
     "name": "stdout",
     "output_type": "stream",
     "text": [
      "Training 1 Agents on (10,10).\t Episode 743\t Average Score: -34.360\tDones: 68.00%\tEpsilon: 0.23 \t Action Probabilities: \t [0.15438833 0.2198762  0.16281564 0.20449252 0.25842731] re_generate cnt=2\n"
     ]
    },
    {
     "name": "stderr",
     "output_type": "stream",
     "text": [
      "/home/arpit/anaconda3/envs/IA/lib/python3.7/site-packages/flatland/envs/schedule_generators.py:257: UserWarning: reset position for agent[0]: (8, 1) -> (4, 5)\n",
      "  \"reset position for agent[{}]: {} -> {}\".format(i, agents_position[i], agents_target[i]))\n"
     ]
    },
    {
     "name": "stdout",
     "output_type": "stream",
     "text": [
      "Training 1 Agents on (10,10).\t Episode 788\t Average Score: -38.310\tDones: 58.00%\tEpsilon: 0.21 \t Action Probabilities: \t [0.15225848 0.2234092  0.15977706 0.20468532 0.25986995] re_generate cnt=2\n"
     ]
    },
    {
     "name": "stderr",
     "output_type": "stream",
     "text": [
      "/home/arpit/anaconda3/envs/IA/lib/python3.7/site-packages/flatland/envs/schedule_generators.py:257: UserWarning: reset position for agent[0]: (5, 1) -> (6, 2)\n",
      "  \"reset position for agent[{}]: {} -> {}\".format(i, agents_position[i], agents_target[i]))\n"
     ]
    },
    {
     "name": "stdout",
     "output_type": "stream",
     "text": [
      "Training 1 Agents on (10,10).\t Episode 820\t Average Score: -35.680\tDones: 62.00%\tEpsilon: 0.19 \t Action Probabilities: \t [0.15112114 0.22518686 0.15831335 0.20456917 0.26080948] "
     ]
    },
    {
     "name": "stderr",
     "output_type": "stream",
     "text": [
      "/home/arpit/anaconda3/envs/IA/lib/python3.7/site-packages/flatland/envs/schedule_generators.py:257: UserWarning: reset position for agent[0]: (6, 7) -> (2, 2)\n",
      "  \"reset position for agent[{}]: {} -> {}\".format(i, agents_position[i], agents_target[i]))\n"
     ]
    },
    {
     "name": "stdout",
     "output_type": "stream",
     "text": [
      "re_generate cnt=2\n",
      "Training 1 Agents on (10,10).\t Episode 824\t Average Score: -34.820\tDones: 63.00%\tEpsilon: 0.19 \t Action Probabilities: \t [0.15091682 0.2253894  0.15821198 0.20491226 0.26056953] re_generate cnt=2\n"
     ]
    },
    {
     "name": "stderr",
     "output_type": "stream",
     "text": [
      "/home/arpit/anaconda3/envs/IA/lib/python3.7/site-packages/flatland/envs/schedule_generators.py:257: UserWarning: reset position for agent[0]: (7, 0) -> (6, 9)\n",
      "  \"reset position for agent[{}]: {} -> {}\".format(i, agents_position[i], agents_target[i]))\n"
     ]
    },
    {
     "name": "stdout",
     "output_type": "stream",
     "text": [
      "Training 1 Agents on (10,10).\t Episode 849\t Average Score: -35.230\tDones: 64.00%\tEpsilon: 0.18 \t Action Probabilities: \t [0.15053558 0.22767516 0.15600066 0.20338288 0.26240573] re_generate cnt=2\n"
     ]
    },
    {
     "name": "stderr",
     "output_type": "stream",
     "text": [
      "/home/arpit/anaconda3/envs/IA/lib/python3.7/site-packages/flatland/envs/schedule_generators.py:257: UserWarning: reset position for agent[0]: (9, 1) -> (1, 7)\n",
      "  \"reset position for agent[{}]: {} -> {}\".format(i, agents_position[i], agents_target[i]))\n"
     ]
    },
    {
     "name": "stdout",
     "output_type": "stream",
     "text": [
      "Training 1 Agents on (10,10).\t Episode 858\t Average Score: -33.970\tDones: 67.00%\tEpsilon: 0.18 \t Action Probabilities: \t [0.14968956 0.22815389 0.15532901 0.2045929  0.26223463] re_generate cnt=2\n"
     ]
    },
    {
     "name": "stderr",
     "output_type": "stream",
     "text": [
      "/home/arpit/anaconda3/envs/IA/lib/python3.7/site-packages/flatland/envs/schedule_generators.py:257: UserWarning: reset position for agent[0]: (4, 3) -> (5, 4)\n",
      "  \"reset position for agent[{}]: {} -> {}\".format(i, agents_position[i], agents_target[i]))\n"
     ]
    },
    {
     "name": "stdout",
     "output_type": "stream",
     "text": [
      "Training 1 Agents on (10,10).\t Episode 867\t Average Score: -34.320\tDones: 66.00%\tEpsilon: 0.18 \t Action Probabilities: \t [0.14898468 0.22900292 0.15477883 0.20531667 0.2619169 ] re_generate cnt=2\n",
      "Training 1 Agents on (10,10).\t Episode 869\t Average Score: -33.490\tDones: 67.00%\tEpsilon: 0.18 \t Action Probabilities: \t [0.14893959 0.22916052 0.15473094 0.20537845 0.26179049] "
     ]
    },
    {
     "name": "stderr",
     "output_type": "stream",
     "text": [
      "/home/arpit/anaconda3/envs/IA/lib/python3.7/site-packages/flatland/envs/schedule_generators.py:257: UserWarning: reset position for agent[0]: (8, 3) -> (1, 8)\n",
      "  \"reset position for agent[{}]: {} -> {}\".format(i, agents_position[i], agents_target[i]))\n"
     ]
    },
    {
     "name": "stdout",
     "output_type": "stream",
     "text": [
      "Training 1 Agents on (10,10).\t Episode 891\t Average Score: -35.350\tDones: 65.00%\tEpsilon: 0.17 \t Action Probabilities: \t [0.14852107 0.2308497  0.15440542 0.20519392 0.26102989] re_generate cnt=2\n",
      "re_generate cnt=3\n",
      "Training 1 Agents on (10,10).\t Episode 892\t Average Score: -35.620\tDones: 65.00%\tEpsilon: 0.17 \t Action Probabilities: \t [0.14848588 0.23089384 0.15439082 0.20513155 0.2610979 ] "
     ]
    },
    {
     "name": "stderr",
     "output_type": "stream",
     "text": [
      "/home/arpit/anaconda3/envs/IA/lib/python3.7/site-packages/flatland/envs/schedule_generators.py:257: UserWarning: reset position for agent[0]: (1, 3) -> (6, 6)\n",
      "  \"reset position for agent[{}]: {} -> {}\".format(i, agents_position[i], agents_target[i]))\n",
      "/home/arpit/anaconda3/envs/IA/lib/python3.7/site-packages/flatland/envs/schedule_generators.py:257: UserWarning: reset position for agent[0]: (1, 8) -> (9, 5)\n",
      "  \"reset position for agent[{}]: {} -> {}\".format(i, agents_position[i], agents_target[i]))\n"
     ]
    },
    {
     "name": "stdout",
     "output_type": "stream",
     "text": [
      "Training 1 Agents on (10,10).\t Episode 900\t Average Score: -34.390\tDones: 68.00%\tEpsilon: 0.17 \t Action Probabilities: \t [0.14916654 0.2314483  0.15394402 0.2049125  0.26052864] re_generate cnt=2\n"
     ]
    },
    {
     "name": "stderr",
     "output_type": "stream",
     "text": [
      "/home/arpit/anaconda3/envs/IA/lib/python3.7/site-packages/flatland/envs/schedule_generators.py:257: UserWarning: reset position for agent[0]: (4, 0) -> (9, 8)\n",
      "  \"reset position for agent[{}]: {} -> {}\".format(i, agents_position[i], agents_target[i]))\n"
     ]
    },
    {
     "name": "stdout",
     "output_type": "stream",
     "text": [
      "Training 1 Agents on (10,10).\t Episode 939\t Average Score: -32.980\tDones: 71.00%\tEpsilon: 0.15 \t Action Probabilities: \t [0.14808354 0.23445085 0.15296319 0.20608313 0.2584193 ] re_generate cnt=2\n",
      "Training 1 Agents on (10,10).\t Episode 940\t Average Score: -33.280\tDones: 70.00%\tEpsilon: 0.15 \t Action Probabilities: \t [0.14788448 0.23417146 0.1527315  0.20693224 0.25828032] "
     ]
    },
    {
     "name": "stderr",
     "output_type": "stream",
     "text": [
      "/home/arpit/anaconda3/envs/IA/lib/python3.7/site-packages/flatland/envs/schedule_generators.py:257: UserWarning: reset position for agent[0]: (5, 1) -> (7, 3)\n",
      "  \"reset position for agent[{}]: {} -> {}\".format(i, agents_position[i], agents_target[i]))\n"
     ]
    },
    {
     "name": "stdout",
     "output_type": "stream",
     "text": [
      "Training 1 Agents on (10,10).\t Episode 969\t Average Score: -30.980\tDones: 76.00%\tEpsilon: 0.14 \t Action Probabilities: \t [0.1466693  0.23587442 0.15192246 0.20682171 0.25871211] re_generate cnt=2\n",
      "re_generate cnt=3\n",
      "re_generate cnt=4\n",
      "Training 1 Agents on (10,10).\t Episode 970\t Average Score: -30.560\tDones: 76.00%\tEpsilon: 0.14 \t Action Probabilities: \t [0.14665845 0.23585697 0.15191122 0.20688039 0.25869297] "
     ]
    },
    {
     "name": "stderr",
     "output_type": "stream",
     "text": [
      "/home/arpit/anaconda3/envs/IA/lib/python3.7/site-packages/flatland/envs/schedule_generators.py:257: UserWarning: reset position for agent[0]: (7, 0) -> (6, 8)\n",
      "  \"reset position for agent[{}]: {} -> {}\".format(i, agents_position[i], agents_target[i]))\n",
      "/home/arpit/anaconda3/envs/IA/lib/python3.7/site-packages/flatland/envs/schedule_generators.py:257: UserWarning: reset position for agent[0]: (8, 1) -> (2, 4)\n",
      "  \"reset position for agent[{}]: {} -> {}\".format(i, agents_position[i], agents_target[i]))\n",
      "/home/arpit/anaconda3/envs/IA/lib/python3.7/site-packages/flatland/envs/schedule_generators.py:257: UserWarning: reset position for agent[0]: (4, 4) -> (9, 3)\n",
      "  \"reset position for agent[{}]: {} -> {}\".format(i, agents_position[i], agents_target[i]))\n"
     ]
    },
    {
     "name": "stdout",
     "output_type": "stream",
     "text": [
      "Training 1 Agents on (10,10).\t Episode 988\t Average Score: -28.560\tDones: 82.00%\tEpsilon: 0.14 \t Action Probabilities: \t [0.14774245 0.23699998 0.15092415 0.20719889 0.25713453] re_generate cnt=2\n"
     ]
    },
    {
     "name": "stderr",
     "output_type": "stream",
     "text": [
      "/home/arpit/anaconda3/envs/IA/lib/python3.7/site-packages/flatland/envs/schedule_generators.py:257: UserWarning: reset position for agent[0]: (6, 5) -> (4, 4)\n",
      "  \"reset position for agent[{}]: {} -> {}\".format(i, agents_position[i], agents_target[i]))\n"
     ]
    },
    {
     "name": "stdout",
     "output_type": "stream",
     "text": [
      "Training 1 Agents on (10,10).\t Episode 1015\t Average Score: -30.580\tDones: 77.00%\tEpsilon: 0.13 \t Action Probabilities: \t [0.1489569  0.23796512 0.14917075 0.20702847 0.25687877] re_generate cnt=2\n",
      "Training 1 Agents on (10,10).\t Episode 1018\t Average Score: -29.730\tDones: 78.00%\tEpsilon: 0.13 \t Action Probabilities: \t [0.14895789 0.23821393 0.14905284 0.20711675 0.2566586 ] "
     ]
    },
    {
     "name": "stderr",
     "output_type": "stream",
     "text": [
      "/home/arpit/anaconda3/envs/IA/lib/python3.7/site-packages/flatland/envs/schedule_generators.py:257: UserWarning: reset position for agent[0]: (7, 0) -> (3, 0)\n",
      "  \"reset position for agent[{}]: {} -> {}\".format(i, agents_position[i], agents_target[i]))\n"
     ]
    },
    {
     "name": "stdout",
     "output_type": "stream",
     "text": [
      "Training 1 Agents on (10,10).\t Episode 1030\t Average Score: -30.060\tDones: 77.00%\tEpsilon: 0.13 \t Action Probabilities: \t [0.14878216 0.23861734 0.14901794 0.20728113 0.25630143] "
     ]
    },
    {
     "name": "stderr",
     "output_type": "stream",
     "text": [
      "/home/arpit/anaconda3/envs/IA/lib/python3.7/site-packages/flatland/envs/schedule_generators.py:257: UserWarning: reset position for agent[0]: (2, 7) -> (6, 9)\n",
      "  \"reset position for agent[{}]: {} -> {}\".format(i, agents_position[i], agents_target[i]))\n"
     ]
    },
    {
     "name": "stdout",
     "output_type": "stream",
     "text": [
      "re_generate cnt=2\n",
      "Training 1 Agents on (10,10).\t Episode 1038\t Average Score: -30.310\tDones: 77.00%\tEpsilon: 0.13 \t Action Probabilities: \t [0.14830002 0.23937953 0.14876866 0.20739508 0.25615671] "
     ]
    },
    {
     "name": "stderr",
     "output_type": "stream",
     "text": [
      "/home/arpit/anaconda3/envs/IA/lib/python3.7/site-packages/flatland/envs/schedule_generators.py:257: UserWarning: reset position for agent[0]: (3, 4) -> (8, 6)\n",
      "  \"reset position for agent[{}]: {} -> {}\".format(i, agents_position[i], agents_target[i]))\n"
     ]
    },
    {
     "name": "stdout",
     "output_type": "stream",
     "text": [
      "re_generate cnt=2\n",
      "Training 1 Agents on (10,10).\t Episode 1044\t Average Score: -29.090\tDones: 79.00%\tEpsilon: 0.12 \t Action Probabilities: \t [0.14791808 0.23976554 0.14840849 0.20737489 0.25653301] re_generate cnt=2\n"
     ]
    },
    {
     "name": "stderr",
     "output_type": "stream",
     "text": [
      "/home/arpit/anaconda3/envs/IA/lib/python3.7/site-packages/flatland/envs/schedule_generators.py:257: UserWarning: reset position for agent[0]: (9, 2) -> (6, 4)\n",
      "  \"reset position for agent[{}]: {} -> {}\".format(i, agents_position[i], agents_target[i]))\n"
     ]
    },
    {
     "name": "stdout",
     "output_type": "stream",
     "text": [
      "Training 1 Agents on (10,10).\t Episode 1077\t Average Score: -29.560\tDones: 76.00%\tEpsilon: 0.12 \t Action Probabilities: \t [0.14765024 0.24136672 0.14812955 0.20708466 0.25576884] re_generate cnt=2\n",
      "Training 1 Agents on (10,10).\t Episode 1079\t Average Score: -29.050\tDones: 76.00%\tEpsilon: 0.12 \t Action Probabilities: \t [0.14754921 0.24129279 0.14802819 0.20753598 0.25559382] "
     ]
    },
    {
     "name": "stderr",
     "output_type": "stream",
     "text": [
      "/home/arpit/anaconda3/envs/IA/lib/python3.7/site-packages/flatland/envs/schedule_generators.py:257: UserWarning: reset position for agent[0]: (9, 3) -> (1, 5)\n",
      "  \"reset position for agent[{}]: {} -> {}\".format(i, agents_position[i], agents_target[i]))\n"
     ]
    },
    {
     "name": "stdout",
     "output_type": "stream",
     "text": [
      "Training 1 Agents on (10,10).\t Episode 1106\t Average Score: -28.180\tDones: 76.00%\tEpsilon: 0.11 \t Action Probabilities: \t [0.14764786 0.24215767 0.14764786 0.20692581 0.2556208 ] re_generate cnt=2\n",
      "Training 1 Agents on (10,10).\t Episode 1107\t Average Score: -28.500\tDones: 76.00%\tEpsilon: 0.11 \t Action Probabilities: \t [0.14749967 0.24202614 0.14774501 0.20680733 0.25592185] "
     ]
    },
    {
     "name": "stderr",
     "output_type": "stream",
     "text": [
      "/home/arpit/anaconda3/envs/IA/lib/python3.7/site-packages/flatland/envs/schedule_generators.py:257: UserWarning: reset position for agent[0]: (0, 8) -> (0, 4)\n",
      "  \"reset position for agent[{}]: {} -> {}\".format(i, agents_position[i], agents_target[i]))\n"
     ]
    },
    {
     "name": "stdout",
     "output_type": "stream",
     "text": [
      "Training 1 Agents on (10,10).\t Episode 1112\t Average Score: -28.410\tDones: 76.00%\tEpsilon: 0.11 \t Action Probabilities: \t [0.14719231 0.24259144 0.14794874 0.20692801 0.2553395 ] re_generate cnt=2\n",
      "Training 1 Agents on (10,10).\t Episode 1113\t Average Score: -28.010\tDones: 77.00%\tEpsilon: 0.11 \t Action Probabilities: \t [0.14714254 0.24280632 0.14787636 0.20693796 0.25523682] "
     ]
    },
    {
     "name": "stderr",
     "output_type": "stream",
     "text": [
      "/home/arpit/anaconda3/envs/IA/lib/python3.7/site-packages/flatland/envs/schedule_generators.py:257: UserWarning: reset position for agent[0]: (9, 3) -> (0, 6)\n",
      "  \"reset position for agent[{}]: {} -> {}\".format(i, agents_position[i], agents_target[i]))\n"
     ]
    },
    {
     "name": "stdout",
     "output_type": "stream",
     "text": [
      "Training 1 Agents on (10,10).\t Episode 1129\t Average Score: -28.590\tDones: 77.00%\tEpsilon: 0.10 \t Action Probabilities: \t [0.14673278 0.24372452 0.14761433 0.20685399 0.25507438] re_generate cnt=2\n",
      "Training 1 Agents on (10,10).\t Episode 1130\t Average Score: -28.160\tDones: 77.00%\tEpsilon: 0.10 \t Action Probabilities: \t [0.14671338 0.24378044 0.14759481 0.20687072 0.25504066] "
     ]
    },
    {
     "name": "stderr",
     "output_type": "stream",
     "text": [
      "/home/arpit/anaconda3/envs/IA/lib/python3.7/site-packages/flatland/envs/schedule_generators.py:257: UserWarning: reset position for agent[0]: (5, 9) -> (7, 0)\n",
      "  \"reset position for agent[{}]: {} -> {}\".format(i, agents_position[i], agents_target[i]))\n"
     ]
    },
    {
     "name": "stdout",
     "output_type": "stream",
     "text": [
      "Training 1 Agents on (10,10).\t Episode 1191\t Average Score: -27.960\tDones: 82.00%\tEpsilon: 0.09 \t Action Probabilities: \t [0.14696242 0.24719291 0.14711044 0.20564167 0.25309255] re_generate cnt=2\n"
     ]
    },
    {
     "name": "stderr",
     "output_type": "stream",
     "text": [
      "/home/arpit/anaconda3/envs/IA/lib/python3.7/site-packages/flatland/envs/schedule_generators.py:257: UserWarning: reset position for agent[0]: (1, 5) -> (4, 9)\n",
      "  \"reset position for agent[{}]: {} -> {}\".format(i, agents_position[i], agents_target[i]))\n"
     ]
    },
    {
     "name": "stdout",
     "output_type": "stream",
     "text": [
      "Training 1 Agents on (10,10).\t Episode 1194\t Average Score: -27.590\tDones: 82.00%\tEpsilon: 0.09 \t Action Probabilities: \t [0.14682037 0.24736086 0.14698927 0.20585255 0.25297694] re_generate cnt=2\n"
     ]
    },
    {
     "name": "stderr",
     "output_type": "stream",
     "text": [
      "/home/arpit/anaconda3/envs/IA/lib/python3.7/site-packages/flatland/envs/schedule_generators.py:257: UserWarning: reset position for agent[0]: (1, 9) -> (0, 4)\n",
      "  \"reset position for agent[{}]: {} -> {}\".format(i, agents_position[i], agents_target[i]))\n"
     ]
    },
    {
     "name": "stdout",
     "output_type": "stream",
     "text": [
      "Training 1 Agents on (10,10).\t Episode 1206\t Average Score: -28.430\tDones: 80.00%\tEpsilon: 0.09 \t Action Probabilities: \t [0.14613324 0.24811684 0.14659357 0.20574573 0.25341061] re_generate cnt=2\n",
      "Training 1 Agents on (10,10).\t Episode 1208\t Average Score: -28.000\tDones: 80.00%\tEpsilon: 0.09 \t Action Probabilities: \t [0.14610525 0.24824297 0.14658635 0.20573963 0.2533258 ] "
     ]
    },
    {
     "name": "stderr",
     "output_type": "stream",
     "text": [
      "/home/arpit/anaconda3/envs/IA/lib/python3.7/site-packages/flatland/envs/schedule_generators.py:257: UserWarning: reset position for agent[0]: (9, 2) -> (5, 0)\n",
      "  \"reset position for agent[{}]: {} -> {}\".format(i, agents_position[i], agents_target[i]))\n"
     ]
    },
    {
     "name": "stdout",
     "output_type": "stream",
     "text": [
      "Training 1 Agents on (10,10).\t Episode 1234\t Average Score: -29.980\tDones: 74.00%\tEpsilon: 0.08 \t Action Probabilities: \t [0.14720082 0.24926554 0.14705701 0.20569081 0.25078582] re_generate cnt=2\n"
     ]
    },
    {
     "name": "stderr",
     "output_type": "stream",
     "text": [
      "/home/arpit/anaconda3/envs/IA/lib/python3.7/site-packages/flatland/envs/schedule_generators.py:257: UserWarning: reset position for agent[0]: (5, 1) -> (4, 2)\n",
      "  \"reset position for agent[{}]: {} -> {}\".format(i, agents_position[i], agents_target[i]))\n"
     ]
    },
    {
     "name": "stdout",
     "output_type": "stream",
     "text": [
      "Training 1 Agents on (10,10).\t Episode 1244\t Average Score: -30.580\tDones: 73.00%\tEpsilon: 0.08 \t Action Probabilities: \t [0.14723364 0.24929772 0.14615479 0.20516631 0.25214754] re_generate cnt=2\n"
     ]
    },
    {
     "name": "stderr",
     "output_type": "stream",
     "text": [
      "/home/arpit/anaconda3/envs/IA/lib/python3.7/site-packages/flatland/envs/schedule_generators.py:257: UserWarning: reset position for agent[0]: (9, 3) -> (4, 7)\n",
      "  \"reset position for agent[{}]: {} -> {}\".format(i, agents_position[i], agents_target[i]))\n"
     ]
    },
    {
     "name": "stdout",
     "output_type": "stream",
     "text": [
      "Training 1 Agents on (10,10).\t Episode 1271\t Average Score: -30.390\tDones: 74.00%\tEpsilon: 0.08 \t Action Probabilities: \t [0.14770131 0.25015031 0.14581747 0.20487795 0.25145296] re_generate cnt=2\n",
      "re_generate cnt=3\n",
      "Training 1 Agents on (10,10).\t Episode 1272\t Average Score: -29.980\tDones: 75.00%\tEpsilon: 0.08 \t Action Probabilities: \t [0.14763918 0.25020533 0.14589635 0.20491196 0.25134718] "
     ]
    },
    {
     "name": "stderr",
     "output_type": "stream",
     "text": [
      "/home/arpit/anaconda3/envs/IA/lib/python3.7/site-packages/flatland/envs/schedule_generators.py:257: UserWarning: reset position for agent[0]: (4, 0) -> (3, 8)\n",
      "  \"reset position for agent[{}]: {} -> {}\".format(i, agents_position[i], agents_target[i]))\n",
      "/home/arpit/anaconda3/envs/IA/lib/python3.7/site-packages/flatland/envs/schedule_generators.py:257: UserWarning: reset position for agent[0]: (7, 7) -> (9, 3)\n",
      "  \"reset position for agent[{}]: {} -> {}\".format(i, agents_position[i], agents_target[i]))\n"
     ]
    },
    {
     "name": "stdout",
     "output_type": "stream",
     "text": [
      "Training 1 Agents on (10,10).\t Episode 1285\t Average Score: -29.260\tDones: 77.00%\tEpsilon: 0.08 \t Action Probabilities: \t [0.14775736 0.25092075 0.14550775 0.20523183 0.25058231] re_generate cnt=2\n",
      "re_generate cnt=3\n",
      "Training 1 Agents on (10,10).\t Episode 1286\t Average Score: -29.000\tDones: 77.00%\tEpsilon: 0.08 \t Action Probabilities: \t [0.1477456  0.25096049 0.14549617 0.20523539 0.25056236] "
     ]
    },
    {
     "name": "stderr",
     "output_type": "stream",
     "text": [
      "/home/arpit/anaconda3/envs/IA/lib/python3.7/site-packages/flatland/envs/schedule_generators.py:257: UserWarning: reset position for agent[0]: (8, 4) -> (3, 5)\n",
      "  \"reset position for agent[{}]: {} -> {}\".format(i, agents_position[i], agents_target[i]))\n",
      "/home/arpit/anaconda3/envs/IA/lib/python3.7/site-packages/flatland/envs/schedule_generators.py:257: UserWarning: reset position for agent[0]: (9, 1) -> (3, 3)\n",
      "  \"reset position for agent[{}]: {} -> {}\".format(i, agents_position[i], agents_target[i]))\n"
     ]
    },
    {
     "name": "stdout",
     "output_type": "stream",
     "text": [
      "Training 1 Agents on (10,10).\t Episode 1293\t Average Score: -29.490\tDones: 76.00%\tEpsilon: 0.08 \t Action Probabilities: \t [0.14718006 0.25111965 0.14521818 0.20526337 0.25121874] re_generate cnt=2\n",
      "re_generate cnt=3\n",
      "Training 1 Agents on (10,10).\t Episode 1294\t Average Score: -29.680\tDones: 76.00%\tEpsilon: 0.07 \t Action Probabilities: \t [0.14711592 0.25132715 0.14525394 0.20519372 0.25110926] "
     ]
    },
    {
     "name": "stderr",
     "output_type": "stream",
     "text": [
      "/home/arpit/anaconda3/envs/IA/lib/python3.7/site-packages/flatland/envs/schedule_generators.py:257: UserWarning: reset position for agent[0]: (4, 3) -> (8, 4)\n",
      "  \"reset position for agent[{}]: {} -> {}\".format(i, agents_position[i], agents_target[i]))\n",
      "/home/arpit/anaconda3/envs/IA/lib/python3.7/site-packages/flatland/envs/schedule_generators.py:257: UserWarning: reset position for agent[0]: (5, 2) -> (7, 2)\n",
      "  \"reset position for agent[{}]: {} -> {}\".format(i, agents_position[i], agents_target[i]))\n"
     ]
    },
    {
     "name": "stdout",
     "output_type": "stream",
     "text": [
      "Training 1 Agents on (10,10).\t Episode 1321\t Average Score: -29.290\tDones: 79.00%\tEpsilon: 0.07 \t Action Probabilities: \t [0.14744964 0.25199704 0.14546234 0.20582161 0.24926938] re_generate cnt=2\n",
      "Training 1 Agents on (10,10).\t Episode 1322\t Average Score: -28.880\tDones: 80.00%\tEpsilon: 0.07 \t Action Probabilities: \t [0.14746723 0.25204978 0.14546127 0.20585429 0.24916743] "
     ]
    },
    {
     "name": "stderr",
     "output_type": "stream",
     "text": [
      "/home/arpit/anaconda3/envs/IA/lib/python3.7/site-packages/flatland/envs/schedule_generators.py:257: UserWarning: reset position for agent[0]: (2, 5) -> (9, 4)\n",
      "  \"reset position for agent[{}]: {} -> {}\".format(i, agents_position[i], agents_target[i]))\n"
     ]
    },
    {
     "name": "stdout",
     "output_type": "stream",
     "text": [
      "\r",
      "Training 1 Agents on (10,10).\t Episode 1323\t Average Score: -29.340\tDones: 79.00%\tEpsilon: 0.07 \t Action Probabilities: \t [0.14840391 0.2517556  0.1452915  0.20563347 0.24891552] re_generate cnt=2\n",
      "re_generate cnt=3\n",
      "re_generate cnt=4\n",
      "re_generate cnt=5\n",
      "re_generate cnt=6\n",
      "\r",
      "Training 1 Agents on (10,10).\t Episode 1324\t Average Score: -28.920\tDones: 80.00%\tEpsilon: 0.07 \t Action Probabilities: \t [0.14842398 0.25181325 0.14525444 0.20567017 0.24883816] "
     ]
    },
    {
     "name": "stderr",
     "output_type": "stream",
     "text": [
      "/home/arpit/anaconda3/envs/IA/lib/python3.7/site-packages/flatland/envs/schedule_generators.py:257: UserWarning: reset position for agent[0]: (1, 7) -> (8, 2)\n",
      "  \"reset position for agent[{}]: {} -> {}\".format(i, agents_position[i], agents_target[i]))\n",
      "/home/arpit/anaconda3/envs/IA/lib/python3.7/site-packages/flatland/envs/schedule_generators.py:257: UserWarning: reset position for agent[0]: (2, 1) -> (2, 6)\n",
      "  \"reset position for agent[{}]: {} -> {}\".format(i, agents_position[i], agents_target[i]))\n",
      "/home/arpit/anaconda3/envs/IA/lib/python3.7/site-packages/flatland/envs/schedule_generators.py:257: UserWarning: reset position for agent[0]: (3, 2) -> (1, 0)\n",
      "  \"reset position for agent[{}]: {} -> {}\".format(i, agents_position[i], agents_target[i]))\n",
      "/home/arpit/anaconda3/envs/IA/lib/python3.7/site-packages/flatland/envs/schedule_generators.py:257: UserWarning: reset position for agent[0]: (1, 2) -> (3, 7)\n",
      "  \"reset position for agent[{}]: {} -> {}\".format(i, agents_position[i], agents_target[i]))\n"
     ]
    },
    {
     "name": "stdout",
     "output_type": "stream",
     "text": [
      "Training 1 Agents on (10,10).\t Episode 1347\t Average Score: -25.420\tDones: 86.00%\tEpsilon: 0.07 \t Action Probabilities: \t [0.14780667 0.25297865 0.14505418 0.2058014  0.24835909] re_generate cnt=2\n"
     ]
    },
    {
     "name": "stderr",
     "output_type": "stream",
     "text": [
      "/home/arpit/anaconda3/envs/IA/lib/python3.7/site-packages/flatland/envs/schedule_generators.py:257: UserWarning: reset position for agent[0]: (1, 1) -> (1, 9)\n",
      "  \"reset position for agent[{}]: {} -> {}\".format(i, agents_position[i], agents_target[i]))\n"
     ]
    },
    {
     "name": "stdout",
     "output_type": "stream",
     "text": [
      "Training 1 Agents on (10,10).\t Episode 1361\t Average Score: -26.370\tDones: 85.00%\tEpsilon: 0.07 \t Action Probabilities: \t [0.14718838 0.25433328 0.14497645 0.20593788 0.24756402] re_generate cnt=2\n",
      "re_generate cnt=3\n"
     ]
    },
    {
     "name": "stderr",
     "output_type": "stream",
     "text": [
      "/home/arpit/anaconda3/envs/IA/lib/python3.7/site-packages/flatland/envs/schedule_generators.py:257: UserWarning: reset position for agent[0]: (1, 3) -> (5, 9)\n",
      "  \"reset position for agent[{}]: {} -> {}\".format(i, agents_position[i], agents_target[i]))\n",
      "/home/arpit/anaconda3/envs/IA/lib/python3.7/site-packages/flatland/envs/schedule_generators.py:257: UserWarning: reset position for agent[0]: (0, 1) -> (5, 6)\n",
      "  \"reset position for agent[{}]: {} -> {}\".format(i, agents_position[i], agents_target[i]))\n"
     ]
    },
    {
     "name": "stdout",
     "output_type": "stream",
     "text": [
      "Training 1 Agents on (10,10).\t Episode 1367\t Average Score: -27.550\tDones: 83.00%\tEpsilon: 0.06 \t Action Probabilities: \t [0.1468465  0.25461626 0.14479483 0.20583207 0.24791033] re_generate cnt=2\n",
      "Training 1 Agents on (10,10).\t Episode 1369\t Average Score: -27.010\tDones: 83.00%\tEpsilon: 0.06 \t Action Probabilities: \t [0.14681809 0.254667   0.14478607 0.20589855 0.2478303 ] "
     ]
    },
    {
     "name": "stderr",
     "output_type": "stream",
     "text": [
      "/home/arpit/anaconda3/envs/IA/lib/python3.7/site-packages/flatland/envs/schedule_generators.py:257: UserWarning: reset position for agent[0]: (0, 2) -> (7, 9)\n",
      "  \"reset position for agent[{}]: {} -> {}\".format(i, agents_position[i], agents_target[i]))\n"
     ]
    },
    {
     "name": "stdout",
     "output_type": "stream",
     "text": [
      "Training 1 Agents on (10,10).\t Episode 1380\t Average Score: -26.440\tDones: 82.00%\tEpsilon: 0.06 \t Action Probabilities: \t [0.14719949 0.25528818 0.14470426 0.20604525 0.24676282] "
     ]
    },
    {
     "name": "stderr",
     "output_type": "stream",
     "text": [
      "/home/arpit/anaconda3/envs/IA/lib/python3.7/site-packages/flatland/envs/schedule_generators.py:257: UserWarning: reset position for agent[0]: (9, 4) -> (1, 1)\n",
      "  \"reset position for agent[{}]: {} -> {}\".format(i, agents_position[i], agents_target[i]))\n",
      "/home/arpit/anaconda3/envs/IA/lib/python3.7/site-packages/flatland/envs/schedule_generators.py:257: UserWarning: reset position for agent[0]: (0, 6) -> (6, 8)\n",
      "  \"reset position for agent[{}]: {} -> {}\".format(i, agents_position[i], agents_target[i]))\n"
     ]
    },
    {
     "name": "stdout",
     "output_type": "stream",
     "text": [
      "re_generate cnt=2\n",
      "Training 1 Agents on (10,10).\t Episode 1381\t Average Score: -26.130\tDones: 83.00%\tEpsilon: 0.06 \t Action Probabilities: \t [0.14716995 0.25542205 0.14467619 0.20600015 0.24673166] re_generate cnt=2\n",
      "Training 1 Agents on (10,10).\t Episode 1397\t Average Score: -27.030\tDones: 81.00%\tEpsilon: 0.06 \t Action Probabilities: \t [0.14686283 0.2559711  0.14439203 0.20700434 0.24576969] re_generate cnt=2\n",
      "Training 1 Agents on (10,10).\t Episode 1399\t Average Score: -26.960\tDones: 81.00%\tEpsilon: 0.06 \t Action Probabilities: \t [0.14679139 0.25607109 0.14439663 0.20709074 0.24565014] "
     ]
    },
    {
     "name": "stderr",
     "output_type": "stream",
     "text": [
      "/home/arpit/anaconda3/envs/IA/lib/python3.7/site-packages/flatland/envs/schedule_generators.py:257: UserWarning: reset position for agent[0]: (9, 3) -> (1, 4)\n",
      "  \"reset position for agent[{}]: {} -> {}\".format(i, agents_position[i], agents_target[i]))\n"
     ]
    },
    {
     "name": "stdout",
     "output_type": "stream",
     "text": [
      "Training 1 Agents on (10,10).\t Episode 1406\t Average Score: -26.940\tDones: 80.00%\tEpsilon: 0.06 \t Action Probabilities: \t [0.1463783  0.25664212 0.14443927 0.20725273 0.24528759] re_generate cnt=2\n",
      "Training 1 Agents on (10,10).\t Episode 1407\t Average Score: -27.040\tDones: 80.00%\tEpsilon: 0.06 \t Action Probabilities: \t [0.14631555 0.25675575 0.14437735 0.20736889 0.24518245] re_generate cnt=2\n"
     ]
    },
    {
     "name": "stderr",
     "output_type": "stream",
     "text": [
      "/home/arpit/anaconda3/envs/IA/lib/python3.7/site-packages/flatland/envs/schedule_generators.py:257: UserWarning: reset position for agent[0]: (8, 0) -> (5, 9)\n",
      "  \"reset position for agent[{}]: {} -> {}\".format(i, agents_position[i], agents_target[i]))\n",
      "/home/arpit/anaconda3/envs/IA/lib/python3.7/site-packages/flatland/envs/schedule_generators.py:257: UserWarning: reset position for agent[0]: (2, 6) -> (9, 2)\n",
      "  \"reset position for agent[{}]: {} -> {}\".format(i, agents_position[i], agents_target[i]))\n"
     ]
    },
    {
     "name": "stdout",
     "output_type": "stream",
     "text": [
      "Training 1 Agents on (10,10).\t Episode 1412\t Average Score: -26.940\tDones: 81.00%\tEpsilon: 0.06 \t Action Probabilities: \t [0.14655028 0.25697836 0.14415452 0.2074473  0.24486953] re_generate cnt=2\n"
     ]
    },
    {
     "name": "stderr",
     "output_type": "stream",
     "text": [
      "/home/arpit/anaconda3/envs/IA/lib/python3.7/site-packages/flatland/envs/schedule_generators.py:257: UserWarning: reset position for agent[0]: (2, 0) -> (8, 3)\n",
      "  \"reset position for agent[{}]: {} -> {}\".format(i, agents_position[i], agents_target[i]))\n"
     ]
    },
    {
     "name": "stdout",
     "output_type": "stream",
     "text": [
      "Training 1 Agents on (10,10).\t Episode 1441\t Average Score: -24.460\tDones: 87.00%\tEpsilon: 0.06 \t Action Probabilities: \t [0.14666177 0.2583892  0.14425567 0.20798971 0.24270365] re_generate cnt=2\n",
      "re_generate cnt=3\n",
      "Training 1 Agents on (10,10).\t Episode 1443\t Average Score: -24.080\tDones: 87.00%\tEpsilon: 0.06 \t Action Probabilities: \t [0.14660522 0.25854662 0.14420005 0.20803804 0.24261007] "
     ]
    },
    {
     "name": "stderr",
     "output_type": "stream",
     "text": [
      "/home/arpit/anaconda3/envs/IA/lib/python3.7/site-packages/flatland/envs/schedule_generators.py:257: UserWarning: reset position for agent[0]: (3, 9) -> (1, 6)\n",
      "  \"reset position for agent[{}]: {} -> {}\".format(i, agents_position[i], agents_target[i]))\n",
      "/home/arpit/anaconda3/envs/IA/lib/python3.7/site-packages/flatland/envs/schedule_generators.py:257: UserWarning: reset position for agent[0]: (1, 6) -> (9, 1)\n",
      "  \"reset position for agent[{}]: {} -> {}\".format(i, agents_position[i], agents_target[i]))\n"
     ]
    },
    {
     "name": "stdout",
     "output_type": "stream",
     "text": [
      "Training 1 Agents on (10,10).\t Episode 1476\t Average Score: -23.360\tDones: 87.00%\tEpsilon: 0.05 \t Action Probabilities: \t [0.1481448  0.25918559 0.14411254 0.20785115 0.24070592] re_generate cnt=2\n",
      "Training 1 Agents on (10,10).\t Episode 1477\t Average Score: -23.580\tDones: 87.00%\tEpsilon: 0.05 \t Action Probabilities: \t [0.14807654 0.25936433 0.14422782 0.20779502 0.24053629] "
     ]
    },
    {
     "name": "stderr",
     "output_type": "stream",
     "text": [
      "/home/arpit/anaconda3/envs/IA/lib/python3.7/site-packages/flatland/envs/schedule_generators.py:257: UserWarning: reset position for agent[0]: (1, 0) -> (2, 8)\n",
      "  \"reset position for agent[{}]: {} -> {}\".format(i, agents_position[i], agents_target[i]))\n"
     ]
    },
    {
     "name": "stdout",
     "output_type": "stream",
     "text": [
      "Training 1 Agents on (10,10).\t Episode 1505\t Average Score: -22.270\tDones: 89.00%\tEpsilon: 0.05 \t Action Probabilities: \t [0.14812699 0.26036496 0.14603792 0.20740635 0.23806378] re_generate cnt=2\n"
     ]
    },
    {
     "name": "stderr",
     "output_type": "stream",
     "text": [
      "/home/arpit/anaconda3/envs/IA/lib/python3.7/site-packages/flatland/envs/schedule_generators.py:257: UserWarning: reset position for agent[0]: (6, 5) -> (0, 7)\n",
      "  \"reset position for agent[{}]: {} -> {}\".format(i, agents_position[i], agents_target[i]))\n"
     ]
    },
    {
     "name": "stdout",
     "output_type": "stream",
     "text": [
      "Training 1 Agents on (10,10).\t Episode 1510\t Average Score: -22.450\tDones: 88.00%\tEpsilon: 0.05 \t Action Probabilities: \t [0.14782036 0.26080917 0.14582591 0.20804544 0.23749911] "
     ]
    },
    {
     "name": "stderr",
     "output_type": "stream",
     "text": [
      "/home/arpit/anaconda3/envs/IA/lib/python3.7/site-packages/flatland/envs/schedule_generators.py:257: UserWarning: reset position for agent[0]: (5, 6) -> (7, 5)\n",
      "  \"reset position for agent[{}]: {} -> {}\".format(i, agents_position[i], agents_target[i]))\n",
      "/home/arpit/anaconda3/envs/IA/lib/python3.7/site-packages/flatland/envs/schedule_generators.py:257: UserWarning: reset position for agent[0]: (5, 9) -> (2, 3)\n",
      "  \"reset position for agent[{}]: {} -> {}\".format(i, agents_position[i], agents_target[i]))\n"
     ]
    },
    {
     "name": "stdout",
     "output_type": "stream",
     "text": [
      "re_generate cnt=2\n",
      "re_generate cnt=3\n",
      "Training 1 Agents on (10,10).\t Episode 1514\t Average Score: -22.270\tDones: 88.00%\tEpsilon: 0.05 \t Action Probabilities: \t [0.14766628 0.26106431 0.14580001 0.20838221 0.2370872 ] re_generate cnt=2\n"
     ]
    },
    {
     "name": "stderr",
     "output_type": "stream",
     "text": [
      "/home/arpit/anaconda3/envs/IA/lib/python3.7/site-packages/flatland/envs/schedule_generators.py:257: UserWarning: reset position for agent[0]: (1, 9) -> (8, 7)\n",
      "  \"reset position for agent[{}]: {} -> {}\".format(i, agents_position[i], agents_target[i]))\n"
     ]
    },
    {
     "name": "stdout",
     "output_type": "stream",
     "text": [
      "\r",
      "Training 1 Agents on (10,10).\t Episode 1515\t Average Score: -22.630\tDones: 87.00%\tEpsilon: 0.05 \t Action Probabilities: \t [0.14752672 0.26144313 0.14566244 0.20853308 0.23683463] re_generate cnt=2\n",
      "\r",
      "Training 1 Agents on (10,10).\t Episode 1516\t Average Score: -22.480\tDones: 87.00%\tEpsilon: 0.05 \t Action Probabilities: \t [0.14748482 0.26156413 0.14562107 0.2085626  0.23676737] \r",
      "Training 1 Agents on (10,10).\t Episode 1517\t Average Score: -22.630\tDones: 87.00%\tEpsilon: 0.05 \t Action Probabilities: \t [0.14757647 0.26162089 0.14558938 0.20855511 0.23665815] "
     ]
    },
    {
     "name": "stderr",
     "output_type": "stream",
     "text": [
      "/home/arpit/anaconda3/envs/IA/lib/python3.7/site-packages/flatland/envs/schedule_generators.py:257: UserWarning: reset position for agent[0]: (6, 0) -> (8, 8)\n",
      "  \"reset position for agent[{}]: {} -> {}\".format(i, agents_position[i], agents_target[i]))\n"
     ]
    },
    {
     "name": "stdout",
     "output_type": "stream",
     "text": [
      "Training 1 Agents on (10,10).\t Episode 1539\t Average Score: -24.260\tDones: 85.00%\tEpsilon: 0.05 \t Action Probabilities: \t [0.14847767 0.26259542 0.14493288 0.2086514  0.23534263] re_generate cnt=2\n",
      "Training 1 Agents on (10,10).\t Episode 1540\t Average Score: -24.420\tDones: 85.00%\tEpsilon: 0.05 \t Action Probabilities: \t [0.14841256 0.26276092 0.14486932 0.20871777 0.23523943] "
     ]
    },
    {
     "name": "stderr",
     "output_type": "stream",
     "text": [
      "/home/arpit/anaconda3/envs/IA/lib/python3.7/site-packages/flatland/envs/schedule_generators.py:257: UserWarning: reset position for agent[0]: (8, 8) -> (2, 0)\n",
      "  \"reset position for agent[{}]: {} -> {}\".format(i, agents_position[i], agents_target[i]))\n"
     ]
    },
    {
     "name": "stdout",
     "output_type": "stream",
     "text": [
      "Training 1 Agents on (10,10).\t Episode 1577\t Average Score: -24.220\tDones: 85.00%\tEpsilon: 0.04 \t Action Probabilities: \t [0.14680245 0.26453784 0.14523173 0.20921723 0.23421075] re_generate cnt=2\n",
      "re_generate cnt=3\n",
      "re_generate cnt=4\n"
     ]
    },
    {
     "name": "stderr",
     "output_type": "stream",
     "text": [
      "/home/arpit/anaconda3/envs/IA/lib/python3.7/site-packages/flatland/envs/schedule_generators.py:257: UserWarning: reset position for agent[0]: (5, 1) -> (4, 7)\n",
      "  \"reset position for agent[{}]: {} -> {}\".format(i, agents_position[i], agents_target[i]))\n",
      "/home/arpit/anaconda3/envs/IA/lib/python3.7/site-packages/flatland/envs/schedule_generators.py:257: UserWarning: reset position for agent[0]: (3, 8) -> (5, 1)\n",
      "  \"reset position for agent[{}]: {} -> {}\".format(i, agents_position[i], agents_target[i]))\n",
      "/home/arpit/anaconda3/envs/IA/lib/python3.7/site-packages/flatland/envs/schedule_generators.py:257: UserWarning: reset position for agent[0]: (7, 8) -> (1, 2)\n",
      "  \"reset position for agent[{}]: {} -> {}\".format(i, agents_position[i], agents_target[i]))\n"
     ]
    },
    {
     "name": "stdout",
     "output_type": "stream",
     "text": [
      "Training 1 Agents on (10,10).\t Episode 1602\t Average Score: -23.770\tDones: 87.00%\tEpsilon: 0.04 \t Action Probabilities: \t [0.14637733 0.26616392 0.14559072 0.20975051 0.23211751] re_generate cnt=2\n"
     ]
    },
    {
     "name": "stderr",
     "output_type": "stream",
     "text": [
      "/home/arpit/anaconda3/envs/IA/lib/python3.7/site-packages/flatland/envs/schedule_generators.py:257: UserWarning: reset position for agent[0]: (8, 6) -> (0, 3)\n",
      "  \"reset position for agent[{}]: {} -> {}\".format(i, agents_position[i], agents_target[i]))\n"
     ]
    },
    {
     "name": "stdout",
     "output_type": "stream",
     "text": [
      "Training 1 Agents on (10,10).\t Episode 1648\t Average Score: -20.930\tDones: 87.00%\tEpsilon: 0.04 \t Action Probabilities: \t [0.1473486  0.26709035 0.14509567 0.21145634 0.22900905] re_generate cnt=2\n"
     ]
    },
    {
     "name": "stderr",
     "output_type": "stream",
     "text": [
      "/home/arpit/anaconda3/envs/IA/lib/python3.7/site-packages/flatland/envs/schedule_generators.py:257: UserWarning: reset position for agent[0]: (1, 8) -> (9, 8)\n",
      "  \"reset position for agent[{}]: {} -> {}\".format(i, agents_position[i], agents_target[i]))\n"
     ]
    },
    {
     "name": "stdout",
     "output_type": "stream",
     "text": [
      "Training 1 Agents on (10,10).\t Episode 1681\t Average Score: -19.570\tDones: 88.00%\tEpsilon: 0.03 \t Action Probabilities: \t [0.14771292 0.26781796 0.14555216 0.21152184 0.22739512] re_generate cnt=2\n",
      "re_generate cnt=3\n",
      "re_generate cnt=4\n",
      "re_generate cnt=5\n",
      "Training 1 Agents on (10,10).\t Episode 1684\t Average Score: -19.380\tDones: 88.00%\tEpsilon: 0.03 \t Action Probabilities: \t [0.14761723 0.26792685 0.14570702 0.21150109 0.22724781] "
     ]
    },
    {
     "name": "stderr",
     "output_type": "stream",
     "text": [
      "/home/arpit/anaconda3/envs/IA/lib/python3.7/site-packages/flatland/envs/schedule_generators.py:257: UserWarning: reset position for agent[0]: (1, 1) -> (5, 4)\n",
      "  \"reset position for agent[{}]: {} -> {}\".format(i, agents_position[i], agents_target[i]))\n",
      "/home/arpit/anaconda3/envs/IA/lib/python3.7/site-packages/flatland/envs/schedule_generators.py:257: UserWarning: reset position for agent[0]: (5, 5) -> (4, 1)\n",
      "  \"reset position for agent[{}]: {} -> {}\".format(i, agents_position[i], agents_target[i]))\n",
      "/home/arpit/anaconda3/envs/IA/lib/python3.7/site-packages/flatland/envs/schedule_generators.py:257: UserWarning: reset position for agent[0]: (3, 2) -> (6, 9)\n",
      "  \"reset position for agent[{}]: {} -> {}\".format(i, agents_position[i], agents_target[i]))\n",
      "/home/arpit/anaconda3/envs/IA/lib/python3.7/site-packages/flatland/envs/schedule_generators.py:257: UserWarning: reset position for agent[0]: (3, 1) -> (0, 8)\n",
      "  \"reset position for agent[{}]: {} -> {}\".format(i, agents_position[i], agents_target[i]))\n"
     ]
    },
    {
     "name": "stdout",
     "output_type": "stream",
     "text": [
      "Training 1 Agents on (10,10).\t Episode 1696\t Average Score: -19.950\tDones: 86.00%\tEpsilon: 0.03 \t Action Probabilities: \t [0.14771639 0.26865031 0.14563588 0.21171692 0.22628051] re_generate cnt=2\n"
     ]
    },
    {
     "name": "stderr",
     "output_type": "stream",
     "text": [
      "/home/arpit/anaconda3/envs/IA/lib/python3.7/site-packages/flatland/envs/schedule_generators.py:257: UserWarning: reset position for agent[0]: (3, 3) -> (8, 8)\n",
      "  \"reset position for agent[{}]: {} -> {}\".format(i, agents_position[i], agents_target[i]))\n"
     ]
    },
    {
     "name": "stdout",
     "output_type": "stream",
     "text": [
      "Training 1 Agents on (10,10).\t Episode 1708\t Average Score: -21.140\tDones: 84.00%\tEpsilon: 0.03 \t Action Probabilities: \t [0.14695935 0.26861824 0.1457444  0.21204111 0.22663689] re_generate cnt=2\n",
      "re_generate cnt=3\n",
      "Training 1 Agents on (10,10).\t Episode 1709\t Average Score: -21.090\tDones: 84.00%\tEpsilon: 0.03 \t Action Probabilities: \t [0.1469497  0.2686006  0.14573483 0.21209286 0.22662201] "
     ]
    },
    {
     "name": "stderr",
     "output_type": "stream",
     "text": [
      "/home/arpit/anaconda3/envs/IA/lib/python3.7/site-packages/flatland/envs/schedule_generators.py:257: UserWarning: reset position for agent[0]: (2, 3) -> (6, 5)\n",
      "  \"reset position for agent[{}]: {} -> {}\".format(i, agents_position[i], agents_target[i]))\n",
      "/home/arpit/anaconda3/envs/IA/lib/python3.7/site-packages/flatland/envs/schedule_generators.py:257: UserWarning: reset position for agent[0]: (7, 9) -> (2, 8)\n",
      "  \"reset position for agent[{}]: {} -> {}\".format(i, agents_position[i], agents_target[i]))\n"
     ]
    },
    {
     "name": "stdout",
     "output_type": "stream",
     "text": [
      "Training 1 Agents on (10,10).\t Episode 1751\t Average Score: -22.130\tDones: 84.00%\tEpsilon: 0.03 \t Action Probabilities: \t [0.14507638 0.27079094 0.14619061 0.21320608 0.22473598] re_generate cnt=2\n",
      "Training 1 Agents on (10,10).\t Episode 1753\t Average Score: -21.820\tDones: 84.00%\tEpsilon: 0.03 \t Action Probabilities: \t [0.14502252 0.27088411 0.14620091 0.21323992 0.22465254] "
     ]
    },
    {
     "name": "stderr",
     "output_type": "stream",
     "text": [
      "/home/arpit/anaconda3/envs/IA/lib/python3.7/site-packages/flatland/envs/schedule_generators.py:257: UserWarning: reset position for agent[0]: (3, 5) -> (7, 0)\n",
      "  \"reset position for agent[{}]: {} -> {}\".format(i, agents_position[i], agents_target[i]))\n"
     ]
    },
    {
     "name": "stdout",
     "output_type": "stream",
     "text": [
      "Training 1 Agents on (10,10).\t Episode 1771\t Average Score: -22.520\tDones: 83.00%\tEpsilon: 0.03 \t Action Probabilities: \t [0.14419671 0.27167519 0.14660105 0.21310529 0.22442175] re_generate cnt=2\n",
      "Training 1 Agents on (10,10).\t Episode 1772\t Average Score: -22.490\tDones: 83.00%\tEpsilon: 0.03 \t Action Probabilities: \t [0.1441619  0.2717717  0.14654938 0.21317438 0.22434264] "
     ]
    },
    {
     "name": "stderr",
     "output_type": "stream",
     "text": [
      "/home/arpit/anaconda3/envs/IA/lib/python3.7/site-packages/flatland/envs/schedule_generators.py:257: UserWarning: reset position for agent[0]: (8, 8) -> (1, 2)\n",
      "  \"reset position for agent[{}]: {} -> {}\".format(i, agents_position[i], agents_target[i]))\n"
     ]
    },
    {
     "name": "stdout",
     "output_type": "stream",
     "text": [
      "Training 1 Agents on (10,10).\t Episode 1787\t Average Score: -21.840\tDones: 84.00%\tEpsilon: 0.03 \t Action Probabilities: \t [0.14365073 0.27256764 0.14660388 0.2136643  0.22351345] re_generate cnt=2\n"
     ]
    },
    {
     "name": "stderr",
     "output_type": "stream",
     "text": [
      "/home/arpit/anaconda3/envs/IA/lib/python3.7/site-packages/flatland/envs/schedule_generators.py:257: UserWarning: reset position for agent[0]: (6, 5) -> (7, 9)\n",
      "  \"reset position for agent[{}]: {} -> {}\".format(i, agents_position[i], agents_target[i]))\n"
     ]
    },
    {
     "name": "stdout",
     "output_type": "stream",
     "text": [
      "Training 1 Agents on (10,10).\t Episode 1803\t Average Score: -19.460\tDones: 88.00%\tEpsilon: 0.03 \t Action Probabilities: \t [0.14320685 0.27353797 0.14641784 0.21421418 0.22262315] re_generate cnt=2\n"
     ]
    },
    {
     "name": "stderr",
     "output_type": "stream",
     "text": [
      "/home/arpit/anaconda3/envs/IA/lib/python3.7/site-packages/flatland/envs/schedule_generators.py:257: UserWarning: reset position for agent[0]: (0, 7) -> (2, 1)\n",
      "  \"reset position for agent[{}]: {} -> {}\".format(i, agents_position[i], agents_target[i]))\n"
     ]
    },
    {
     "name": "stdout",
     "output_type": "stream",
     "text": [
      "Training 1 Agents on (10,10).\t Episode 1808\t Average Score: -19.370\tDones: 88.00%\tEpsilon: 0.03 \t Action Probabilities: \t [0.14299995 0.27367068 0.14650672 0.21459513 0.22222751] re_generate cnt=2\n",
      "Training 1 Agents on (10,10).\t Episode 1820\t Average Score: -19.810\tDones: 87.00%\tEpsilon: 0.03 \t Action Probabilities: \t [0.14253901 0.27448038 0.1463769  0.21447975 0.22212395] "
     ]
    },
    {
     "name": "stderr",
     "output_type": "stream",
     "text": [
      "/home/arpit/anaconda3/envs/IA/lib/python3.7/site-packages/flatland/envs/schedule_generators.py:257: UserWarning: reset position for agent[0]: (9, 7) -> (5, 1)\n",
      "  \"reset position for agent[{}]: {} -> {}\".format(i, agents_position[i], agents_target[i]))\n"
     ]
    },
    {
     "name": "stdout",
     "output_type": "stream",
     "text": [
      "re_generate cnt=2\n",
      "Training 1 Agents on (10,10).\t Episode 1835\t Average Score: -18.780\tDones: 89.00%\tEpsilon: 0.03 \t Action Probabilities: \t [0.14231609 0.27537598 0.14640202 0.21485707 0.22104883] re_generate cnt=2\n"
     ]
    },
    {
     "name": "stderr",
     "output_type": "stream",
     "text": [
      "/home/arpit/anaconda3/envs/IA/lib/python3.7/site-packages/flatland/envs/schedule_generators.py:257: UserWarning: reset position for agent[0]: (9, 4) -> (1, 9)\n",
      "  \"reset position for agent[{}]: {} -> {}\".format(i, agents_position[i], agents_target[i]))\n"
     ]
    },
    {
     "name": "stdout",
     "output_type": "stream",
     "text": [
      "Training 1 Agents on (10,10).\t Episode 1841\t Average Score: -20.060\tDones: 88.00%\tEpsilon: 0.03 \t Action Probabilities: \t [0.14186407 0.27580592 0.14699942 0.21458878 0.22074181] re_generate cnt=2\n"
     ]
    },
    {
     "name": "stderr",
     "output_type": "stream",
     "text": [
      "/home/arpit/anaconda3/envs/IA/lib/python3.7/site-packages/flatland/envs/schedule_generators.py:257: UserWarning: reset position for agent[0]: (5, 6) -> (8, 9)\n",
      "  \"reset position for agent[{}]: {} -> {}\".format(i, agents_position[i], agents_target[i]))\n"
     ]
    },
    {
     "name": "stdout",
     "output_type": "stream",
     "text": [
      "Training 1 Agents on (10,10).\t Episode 1848\t Average Score: -20.520\tDones: 87.00%\tEpsilon: 0.02 \t Action Probabilities: \t [0.14164845 0.2758976  0.1469872  0.21537621 0.22009054] re_generate cnt=2\n",
      "Training 1 Agents on (10,10).\t Episode 1850\t Average Score: -20.300\tDones: 87.00%\tEpsilon: 0.02 \t Action Probabilities: \t [0.14162635 0.27591697 0.14701108 0.21538942 0.22005619] "
     ]
    },
    {
     "name": "stderr",
     "output_type": "stream",
     "text": [
      "/home/arpit/anaconda3/envs/IA/lib/python3.7/site-packages/flatland/envs/schedule_generators.py:257: UserWarning: reset position for agent[0]: (1, 1) -> (6, 0)\n",
      "  \"reset position for agent[{}]: {} -> {}\".format(i, agents_position[i], agents_target[i]))\n"
     ]
    },
    {
     "name": "stdout",
     "output_type": "stream",
     "text": [
      "Training 1 Agents on (10,10).\t Episode 1860\t Average Score: -19.540\tDones: 89.00%\tEpsilon: 0.02 \t Action Probabilities: \t [0.14129386 0.27636126 0.14689767 0.21566888 0.21977834] "
     ]
    },
    {
     "name": "stderr",
     "output_type": "stream",
     "text": [
      "/home/arpit/anaconda3/envs/IA/lib/python3.7/site-packages/flatland/envs/schedule_generators.py:257: UserWarning: reset position for agent[0]: (1, 7) -> (8, 4)\n",
      "  \"reset position for agent[{}]: {} -> {}\".format(i, agents_position[i], agents_target[i]))\n",
      "/home/arpit/anaconda3/envs/IA/lib/python3.7/site-packages/flatland/envs/schedule_generators.py:257: UserWarning: reset position for agent[0]: (6, 0) -> (0, 6)\n",
      "  \"reset position for agent[{}]: {} -> {}\".format(i, agents_position[i], agents_target[i]))\n"
     ]
    },
    {
     "name": "stdout",
     "output_type": "stream",
     "text": [
      "re_generate cnt=2\n",
      "re_generate cnt=3\n",
      "Training 1 Agents on (10,10).\t Episode 1865\t Average Score: -19.900\tDones: 89.00%\tEpsilon: 0.02 \t Action Probabilities: \t [0.14089491 0.27590756 0.14761528 0.21526905 0.2203132 ] re_generate cnt=2\n",
      "Training 1 Agents on (10,10).\t Episode 1866\t Average Score: -20.110\tDones: 89.00%\tEpsilon: 0.02 \t Action Probabilities: \t [0.14084245 0.27600652 0.14756031 0.21535955 0.22023117] "
     ]
    },
    {
     "name": "stderr",
     "output_type": "stream",
     "text": [
      "/home/arpit/anaconda3/envs/IA/lib/python3.7/site-packages/flatland/envs/schedule_generators.py:257: UserWarning: reset position for agent[0]: (7, 9) -> (1, 4)\n",
      "  \"reset position for agent[{}]: {} -> {}\".format(i, agents_position[i], agents_target[i]))\n"
     ]
    },
    {
     "name": "stdout",
     "output_type": "stream",
     "text": [
      "Training 1 Agents on (10,10).\t Episode 1871\t Average Score: -20.240\tDones: 88.00%\tEpsilon: 0.02 \t Action Probabilities: \t [0.1406475  0.27572112 0.14733615 0.21567808 0.22061715] re_generate cnt=2\n",
      "Training 1 Agents on (10,10).\t Episode 1872\t Average Score: -20.220\tDones: 88.00%\tEpsilon: 0.02 \t Action Probabilities: \t [0.14063492 0.27574411 0.14730602 0.21576609 0.22054886] "
     ]
    },
    {
     "name": "stderr",
     "output_type": "stream",
     "text": [
      "/home/arpit/anaconda3/envs/IA/lib/python3.7/site-packages/flatland/envs/schedule_generators.py:257: UserWarning: reset position for agent[0]: (2, 9) -> (5, 4)\n",
      "  \"reset position for agent[{}]: {} -> {}\".format(i, agents_position[i], agents_target[i]))\n"
     ]
    },
    {
     "name": "stdout",
     "output_type": "stream",
     "text": [
      "Training 1 Agents on (10,10).\t Episode 1876\t Average Score: -21.060\tDones: 87.00%\tEpsilon: 0.02 \t Action Probabilities: \t [0.14039588 0.27600167 0.14765827 0.21561568 0.22032851] re_generate cnt=2\n"
     ]
    },
    {
     "name": "stderr",
     "output_type": "stream",
     "text": [
      "/home/arpit/anaconda3/envs/IA/lib/python3.7/site-packages/flatland/envs/schedule_generators.py:257: UserWarning: reset position for agent[0]: (4, 2) -> (9, 4)\n",
      "  \"reset position for agent[{}]: {} -> {}\".format(i, agents_position[i], agents_target[i]))\n"
     ]
    },
    {
     "name": "stdout",
     "output_type": "stream",
     "text": [
      "Training 1 Agents on (10,10).\t Episode 1895\t Average Score: -21.610\tDones: 87.00%\tEpsilon: 0.02 \t Action Probabilities: \t [0.13964413 0.27664768 0.14793435 0.21594485 0.21982898] re_generate cnt=2\n",
      "Training 1 Agents on (10,10).\t Episode 1896\t Average Score: -21.480\tDones: 87.00%\tEpsilon: 0.02 \t Action Probabilities: \t [0.13963127 0.27669895 0.14792073 0.21594032 0.21980873] "
     ]
    },
    {
     "name": "stderr",
     "output_type": "stream",
     "text": [
      "/home/arpit/anaconda3/envs/IA/lib/python3.7/site-packages/flatland/envs/schedule_generators.py:257: UserWarning: reset position for agent[0]: (1, 7) -> (5, 0)\n",
      "  \"reset position for agent[{}]: {} -> {}\".format(i, agents_position[i], agents_target[i]))\n"
     ]
    },
    {
     "name": "stdout",
     "output_type": "stream",
     "text": [
      "Training 1 Agents on (10,10).\t Episode 1935\t Average Score: -22.640\tDones: 86.00%\tEpsilon: 0.02 \t Action Probabilities: \t [0.13873375 0.2766653  0.14860222 0.21739394 0.21860479] re_generate cnt=2\n"
     ]
    },
    {
     "name": "stderr",
     "output_type": "stream",
     "text": [
      "/home/arpit/anaconda3/envs/IA/lib/python3.7/site-packages/flatland/envs/schedule_generators.py:257: UserWarning: reset position for agent[0]: (8, 0) -> (3, 9)\n",
      "  \"reset position for agent[{}]: {} -> {}\".format(i, agents_position[i], agents_target[i]))\n"
     ]
    },
    {
     "name": "stdout",
     "output_type": "stream",
     "text": [
      "Training 1 Agents on (10,10).\t Episode 1947\t Average Score: -21.660\tDones: 87.00%\tEpsilon: 0.02 \t Action Probabilities: \t [0.13825746 0.27702743 0.1483871  0.21768164 0.21864637] re_generate cnt=2\n",
      "Training 1 Agents on (10,10).\t Episode 1949\t Average Score: -21.270\tDones: 88.00%\tEpsilon: 0.02 \t Action Probabilities: \t [0.13821628 0.27712568 0.1483418  0.21775883 0.21855742] "
     ]
    },
    {
     "name": "stderr",
     "output_type": "stream",
     "text": [
      "/home/arpit/anaconda3/envs/IA/lib/python3.7/site-packages/flatland/envs/schedule_generators.py:257: UserWarning: reset position for agent[0]: (8, 4) -> (5, 7)\n",
      "  \"reset position for agent[{}]: {} -> {}\".format(i, agents_position[i], agents_target[i]))\n"
     ]
    },
    {
     "name": "stdout",
     "output_type": "stream",
     "text": [
      "Training 1 Agents on (10,10).\t Episode 1960\t Average Score: -22.900\tDones: 84.00%\tEpsilon: 0.02 \t Action Probabilities: \t [0.13757121 0.27733133 0.14790105 0.21823088 0.21896552] "
     ]
    },
    {
     "name": "stderr",
     "output_type": "stream",
     "text": [
      "/home/arpit/anaconda3/envs/IA/lib/python3.7/site-packages/flatland/envs/schedule_generators.py:257: UserWarning: reset position for agent[0]: (3, 3) -> (8, 5)\n",
      "  \"reset position for agent[{}]: {} -> {}\".format(i, agents_position[i], agents_target[i]))\n",
      "/home/arpit/anaconda3/envs/IA/lib/python3.7/site-packages/flatland/envs/schedule_generators.py:257: UserWarning: reset position for agent[0]: (1, 7) -> (3, 3)\n",
      "  \"reset position for agent[{}]: {} -> {}\".format(i, agents_position[i], agents_target[i]))\n"
     ]
    },
    {
     "name": "stdout",
     "output_type": "stream",
     "text": [
      "re_generate cnt=2\n",
      "re_generate cnt=3\n",
      "Training 1 Agents on (10,10).\t Episode 1965\t Average Score: -21.970\tDones: 86.00%\tEpsilon: 0.02 \t Action Probabilities: \t [0.13736527 0.27775449 0.14785928 0.21838323 0.21863772] "
     ]
    },
    {
     "name": "stderr",
     "output_type": "stream",
     "text": [
      "/home/arpit/anaconda3/envs/IA/lib/python3.7/site-packages/flatland/envs/schedule_generators.py:257: UserWarning: reset position for agent[0]: (3, 1) -> (2, 0)\n",
      "  \"reset position for agent[{}]: {} -> {}\".format(i, agents_position[i], agents_target[i]))\n"
     ]
    },
    {
     "name": "stdout",
     "output_type": "stream",
     "text": [
      "re_generate cnt=2\n",
      "Training 1 Agents on (10,10).\t Episode 1970\t Average Score: -21.300\tDones: 87.00%\tEpsilon: 0.02 \t Action Probabilities: \t [0.13723232 0.27781433 0.14772999 0.21882103 0.21840232] "
     ]
    },
    {
     "name": "stderr",
     "output_type": "stream",
     "text": [
      "/home/arpit/anaconda3/envs/IA/lib/python3.7/site-packages/flatland/envs/schedule_generators.py:257: UserWarning: reset position for agent[0]: (9, 1) -> (6, 7)\n",
      "  \"reset position for agent[{}]: {} -> {}\".format(i, agents_position[i], agents_target[i]))\n"
     ]
    },
    {
     "name": "stdout",
     "output_type": "stream",
     "text": [
      "re_generate cnt=2\n",
      "Training 1 Agents on (10,10).\t Episode 2000\t Average Score: -20.470\tDones: 88.00%\tEpsilon: 0.02 \t Action Probabilities: \t [0.13688641 0.27881195 0.14780946 0.21881669 0.21767548] "
     ]
    }
   ],
   "source": [
    "#For plotting\n",
    "fig , axes= plt.subplots (2, 1 , figsize = (6 , 12))\n",
    "fig.show()\n",
    "fig.canvas.draw()\n",
    "\n",
    "n_trials = 2000\n",
    "    \n",
    "env = environment1()\n",
    "env_renderer = RenderTool(env, gl=\"PILSVG\", )\n",
    "obs , info = env.reset()\n",
    "#computing the size of the state space\n",
    "# Given the depth of the tree observation and the number of features per node we get the following state_size\n",
    "num_features_per_node = env.obs_builder.observation_dim\n",
    "tree_depth = 2\n",
    "nr_nodes = 0\n",
    "for i in range(tree_depth + 1):\n",
    "    nr_nodes += np.power(4, i)\n",
    "state_size = num_features_per_node * nr_nodes\n",
    "\n",
    "# The action space of flatland is 5 discrete actions\n",
    "action_size = 5\n",
    "\n",
    "# And the max number of steps we want to take per episode\n",
    "max_steps = int(3 * (env.height + env.width))\n",
    "\n",
    "# Define training parameters\n",
    "eps = 1.\n",
    "eps_end = 0.005\n",
    "eps_decay = 0.998\n",
    "\n",
    "action_dict = {}\n",
    "scores_window = deque(maxlen=100)\n",
    "done_window = deque(maxlen=100)\n",
    "action_prob = [0] * action_size\n",
    "agent_current_obs = [None] * env.get_num_agents()\n",
    "agent_next_obs = [None] * env.get_num_agents()\n",
    "\n",
    "done_list = []\n",
    "scores_list = []\n",
    "update_values = [False] * env.get_num_agents()\n",
    "action_prob = [0] * action_size\n",
    "\n",
    "agent = Agent(state_size , action_size)\n",
    "\n",
    "for trials in range(1 , n_trials + 1):\n",
    "    \n",
    "    #reset the environment\n",
    "    obs , info = env.reset(True , True)\n",
    "    env_renderer.reset()\n",
    "    \n",
    "    #Build the observations\n",
    "    for a in range(env.get_num_agents()):\n",
    "        if obs[a]:\n",
    "            agent_current_obs[a] = normalize_observation(obs[a] , tree_depth , observation_radius = 10)\n",
    "        else:\n",
    "            agent_current_obs[a] = None\n",
    "\n",
    "    #reset score and done\n",
    "    score = 0\n",
    "    env_done = 0\n",
    "    cumulative_reward = 0\n",
    "    total_done = 0\n",
    "    \n",
    "    #run the episode\n",
    "    for step in range(max_steps):\n",
    "        \n",
    "        #choose the action for the current state\n",
    "        for a in range(env.get_num_agents()):\n",
    "            if (info['action_required'][a]):\n",
    "                update_values[a] = True\n",
    "                action = agent.act(agent_current_obs[a] , eps = eps)\n",
    "                action_prob[action] += 1\n",
    "            else:\n",
    "                update_values[a] = False\n",
    "                action = 0\n",
    "                \n",
    "            action_dict.update({a : action})\n",
    "            \n",
    "        #take the step in the environment\n",
    "        next_obs , all_rewards , done , info = env.step(action_dict)\n",
    "        \n",
    "        for a in range(env.get_num_agents()):\n",
    "            if next_obs[a]:\n",
    "                agent_next_obs[a] = normalize_observation (next_obs[a] , tree_depth , observation_radius=10)\n",
    "                \n",
    "        #update replay buffer and train agent\n",
    "        for a in range(env.get_num_agents()):\n",
    "            if update_values[a]:\n",
    "                agent.step(agent_current_obs[a] , action_dict[a] , all_rewards[a] ,\n",
    "                           agent_next_obs[a] , done[a])\n",
    "                agent_current_obs[a] = agent_next_obs[a]\n",
    "                cumulative_reward += all_rewards[a]\n",
    "                \n",
    "            if done[a]:\n",
    "                total_done += 1\n",
    "        \n",
    "#         dones_list.append(total_done/env.get_num_agents())\n",
    "#         scores_list.append(cumulative_reward/env.get_num_agents())\n",
    "        \n",
    "        \n",
    "        if done['__all__']:\n",
    "            env_done = 1\n",
    "            break\n",
    "            \n",
    "    eps = max(eps_end , eps * eps_decay)\n",
    "    \n",
    "    done_window.append(total_done/env.get_num_agents())\n",
    "    scores_window.append(cumulative_reward/env.get_num_agents())\n",
    "    done_list.append(np.mean(done_window))\n",
    "    scores_list.append(np.mean(scores_window))\n",
    "    \n",
    "    print(\n",
    "            '\\rTraining {} Agents on ({},{}).\\t Episode {}\\t Average Score: {:.3f}\\tDones: {:.2f}%\\tEpsilon: {:.2f} \\t Action Probabilities: \\t {}'.format(\n",
    "                env.get_num_agents(), env.width, env.height,\n",
    "                trials,\n",
    "                np.mean(scores_window),\n",
    "                100 * np.mean(done_window),\n",
    "                eps, action_prob / np.sum(action_prob)), end=\" \")\n",
    "\n",
    "    if trials % 10 == 0:\n",
    "\n",
    "        agent.save(\"Nets/checkpoint2\")\n",
    "        axes[0].set_title(\"Episode : {}\".format(trials))\n",
    "        axes[0].plot(scores_list , 'b')\n",
    "        axes[0].set_xlabel(\"Episode\")\n",
    "        axes[0].set_ylabel(\"score\")\n",
    "        \n",
    "        axes[1].plot(done_list , 'b')\n",
    "        axes[1].set_xlabel(\"Episode\")\n",
    "        axes[1].set_ylabel(\"Done perecentage\")\n",
    "        fig.canvas.draw()"
   ]
  },
  {
   "cell_type": "code",
   "execution_count": null,
   "metadata": {},
   "outputs": [],
   "source": []
  }
 ],
 "metadata": {
  "kernelspec": {
   "display_name": "Python 3",
   "language": "python",
   "name": "python3"
  },
  "language_info": {
   "codemirror_mode": {
    "name": "ipython",
    "version": 3
   },
   "file_extension": ".py",
   "mimetype": "text/x-python",
   "name": "python",
   "nbconvert_exporter": "python",
   "pygments_lexer": "ipython3",
   "version": "3.7.4"
  }
 },
 "nbformat": 4,
 "nbformat_minor": 2
}
