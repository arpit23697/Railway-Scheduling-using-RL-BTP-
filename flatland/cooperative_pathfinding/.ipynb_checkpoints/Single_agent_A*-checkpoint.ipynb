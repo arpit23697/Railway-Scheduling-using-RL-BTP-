{
 "cells": [
  {
   "cell_type": "code",
   "execution_count": 1,
   "metadata": {},
   "outputs": [],
   "source": [
    "#this notebook implements the A* algorithm for single agent on flatland environment\n",
    "#The state space for searching usign A* is (location_x, location_y , orientation)"
   ]
  },
  {
   "cell_type": "code",
   "execution_count": 2,
   "metadata": {},
   "outputs": [],
   "source": [
    "from flatland.envs.rail_generators import complex_rail_generator, rail_from_manual_specifications_generator, random_rail_generator , sparse_rail_generator\n",
    "from flatland.envs.schedule_generators import complex_schedule_generator, sparse_schedule_generator\n",
    "from flatland.envs.rail_env import RailEnv\n",
    "from flatland.utils.rendertools import RenderTool\n",
    "from flatland.envs.observations import TreeObsForRailEnv,GlobalObsForRailEnv,LocalObsForRailEnv\n",
    "from flatland.envs.predictions import ShortestPathPredictorForRailEnv\n",
    "from flatland.utils.ordered_set import OrderedSet\n",
    "from flatland.core.grid.grid4_utils import get_new_position,get_direction\n",
    "from flatland.envs.schedule_utils import Schedule\n",
    "from flatland.core.grid.grid4 import Grid4TransitionsEnum\n",
    "\n",
    "import math\n",
    "import numpy as np\n",
    "import time\n",
    "import random\n",
    "from MappedQueue import PriorityQueue"
   ]
  },
  {
   "cell_type": "code",
   "execution_count": 3,
   "metadata": {},
   "outputs": [],
   "source": [
    "def environment1 ():\n",
    "#     random.seed(1)\n",
    "#     np.random.seed(1)\n",
    "    NUMBER_OF_AGENTS = 1\n",
    "    env = RailEnv(\n",
    "                width=20,\n",
    "                height=20,\n",
    "                rail_generator=complex_rail_generator(\n",
    "                                        nr_start_goal=20,\n",
    "                                        nr_extra=1,\n",
    "                                        min_dist=8,\n",
    "                                        max_dist=99999,\n",
    "                                        seed=0),\n",
    "                schedule_generator=complex_schedule_generator(),\n",
    "                number_of_agents=NUMBER_OF_AGENTS)\n",
    "    return env\n"
   ]
  },
  {
   "cell_type": "code",
   "execution_count": 4,
   "metadata": {
    "scrolled": true
   },
   "outputs": [],
   "source": [
    "env = environment1()\n",
    "env_renderer = RenderTool(env ,screen_width=1600 , screen_height=750 , show_debug=True )\n",
    "obs , info = env.reset()\n",
    "env_renderer.render_env(show=True , frames = True , show_observations = False , show_predictions=False )"
   ]
  },
  {
   "cell_type": "code",
   "execution_count": 5,
   "metadata": {},
   "outputs": [],
   "source": [
    "def heuristic(a , b):\n",
    "    (x1, y1) = a\n",
    "    (x2, y2) = b\n",
    "    return abs(x1 - x2) + abs(y1 - y2)"
   ]
  },
  {
   "cell_type": "code",
   "execution_count": 6,
   "metadata": {},
   "outputs": [],
   "source": [
    "def get_new_position_direction (position , direction):\n",
    "    \n",
    "    cell_transitions = env.rail.get_transitions(*position, direction)\n",
    "    transition_bit = bin(env.rail.get_full_transitions(*position))\n",
    "    total_transitions = transition_bit.count(\"1\")\n",
    "\n",
    "    crossing_found = False\n",
    "    if int(transition_bit, 2) == int('1000010000100001', 2):\n",
    "        crossing_found = True\n",
    "\n",
    "    if crossing_found:\n",
    "        total_transitions = 2\n",
    "    num_transitions = np.count_nonzero(cell_transitions)\n",
    "    \n",
    "    last_is_dead_end = False\n",
    "    if num_transitions == 1:\n",
    "        nbits = total_transitions\n",
    "        if nbits == 1:\n",
    "            last_is_dead_end = True\n",
    "\n",
    "    possible_transitions = env.rail.get_transitions(*position, direction)\n",
    "    \n",
    "    transitions = []\n",
    "    \n",
    "    \n",
    "    for i , branch_direction in enumerate([(direction + 4 + i) % 4 for i in range(-1, 2)]):\n",
    "        if last_is_dead_end and env.rail.get_transition((*position, direction),\n",
    "                                                                 (branch_direction + 2) % 4):\n",
    "            \n",
    "            new_cell = get_new_position(position, (branch_direction + 2) % 4)\n",
    "            transitions.append((new_cell , (branch_direction + 2) % 4))\n",
    "        \n",
    "        elif possible_transitions[branch_direction]:\n",
    "            new_cell = get_new_position(position, branch_direction)\n",
    "            transitions.append((new_cell , branch_direction))\n",
    "        \n",
    "        else:\n",
    "            transitions.append(None)\n",
    "    \n",
    "    #last one is for stop action\n",
    "    transitions.append((position , direction))\n",
    "    \n",
    "    return transitions"
   ]
  },
  {
   "cell_type": "code",
   "execution_count": 7,
   "metadata": {},
   "outputs": [],
   "source": [
    "def reconstruct_path (came_from , cost_so_far):\n",
    "    current = None , None\n",
    "    min_cost = 10000\n",
    "    for keys, values in cost_so_far.items():\n",
    "        if keys[0] == goal and values < min_cost:\n",
    "            current = keys\n",
    "\n",
    "    current_action = 0\n",
    "    \n",
    "    path = []\n",
    "    while current is not None:\n",
    "        path.append((current , current_action))\n",
    "        current_action = came_from[current][1]\n",
    "        current = came_from[current][0]\n",
    "    #     current_pos , current_direction = came_from[current_pos , current_direction]\n",
    "\n",
    "    path.reverse()\n",
    "    return path"
   ]
  },
  {
   "cell_type": "code",
   "execution_count": 8,
   "metadata": {},
   "outputs": [],
   "source": [
    "#implementing A*\n",
    "#state space is ((x,y) , orientation)\n",
    "agent = env.agents[0]\n",
    "start = (agent.initial_position , agent.initial_direction)\n",
    "goal = agent.target\n",
    "\n",
    "frontier = PriorityQueue()\n",
    "frontier.put(start , 0)\n",
    "came_from = {}\n",
    "cost_so_far = {}\n",
    "came_from[start] = (None,None)\n",
    "cost_so_far[start] = 0\n",
    "explored = set()\n",
    "\n",
    "while not frontier.empty():\n",
    "    current = frontier.get()\n",
    "    position , direction = current\n",
    "    \n",
    "    if position == goal:\n",
    "        break\n",
    "        \n",
    "    explored.add (current)\n",
    "    \n",
    "    #It corresponds to ['L' , 'F' , 'R' , 'Stop']\n",
    "    transitions = get_new_position_direction (position , direction)\n",
    "    for i, d in enumerate(transitions):\n",
    "        if (d is not None):\n",
    "            \n",
    "            new_position , new_direction = d\n",
    "            new_cost = cost_so_far[current] + 1\n",
    "            next = (new_position , new_direction)\n",
    "            \n",
    "            if next not in cost_so_far or new_cost < cost_so_far[next]:\n",
    "                \n",
    "                if next in explored:\n",
    "                    continue\n",
    "                \n",
    "                cost_so_far[next] = new_cost\n",
    "                priority = new_cost + heuristic(goal , new_position)\n",
    "                frontier.put(next , priority)\n",
    "                came_from[next] = (current , i)"
   ]
  },
  {
   "cell_type": "code",
   "execution_count": 9,
   "metadata": {},
   "outputs": [],
   "source": [
    "visited = OrderedSet()\n",
    "predicted = OrderedSet()"
   ]
  },
  {
   "cell_type": "code",
   "execution_count": 10,
   "metadata": {},
   "outputs": [],
   "source": [
    "for keys in explored:\n",
    "    visited.add(keys[0])\n",
    "    \n",
    "for keys, _ in cost_so_far.items():\n",
    "    predicted.add(keys[0])"
   ]
  },
  {
   "cell_type": "code",
   "execution_count": 11,
   "metadata": {},
   "outputs": [],
   "source": [
    "env.dev_obs_dict[0] = visited\n",
    "env.dev_pred_dict[0] = predicted\n",
    "env_renderer.render_env(show=True , frames = False , show_observations = True , show_predictions=True)"
   ]
  },
  {
   "cell_type": "code",
   "execution_count": 12,
   "metadata": {},
   "outputs": [],
   "source": [
    "path = reconstruct_path(came_from , cost_so_far)"
   ]
  },
  {
   "cell_type": "code",
   "execution_count": null,
   "metadata": {
    "scrolled": true
   },
   "outputs": [],
   "source": []
  },
  {
   "cell_type": "code",
   "execution_count": 13,
   "metadata": {},
   "outputs": [],
   "source": [
    "visited = OrderedSet()\n",
    "for x,_ in path:\n",
    "    visited.add(x[0])\n",
    "\n",
    "env.dev_obs_dict[0] = visited\n",
    "env_renderer.render_env(show=True , frames = False , show_observations = True , show_predictions=False)"
   ]
  },
  {
   "cell_type": "code",
   "execution_count": 14,
   "metadata": {},
   "outputs": [
    {
     "data": {
      "text/plain": [
       "[1, 2, 2, 2, 1, 3, 1, 3, 1, 3, 1, 3, 1, 3, 1, 1]"
      ]
     },
     "execution_count": 14,
     "metadata": {},
     "output_type": "execute_result"
    }
   ],
   "source": [
    "action_trajectory = [1]\n",
    "# action_trajectory.append(0)\n",
    "for _,x in path:\n",
    "    if (x == 0):         #left\n",
    "        action_trajectory.append(1)\n",
    "    elif (x == 1):         #forward  \n",
    "        action_trajectory.append(2)\n",
    "    elif (x == 2):         #right \n",
    "        action_trajectory.append(3)\n",
    "    elif(x==3):            #stop\n",
    "        action_trajectory.append(4)\n",
    "        \n",
    "\n",
    "action_trajectory"
   ]
  },
  {
   "cell_type": "code",
   "execution_count": 15,
   "metadata": {},
   "outputs": [],
   "source": [
    "_done = False\n",
    "for i in range(len(action_trajectory) + 1):\n",
    "    _action = {0:action_trajectory[i]}\n",
    "    obs, all_rewards, done, _ = env.step(_action)\n",
    "    _done = done['__all__']    \n",
    "    if (_done):\n",
    "        break\n",
    "    \n",
    "    env.dev_obs_dict[0] = visited\n",
    "    env.dev_pred_dict[0] = predicted\n",
    "    \n",
    "    env_renderer.render_env(show=True , frames = True , show_observations = True , show_predictions=True )\n",
    "    time.sleep(0.3)\n",
    "    \n",
    "env_renderer.render_env(show=True , frames = True , show_observations = True , show_predictions=True )"
   ]
  },
  {
   "cell_type": "code",
   "execution_count": null,
   "metadata": {},
   "outputs": [],
   "source": []
  }
 ],
 "metadata": {
  "kernelspec": {
   "display_name": "Python 3",
   "language": "python",
   "name": "python3"
  },
  "language_info": {
   "codemirror_mode": {
    "name": "ipython",
    "version": 3
   },
   "file_extension": ".py",
   "mimetype": "text/x-python",
   "name": "python",
   "nbconvert_exporter": "python",
   "pygments_lexer": "ipython3",
   "version": "3.7.4"
  }
 },
 "nbformat": 4,
 "nbformat_minor": 2
}
