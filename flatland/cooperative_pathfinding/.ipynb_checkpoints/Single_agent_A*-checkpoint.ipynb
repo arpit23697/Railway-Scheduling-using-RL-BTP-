{
 "cells": [
  {
   "cell_type": "code",
   "execution_count": 1,
   "metadata": {},
   "outputs": [],
   "source": [
    "# this is going to implement A* on single agent of flatland challenge\n",
    "# In some sense, this is A* over the space (x,y,orientation) state space\n",
    "# Going to contain the general structure of A* algorithm"
   ]
  },
  {
   "cell_type": "code",
   "execution_count": 38,
   "metadata": {},
   "outputs": [],
   "source": [
    "import heapq\n",
    "__all__ = ['MappedQueue']\n",
    "\n",
    "class MappedQueue(object):\n",
    "\n",
    "    def __init__(self, data=[]):\n",
    "        \"\"\"Priority queue class with updatable priorities.\n",
    "        \"\"\"\n",
    "        self.h = list(data)\n",
    "        self.d = dict()\n",
    "        self._heapify()\n",
    "\n",
    "    def __len__(self):\n",
    "        return len(self.h)\n",
    "\n",
    "    def _heapify(self):\n",
    "        \"\"\"Restore heap invariant and recalculate map.\"\"\"\n",
    "        heapq.heapify(self.h)\n",
    "        self.d = dict([(elt, pos) for pos, elt in enumerate(self.h)])\n",
    "        if len(self.h) != len(self.d):\n",
    "            raise AssertionError(\"Heap contains duplicate elements\")\n",
    "\n",
    "    def push(self, elt):\n",
    "        \"\"\"Add an element to the queue.\"\"\"\n",
    "        # If element is already in queue, do nothing\n",
    "        if elt in self.d:\n",
    "            return False\n",
    "        # Add element to heap and dict\n",
    "        pos = len(self.h)\n",
    "        self.h.append(elt)\n",
    "        self.d[elt] = pos\n",
    "        # Restore invariant by sifting down\n",
    "        self._siftdown(pos)\n",
    "        return True\n",
    "\n",
    "    def pop(self):\n",
    "        \"\"\"Remove and return the smallest element in the queue.\"\"\"\n",
    "        # Remove smallest element\n",
    "        elt = self.h[0]\n",
    "        del self.d[elt]\n",
    "        # If elt is last item, remove and return\n",
    "        if len(self.h) == 1:\n",
    "            self.h.pop()\n",
    "            return elt\n",
    "        # Replace root with last element\n",
    "        last = self.h.pop()\n",
    "        self.h[0] = last\n",
    "        self.d[last] = 0\n",
    "        # Restore invariant by sifting up, then down\n",
    "        pos = self._siftup(0)\n",
    "        self._siftdown(pos)\n",
    "        # Return smallest element\n",
    "        return elt\n",
    "\n",
    "    def update(self, elt, new):\n",
    "        \"\"\"Replace an element in the queue with a new one.\"\"\"\n",
    "        # Replace\n",
    "        pos = self.d[elt]\n",
    "        self.h[pos] = new\n",
    "        del self.d[elt]\n",
    "        self.d[new] = pos\n",
    "        # Restore invariant by sifting up, then down\n",
    "        pos = self._siftup(pos)\n",
    "        self._siftdown(pos)\n",
    "\n",
    "    def remove(self, elt):\n",
    "        \"\"\"Remove an element from the queue.\"\"\"\n",
    "        # Find and remove element\n",
    "        try:\n",
    "            pos = self.d[elt]\n",
    "            del self.d[elt]\n",
    "        except KeyError:\n",
    "            # Not in queue\n",
    "            raise\n",
    "        # If elt is last item, remove and return\n",
    "        if pos == len(self.h) - 1:\n",
    "            self.h.pop()\n",
    "            return\n",
    "        # Replace elt with last element\n",
    "        last = self.h.pop()\n",
    "        self.h[pos] = last\n",
    "        self.d[last] = pos\n",
    "        # Restore invariant by sifting up, then down\n",
    "        pos = self._siftup(pos)\n",
    "        self._siftdown(pos)\n",
    "\n",
    "    def _siftup(self, pos):\n",
    "        \"\"\"Move element at pos down to a leaf by repeatedly moving the smaller\n",
    "        child up.\"\"\"\n",
    "        h, d = self.h, self.d\n",
    "        elt = h[pos]\n",
    "        # Continue until element is in a leaf\n",
    "        end_pos = len(h)\n",
    "        left_pos = (pos << 1) + 1\n",
    "        while left_pos < end_pos:\n",
    "            # Left child is guaranteed to exist by loop predicate\n",
    "            left = h[left_pos]\n",
    "            try:\n",
    "                right_pos = left_pos + 1\n",
    "                right = h[right_pos]\n",
    "                # Out-of-place, swap with left unless right is smaller\n",
    "                if right < left:\n",
    "                    h[pos], h[right_pos] = right, elt\n",
    "                    pos, right_pos = right_pos, pos\n",
    "                    d[elt], d[right] = pos, right_pos\n",
    "                else:\n",
    "                    h[pos], h[left_pos] = left, elt\n",
    "                    pos, left_pos = left_pos, pos\n",
    "                    d[elt], d[left] = pos, left_pos\n",
    "            except IndexError:\n",
    "                # Left leaf is the end of the heap, swap\n",
    "                h[pos], h[left_pos] = left, elt\n",
    "                pos, left_pos = left_pos, pos\n",
    "                d[elt], d[left] = pos, left_pos\n",
    "            # Update left_pos\n",
    "            left_pos = (pos << 1) + 1\n",
    "        return pos\n",
    "\n",
    "    def _siftdown(self, pos):\n",
    "        \"\"\"Restore invariant by repeatedly replacing out-of-place element with\n",
    "        its parent.\"\"\"\n",
    "        h, d = self.h, self.d\n",
    "        elt = h[pos]\n",
    "        # Continue until element is at root\n",
    "        while pos > 0:\n",
    "            parent_pos = (pos - 1) >> 1\n",
    "            parent = h[parent_pos]\n",
    "            if parent > elt:\n",
    "                # Swap out-of-place element with parent\n",
    "                h[parent_pos], h[pos] = elt, parent\n",
    "                parent_pos, pos = pos, parent_pos\n",
    "                d[elt] = pos\n",
    "                d[parent] = parent_pos\n",
    "            else:\n",
    "                # Invariant is satisfied\n",
    "                break\n",
    "        return pos"
   ]
  },
  {
   "cell_type": "code",
   "execution_count": 43,
   "metadata": {},
   "outputs": [],
   "source": [
    "class PriorityQueue:\n",
    "    def __init__(self):\n",
    "        self.q = MappedQueue([])\n",
    "        self.elements = {}\n",
    "        \n",
    "    def empty(self):\n",
    "        return len(self.q) == 0\n",
    "    \n",
    "    def put(self, item, priority):\n",
    "        if item in self.elements.key():\n",
    "            if (self.elements[item] > priority):\n",
    "                self.q.update((self.elements[item] , item) , (priority , item))\n",
    "        else:\n",
    "            self.q.push((priority, item))\n",
    "    \n",
    "    def get(self):\n",
    "        return self.q.pop()"
   ]
  },
  {
   "cell_type": "code",
   "execution_count": 44,
   "metadata": {},
   "outputs": [],
   "source": [
    "#this class defines the state of the A* search\n",
    "class State:\n",
    "    def __init__(self, x,y,orientation):\n",
    "        self.x = x\n",
    "        self.y = y\n",
    "        self.orientation = orientation\n",
    "        \n",
    "    def __eq__ (self , other):\n",
    "        if isinstance(other, State):\n",
    "            return self.x == other.x and self.y == other.y\n",
    "        return False\n"
   ]
  },
  {
   "cell_type": "code",
   "execution_count": 45,
   "metadata": {},
   "outputs": [],
   "source": [
    "frontier = PriorityQueue()"
   ]
  },
  {
   "cell_type": "code",
   "execution_count": 46,
   "metadata": {},
   "outputs": [],
   "source": [
    "frontier.put(\"Arpit\" , 1)"
   ]
  },
  {
   "cell_type": "code",
   "execution_count": 47,
   "metadata": {},
   "outputs": [],
   "source": [
    "frontier.put(\"Ipsi\" , 2)"
   ]
  },
  {
   "cell_type": "code",
   "execution_count": 48,
   "metadata": {},
   "outputs": [],
   "source": [
    "frontier.put(\"Akanksha\" , 3)\n",
    "frontier.put(\"Srishti\" , 3)\n",
    "frontier.put(\"Anshi\" , 0)"
   ]
  },
  {
   "cell_type": "code",
   "execution_count": 49,
   "metadata": {},
   "outputs": [],
   "source": [
    "frontier.put(\"Arpit\" , 0)\n",
    "frontier.put(\"Aaaaa\" , 0)"
   ]
  },
  {
   "cell_type": "code",
   "execution_count": 52,
   "metadata": {},
   "outputs": [
    {
     "data": {
      "text/plain": [
       "[(0, 'Aaaaa'),\n",
       " (1, 'Arpit'),\n",
       " (0, 'Anshi'),\n",
       " (3, 'Srishti'),\n",
       " (2, 'Ipsi'),\n",
       " (3, 'Akanksha'),\n",
       " (0, 'Arpit')]"
      ]
     },
     "execution_count": 52,
     "metadata": {},
     "output_type": "execute_result"
    }
   ],
   "source": [
    "frontier.q.h"
   ]
  },
  {
   "cell_type": "code",
   "execution_count": 37,
   "metadata": {},
   "outputs": [
    {
     "data": {
      "text/plain": [
       "'Anshi'"
      ]
     },
     "execution_count": 37,
     "metadata": {},
     "output_type": "execute_result"
    }
   ],
   "source": [
    "frontier.get()"
   ]
  },
  {
   "cell_type": "code",
   "execution_count": null,
   "metadata": {},
   "outputs": [],
   "source": []
  }
 ],
 "metadata": {
  "kernelspec": {
   "display_name": "Python 3",
   "language": "python",
   "name": "python3"
  },
  "language_info": {
   "codemirror_mode": {
    "name": "ipython",
    "version": 3
   },
   "file_extension": ".py",
   "mimetype": "text/x-python",
   "name": "python",
   "nbconvert_exporter": "python",
   "pygments_lexer": "ipython3",
   "version": "3.7.4"
  }
 },
 "nbformat": 4,
 "nbformat_minor": 2
}
