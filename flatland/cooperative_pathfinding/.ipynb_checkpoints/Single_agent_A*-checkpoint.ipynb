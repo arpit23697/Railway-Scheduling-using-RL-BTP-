{
 "cells": [
  {
   "cell_type": "code",
   "execution_count": 1,
   "metadata": {},
   "outputs": [],
   "source": [
    "#this notebook implements the A* algorithm for single agent on flatland environment\n",
    "#The state space for searching usign A* is (location_x, location_y , orientation)"
   ]
  },
  {
   "cell_type": "code",
   "execution_count": 2,
   "metadata": {},
   "outputs": [],
   "source": [
    "from flatland.envs.rail_generators import complex_rail_generator, rail_from_manual_specifications_generator, random_rail_generator , sparse_rail_generator\n",
    "from flatland.envs.schedule_generators import complex_schedule_generator, sparse_schedule_generator\n",
    "from flatland.envs.rail_env import RailEnv\n",
    "from flatland.utils.rendertools import RenderTool\n",
    "from flatland.envs.observations import TreeObsForRailEnv,GlobalObsForRailEnv,LocalObsForRailEnv\n",
    "from flatland.envs.predictions import ShortestPathPredictorForRailEnv\n",
    "from flatland.utils.ordered_set import OrderedSet\n",
    "from flatland.core.grid.grid4_utils import get_new_position,get_direction\n",
    "from flatland.envs.schedule_utils import Schedule\n",
    "from flatland.core.grid.grid4 import Grid4TransitionsEnum\n",
    "\n",
    "import math\n",
    "import numpy as np\n",
    "import time\n",
    "import random\n",
    "from MappedQueue import PriorityQueue"
   ]
  },
  {
   "cell_type": "code",
   "execution_count": 3,
   "metadata": {},
   "outputs": [],
   "source": [
    "def environment1 ():\n",
    "#     random.seed(1)\n",
    "#     np.random.seed(1)\n",
    "    NUMBER_OF_AGENTS = 1\n",
    "    env = RailEnv(\n",
    "                width=20,\n",
    "                height=20,\n",
    "                rail_generator=complex_rail_generator(\n",
    "                                        nr_start_goal=20,\n",
    "                                        nr_extra=1,\n",
    "                                        min_dist=8,\n",
    "                                        max_dist=99999,\n",
    "                                        seed=0),\n",
    "                schedule_generator=complex_schedule_generator(),\n",
    "                number_of_agents=NUMBER_OF_AGENTS)\n",
    "    return env\n"
   ]
  },
  {
   "cell_type": "code",
   "execution_count": 4,
   "metadata": {
    "scrolled": true
   },
   "outputs": [],
   "source": [
    "env = environment1()\n",
    "env_renderer = RenderTool(env ,screen_width=1600 , screen_height=750 , show_debug=True )\n",
    "obs , info = env.reset()\n",
    "env_renderer.render_env(show=True , frames = True , show_observations = False , show_predictions=False )"
   ]
  },
  {
   "cell_type": "code",
   "execution_count": 5,
   "metadata": {},
   "outputs": [],
   "source": [
    "def heuristic(a , b):\n",
    "    (x1, y1) = a\n",
    "    (x2, y2) = b\n",
    "    return abs(x1 - x2) + abs(y1 - y2)"
   ]
  },
  {
   "cell_type": "code",
   "execution_count": 6,
   "metadata": {},
   "outputs": [],
   "source": [
    "def decode_direction(direction):\n",
    "    if direction == Grid4TransitionsEnum.NORTH:\n",
    "        return 0\n",
    "    if direction == Grid4TransitionsEnum.WEST:\n",
    "        return 1\n",
    "    if direction == Grid4TransitionsEnum.SOUTH:\n",
    "        return 2\n",
    "    if direction == Grid4TransitionsEnum.EAST:\n",
    "        return 3"
   ]
  },
  {
   "cell_type": "code",
   "execution_count": 7,
   "metadata": {},
   "outputs": [],
   "source": [
    "def get_new_position_direction (position , direction):\n",
    "    \n",
    "    cell_transitions = env.rail.get_transitions(*position, direction)\n",
    "    transition_bit = bin(env.rail.get_full_transitions(*position))\n",
    "    total_transitions = transition_bit.count(\"1\")\n",
    "\n",
    "    crossing_found = False\n",
    "    if int(transition_bit, 2) == int('1000010000100001', 2):\n",
    "        crossing_found = True\n",
    "\n",
    "    if crossing_found:\n",
    "        total_transitions = 2\n",
    "    num_transitions = np.count_nonzero(cell_transitions)\n",
    "    \n",
    "    last_is_dead_end = False\n",
    "    if num_transitions == 1:\n",
    "        nbits = total_transitions\n",
    "        if nbits == 1:\n",
    "            last_is_dead_end = True\n",
    "\n",
    "    possible_transitions = env.rail.get_transitions(*position, direction)\n",
    "    \n",
    "    transitions = []\n",
    "    \n",
    "    \n",
    "    for i , branch_direction in enumerate([(direction + 4 + i) % 4 for i in range(-1, 2)]):\n",
    "        if last_is_dead_end and env.rail.get_transition((*position, direction),\n",
    "                                                                 (branch_direction + 2) % 4):\n",
    "            \n",
    "            new_cell = get_new_position(position, (branch_direction + 2) % 4)\n",
    "            transitions.append((new_cell , (branch_direction + 2) % 4))\n",
    "        \n",
    "        elif possible_transitions[branch_direction]:\n",
    "            new_cell = get_new_position(position, branch_direction)\n",
    "            transitions.append((new_cell , branch_direction))\n",
    "        \n",
    "        else:\n",
    "            transitions.append(None)\n",
    "            \n",
    "    return transitions"
   ]
  },
  {
   "cell_type": "code",
   "execution_count": 8,
   "metadata": {},
   "outputs": [],
   "source": [
    "#implementing A*\n",
    "#state space is ((x,y) , orientation)\n",
    "agent = env.agents[0]\n",
    "start = (agent.initial_position , agent.initial_direction)\n",
    "goal = agent.target\n",
    "\n",
    "frontier = PriorityQueue()\n",
    "frontier.put(start , 0)\n",
    "came_from = {}\n",
    "cost_so_far = {}\n",
    "came_from[start] = (None,None)\n",
    "cost_so_far[start] = 0\n",
    "explored = set()\n",
    "\n",
    "while not frontier.empty():\n",
    "    current = frontier.get()\n",
    "    position , direction = current\n",
    "    \n",
    "    if position == goal:\n",
    "        break\n",
    "        \n",
    "    explored.add (current)\n",
    "    \n",
    "    transitions = get_new_position_direction (position , direction)\n",
    "    for i, d in enumerate(transitions):\n",
    "        if (d is not None):\n",
    "            \n",
    "            new_position , new_direction = d\n",
    "            new_cost = cost_so_far[current] + 1\n",
    "            next = (new_position , new_direction)\n",
    "            \n",
    "            if next not in cost_so_far or new_cost < cost_so_far[next]:\n",
    "                \n",
    "                if next in explored:\n",
    "                    continue\n",
    "                \n",
    "                cost_so_far[next] = new_cost\n",
    "                priority = new_cost + heuristic(goal , new_position)\n",
    "                frontier.put(next , priority)\n",
    "                came_from[next] = (current , i)"
   ]
  },
  {
   "cell_type": "code",
   "execution_count": 9,
   "metadata": {},
   "outputs": [
    {
     "data": {
      "text/plain": [
       "{((1, 6), 3): 0,\n",
       " ((1, 7), 1): 1,\n",
       " ((1, 8), 1): 2,\n",
       " ((1, 9), 1): 3,\n",
       " ((1, 10), 1): 4,\n",
       " ((2, 10), 2): 5,\n",
       " ((2, 11), 1): 6,\n",
       " ((3, 11), 2): 7,\n",
       " ((3, 12), 1): 8,\n",
       " ((2, 12), 0): 9,\n",
       " ((4, 12), 2): 9,\n",
       " ((4, 13), 1): 10,\n",
       " ((5, 13), 2): 11,\n",
       " ((5, 14), 1): 12,\n",
       " ((6, 14), 2): 13,\n",
       " ((6, 15), 1): 14,\n",
       " ((6, 13), 3): 14,\n",
       " ((7, 15), 2): 15,\n",
       " ((7, 16), 1): 16,\n",
       " ((7, 17), 1): 17,\n",
       " ((8, 16), 2): 17}"
      ]
     },
     "execution_count": 9,
     "metadata": {},
     "output_type": "execute_result"
    }
   ],
   "source": [
    "cost_so_far"
   ]
  },
  {
   "cell_type": "code",
   "execution_count": 14,
   "metadata": {},
   "outputs": [],
   "source": [
    "visited = OrderedSet()\n",
    "predicted = OrderedSet()"
   ]
  },
  {
   "cell_type": "code",
   "execution_count": 15,
   "metadata": {},
   "outputs": [],
   "source": [
    "for keys in explored:\n",
    "    visited.add(keys[0])\n",
    "    \n",
    "for keys, _ in cost_so_far.items():\n",
    "    predicted.add(keys[0])"
   ]
  },
  {
   "cell_type": "code",
   "execution_count": 12,
   "metadata": {},
   "outputs": [],
   "source": [
    "env.dev_obs_dict[0] = visited\n",
    "env.dev_pred_dict[0] = predicted\n",
    "env_renderer.render_env(show=True , frames = False , show_observations = True , show_predictions=True)"
   ]
  },
  {
   "cell_type": "code",
   "execution_count": null,
   "metadata": {},
   "outputs": [],
   "source": []
  }
 ],
 "metadata": {
  "kernelspec": {
   "display_name": "Python 3",
   "language": "python",
   "name": "python3"
  },
  "language_info": {
   "codemirror_mode": {
    "name": "ipython",
    "version": 3
   },
   "file_extension": ".py",
   "mimetype": "text/x-python",
   "name": "python",
   "nbconvert_exporter": "python",
   "pygments_lexer": "ipython3",
   "version": "3.7.4"
  }
 },
 "nbformat": 4,
 "nbformat_minor": 2
}
