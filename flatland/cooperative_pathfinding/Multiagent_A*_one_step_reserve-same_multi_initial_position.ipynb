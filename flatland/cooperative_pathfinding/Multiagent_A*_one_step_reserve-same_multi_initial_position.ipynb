{
 "cells": [
  {
   "cell_type": "code",
   "execution_count": 1,
   "metadata": {},
   "outputs": [],
   "source": [
    "from flatland.envs.rail_generators import complex_rail_generator, rail_from_manual_specifications_generator, random_rail_generator , sparse_rail_generator\n",
    "from flatland.envs.schedule_generators import complex_schedule_generator, sparse_schedule_generator\n",
    "from flatland.envs.rail_env import RailEnv\n",
    "from flatland.utils.rendertools import RenderTool\n",
    "from flatland.envs.observations import TreeObsForRailEnv,GlobalObsForRailEnv,LocalObsForRailEnv\n",
    "from flatland.envs.predictions import ShortestPathPredictorForRailEnv\n",
    "from flatland.utils.ordered_set import OrderedSet\n",
    "from flatland.core.grid.grid4_utils import get_new_position,get_direction\n",
    "from flatland.envs.schedule_utils import Schedule\n",
    "from flatland.core.grid.grid4 import Grid4TransitionsEnum\n",
    "\n",
    "import math\n",
    "import numpy as np\n",
    "import time\n",
    "import random\n",
    "from MappedQueue import PriorityQueue"
   ]
  },
  {
   "cell_type": "code",
   "execution_count": 2,
   "metadata": {},
   "outputs": [],
   "source": [
    "def environment1 ():\n",
    "    random.seed(1)\n",
    "    np.random.seed(1)\n",
    "    NUMBER_OF_AGENTS = 20\n",
    "    env = RailEnv(\n",
    "                width=20,\n",
    "                height=20,\n",
    "                rail_generator=complex_rail_generator(\n",
    "                                        nr_start_goal=20,\n",
    "                                        nr_extra=1,\n",
    "                                        min_dist=8,\n",
    "                                        max_dist=99999,\n",
    "                                        seed=0),\n",
    "                schedule_generator=complex_schedule_generator(),\n",
    "                number_of_agents=NUMBER_OF_AGENTS)\n",
    "    return env\n"
   ]
  },
  {
   "cell_type": "code",
   "execution_count": 3,
   "metadata": {},
   "outputs": [],
   "source": [
    "def random_environment ():\n",
    "    random.seed(1)\n",
    "    np.random.seed(1)\n",
    "    NUMBER_OF_AGENTS = 10\n",
    "    transition_probability = [1.0,  # empty cell - Case 0\n",
    "                          1.0,  # Case 1 - straight\n",
    "                          1.0,  # Case 2 - simple switch\n",
    "                          0.3,  # Case 3 - diamond drossing\n",
    "                          0.5,  # Case 4 - single slip\n",
    "                          0.5,  # Case 5 - double slip\n",
    "                          0.2,  # Case 6 - symmetrical\n",
    "                          0.0,  # Case 7 - dead end\n",
    "                          0.2,  # Case 8 - turn left\n",
    "                          0.2,  # Case 9 - turn right\n",
    "                          1.0]  # Case 10 - mirrored switch\n",
    "\n",
    "    # Example generate a random rail\n",
    "    env = RailEnv(width=10,\n",
    "                  height=10,\n",
    "                  rail_generator=random_rail_generator(\n",
    "                            cell_type_relative_proportion=transition_probability\n",
    "                            ),\n",
    "                  number_of_agents=NUMBER_OF_AGENTS )\n",
    "    return env"
   ]
  },
  {
   "cell_type": "code",
   "execution_count": 4,
   "metadata": {},
   "outputs": [],
   "source": [
    "def sparse_env ():\n",
    "    random.seed(1)\n",
    "    np.random.seed(1)\n",
    "    NUMBER_OF_AGENTS = 100\n",
    "    rail_generator = sparse_rail_generator(\n",
    "                        max_num_cities=20,\n",
    "                        grid_mode=False,\n",
    "                        max_rails_between_cities=2,\n",
    "                        max_rails_in_city=8,\n",
    "                        seed = 14\n",
    "                    )\n",
    "\n",
    "    #Build the environment\n",
    "    env = RailEnv(\n",
    "        width=50,\n",
    "        height=50,\n",
    "        rail_generator=rail_generator,\n",
    "        schedule_generator=sparse_schedule_generator(),\n",
    "        number_of_agents=NUMBER_OF_AGENTS\n",
    "    )\n",
    "    return env"
   ]
  },
  {
   "cell_type": "code",
   "execution_count": 5,
   "metadata": {},
   "outputs": [],
   "source": [
    "env = environment1()\n",
    "env_renderer = RenderTool(env ,screen_width=1600 , screen_height=750 , show_debug=True )\n",
    "obs , info = env.reset()\n",
    "env_renderer.render_env(show=True , frames = True , show_observations = False , show_predictions=False )"
   ]
  },
  {
   "cell_type": "code",
   "execution_count": 6,
   "metadata": {},
   "outputs": [],
   "source": [
    "def heuristic(a , b , agent):\n",
    "    (x1, y1) = a\n",
    "    (x2, y2) = b\n",
    "    \n",
    "    if (b == (-1,-1) ):\n",
    "        (x2,y2) = agent.initial_position \n",
    "        return abs(x1 - x2) + abs(y1 - y2) + 1 \n",
    "    else:\n",
    "        return abs(x1 - x2) + abs(y1 - y2)"
   ]
  },
  {
   "cell_type": "code",
   "execution_count": 7,
   "metadata": {},
   "outputs": [],
   "source": [
    "def get_new_position_direction (position , direction , agent):\n",
    "    '''\n",
    "        This will return the new position and direction\n",
    "        along the action ['Left' , 'Forward' , 'Right' , 'Stop']\n",
    "    '''\n",
    "    \n",
    "    if (position == (-1,-1)):\n",
    "        transitions = []\n",
    "        \n",
    "        #this corresponds to movind forward\n",
    "        transitions.append((agent.initial_position , agent.initial_direction))\n",
    "\n",
    "        #this corresponds to remaining where it is\n",
    "        transitions.append(((-1,-1) , -1))\n",
    "        \n",
    "        return transitions\n",
    "        \n",
    "        \n",
    "    cell_transitions = env.rail.get_transitions(*position, direction)\n",
    "    transition_bit = bin(env.rail.get_full_transitions(*position))\n",
    "    total_transitions = transition_bit.count(\"1\")\n",
    "\n",
    "    crossing_found = False\n",
    "    if int(transition_bit, 2) == int('1000010000100001', 2):\n",
    "        crossing_found = True\n",
    "\n",
    "    if crossing_found:\n",
    "        total_transitions = 2\n",
    "    num_transitions = np.count_nonzero(cell_transitions)\n",
    "    \n",
    "    last_is_dead_end = False\n",
    "    if num_transitions == 1:\n",
    "        nbits = total_transitions\n",
    "        if nbits == 1:\n",
    "            last_is_dead_end = True\n",
    "\n",
    "    possible_transitions = env.rail.get_transitions(*position, direction)\n",
    "    \n",
    "    transitions = []\n",
    "    \n",
    "    \n",
    "    for i , branch_direction in enumerate([(direction + 4 + i) % 4 for i in range(-1, 2)]):\n",
    "        if last_is_dead_end and env.rail.get_transition((*position, direction),\n",
    "                                                                 (branch_direction + 2) % 4):\n",
    "            \n",
    "            new_cell = get_new_position(position, (branch_direction + 2) % 4)\n",
    "            transitions.append((new_cell , (branch_direction + 2) % 4))\n",
    "        \n",
    "        elif possible_transitions[branch_direction]:\n",
    "            new_cell = get_new_position(position, branch_direction)\n",
    "            transitions.append((new_cell , branch_direction))\n",
    "        \n",
    "        else:\n",
    "            transitions.append(None)\n",
    "    \n",
    "    #last one is for stop action\n",
    "    transitions.append((position , direction))\n",
    "    \n",
    "    return transitions"
   ]
  },
  {
   "cell_type": "code",
   "execution_count": 8,
   "metadata": {},
   "outputs": [],
   "source": [
    "max_steps = int(4 * 2 * (20 + env.height + env.width))\n",
    "time_reserved = {}\n",
    "action_trajectories = {}\n",
    "path_trajectories = {}\n",
    "number_of_agents = env.number_of_agents\n"
   ]
  },
  {
   "cell_type": "code",
   "execution_count": 9,
   "metadata": {},
   "outputs": [],
   "source": [
    "def intialise_cooperative_A_star():\n",
    "    \n",
    "    for i in range(1,max_steps+1):\n",
    "        time_reserved[i] = OrderedSet()\n",
    "\n",
    "        \n",
    "    for i in range(number_of_agents):\n",
    "        action_trajectories[i] = []\n",
    "        path_trajectories[i] = []   \n",
    "        \n",
    "#         agent = env.agents[i]\n",
    "#         time_reserved[1].add(agent.initial_position)"
   ]
  },
  {
   "cell_type": "code",
   "execution_count": 10,
   "metadata": {},
   "outputs": [],
   "source": [
    "def position_empty(time , position):\n",
    "\n",
    "    if (position == (-1,-1)):\n",
    "        return True\n",
    "    \n",
    "    if position in time_reserved[time]:\n",
    "        return False\n",
    "    else:\n",
    "        return True"
   ]
  },
  {
   "cell_type": "code",
   "execution_count": 11,
   "metadata": {},
   "outputs": [],
   "source": [
    "def reconstruct_path (came_from , cost_so_far , goal):\n",
    "    current = None , None\n",
    "    min_cost = 10000\n",
    "    for keys, values in cost_so_far.items():\n",
    "        if keys[0] == goal and values < min_cost:\n",
    "            current = keys\n",
    "            min_cost = values\n",
    "\n",
    "    current_action = 0\n",
    "    path = []\n",
    "    while current is not None:\n",
    "        path.append((current , current_action))\n",
    "        current_action = came_from[current][1]\n",
    "        current = came_from[current][0]\n",
    "    #     current_pos , current_direction = came_from[current_pos , current_direction]\n",
    "\n",
    "    path.reverse()\n",
    "    return path"
   ]
  },
  {
   "cell_type": "code",
   "execution_count": 12,
   "metadata": {},
   "outputs": [],
   "source": [
    "def fill_action_trajectory (agent_handle , path):\n",
    "\n",
    "    for _,x in path:\n",
    "        if (x == -1): #do nothing\n",
    "            action_trajectories[agent_handle].append(0)\n",
    "        if (x == 0):         #left\n",
    "            action_trajectories[agent_handle].append(1)\n",
    "        elif (x == 1):         #forward  \n",
    "            action_trajectories[agent_handle].append(2)\n",
    "        elif (x == 2):         #right \n",
    "            action_trajectories[agent_handle].append(3)\n",
    "        elif(x==3):            #stop\n",
    "            action_trajectories[agent_handle].append(4)\n",
    "        \n",
    "        \n",
    "    while not (len(action_trajectories[agent_handle]) == max_steps):\n",
    "        action_trajectories[agent_handle].append(4)"
   ]
  },
  {
   "cell_type": "code",
   "execution_count": 13,
   "metadata": {},
   "outputs": [],
   "source": [
    "def reserve_path (path):\n",
    "    for i in range(len(path)):\n",
    "        x,action = path[i]\n",
    "        position , direction , time = x\n",
    "        if (position == (-1,-1)):\n",
    "            continue\n",
    "            \n",
    "        time_reserved[time].add(position)\n",
    "\n",
    "        "
   ]
  },
  {
   "cell_type": "code",
   "execution_count": 14,
   "metadata": {},
   "outputs": [],
   "source": [
    "def mark_trajectory (agent_handle , path):\n",
    "    \n",
    "    visited = OrderedSet()\n",
    "    \n",
    "    for i in range(len(path)):\n",
    "        x,action = path[i]\n",
    "        position , direction , time = x\n",
    "        if not (position == (-1,-1)):\n",
    "            visited.add(position)\n",
    "        path_trajectories[agent_handle].append(position)\n",
    "        \n",
    "    env.dev_obs_dict[agent_handle] = visited"
   ]
  },
  {
   "cell_type": "code",
   "execution_count": 15,
   "metadata": {
    "scrolled": true
   },
   "outputs": [],
   "source": [
    "intialise_cooperative_A_star()"
   ]
  },
  {
   "cell_type": "code",
   "execution_count": 16,
   "metadata": {},
   "outputs": [
    {
     "data": {
      "text/plain": [
       "20"
      ]
     },
     "execution_count": 16,
     "metadata": {},
     "output_type": "execute_result"
    }
   ],
   "source": [
    "env.number_of_agents"
   ]
  },
  {
   "cell_type": "code",
   "execution_count": 17,
   "metadata": {},
   "outputs": [],
   "source": [
    "#implementing A*\n",
    "#state space is ((x,y) , orientation)\n",
    "def A_star (agent):\n",
    "\n",
    "    start = ((-1,-1) , -1 , 0)         #third value is time step\n",
    "    goal = agent.target\n",
    "\n",
    "    frontier = PriorityQueue()\n",
    "    frontier.put(start , 0)\n",
    "    came_from = {}\n",
    "    cost_so_far = {}\n",
    "    came_from[start] = (None,None)\n",
    "    cost_so_far[start] = 0\n",
    "    explored = set()\n",
    "    \n",
    "    solution_found = False\n",
    "    \n",
    "    while not frontier.empty():\n",
    "        \n",
    "        \n",
    "        current = frontier.get()\n",
    "        position , direction , time = current\n",
    "\n",
    "\n",
    "        if position == goal:\n",
    "            solution_found = True\n",
    "            break\n",
    "\n",
    "        explored.add (current)\n",
    "\n",
    "        if (position == (-1,-1)):\n",
    "            transitions = get_new_position_direction (position , direction ,agent)\n",
    "            for i, d in enumerate(transitions):\n",
    "                \n",
    "                new_position , new_direction = d\n",
    "                #if the new position is not empty at the given time\n",
    "                if not (position_empty(time+1 , new_position)):\n",
    "                    continue\n",
    "\n",
    "                new_cost = cost_so_far[current] + 1\n",
    "                next = (new_position , new_direction , time+1)\n",
    "\n",
    "                if next not in cost_so_far or new_cost < cost_so_far[next]:\n",
    "\n",
    "                    if next in explored:\n",
    "                        continue\n",
    "\n",
    "                    cost_so_far[next] = new_cost\n",
    "                    priority = new_cost + heuristic(goal , new_position , agent)\n",
    "                    frontier.put(next , priority)\n",
    "                    if (i == 0):\n",
    "                        came_from[next] = (current , 0)\n",
    "                    elif(i == 1):\n",
    "                        came_from[next] = (current , -1)\n",
    "            \n",
    "        else:\n",
    "            #It corresponds to ['L' , 'F' , 'R' , 'Stop'\n",
    "            transitions = get_new_position_direction (position , direction ,agent)\n",
    "            for i, d in enumerate(transitions):\n",
    "                if (d is not None):\n",
    "\n",
    "                    new_position , new_direction = d\n",
    "                    #if the new position is not empty at the given time\n",
    "                    if not (position_empty(time+1 , new_position)):\n",
    "        #                 print(new_position , new_direction , time + 1)\n",
    "                        continue\n",
    "\n",
    "                    new_cost = cost_so_far[current] + 1\n",
    "                    next = (new_position , new_direction , time+1)\n",
    "\n",
    "                    if next not in cost_so_far or new_cost < cost_so_far[next]:\n",
    "\n",
    "                        if next in explored:\n",
    "                            continue\n",
    "\n",
    "                        cost_so_far[next] = new_cost\n",
    "                        priority = new_cost + heuristic(goal , new_position ,agent)\n",
    "                        frontier.put(next , priority)\n",
    "                        came_from[next] = (current , i)\n",
    "                    \n",
    "    return solution_found , came_from , cost_so_far"
   ]
  },
  {
   "cell_type": "code",
   "execution_count": 18,
   "metadata": {},
   "outputs": [],
   "source": [
    "agent_path_found = [False] * env.number_of_agents\n",
    "max_running_step = 0\n",
    "\n",
    "\n",
    "\n",
    "for agent_handle in range(env.number_of_agents):\n",
    "    agent = env.agents[agent_handle]\n",
    "    solution_found , came_from , cost_so_far = A_star(agent)\n",
    "    if solution_found:\n",
    "        path = reconstruct_path(came_from , cost_so_far , agent.target)\n",
    "        reserve_path(path)\n",
    "        fill_action_trajectory(agent_handle , path)\n",
    "        \n",
    "        mark_trajectory(agent_handle , path)\n",
    "        max_running_step = max(max_running_step , len(path))\n",
    "        agent_path_found[agent_handle] = True\n",
    "    else:\n",
    "        for _ in range(max_steps):\n",
    "            action_trajectories[agent_handle].append(0)\n",
    "        \n",
    "        env.dev_obs_dict[agent_handle] = OrderedSet()\n",
    "            \n",
    "    "
   ]
  },
  {
   "cell_type": "code",
   "execution_count": 19,
   "metadata": {},
   "outputs": [
    {
     "name": "stdout",
     "output_type": "stream",
     "text": [
      "Total agent able to find path :  20\n"
     ]
    }
   ],
   "source": [
    "print(\"Total agent able to find path : \" , np.sum(agent_path_found))"
   ]
  },
  {
   "cell_type": "code",
   "execution_count": 20,
   "metadata": {},
   "outputs": [],
   "source": [
    "_done = False\n",
    "for step in range(max_running_step + 10):\n",
    "    _action = {}\n",
    "    \n",
    "    for agent_handle in range(env.number_of_agents):\n",
    "        _action[agent_handle] = action_trajectories[agent_handle][step]\n",
    "    \n",
    "    obs, all_rewards, done, _ = env.step(_action)\n",
    "    _done = done['__all__']    \n",
    "    if (_done):\n",
    "        break\n",
    "    \n",
    "    \n",
    "    env_renderer.render_env(show=True , frames = True , show_observations = False , show_predictions=False )\n",
    "    time.sleep(0.3)\n",
    "    \n",
    "env_renderer.render_env(show=True , frames = True , show_observations = False , show_predictions=False )"
   ]
  },
  {
   "cell_type": "code",
   "execution_count": 21,
   "metadata": {},
   "outputs": [
    {
     "name": "stdout",
     "output_type": "stream",
     "text": [
      " Total_done :  13\n"
     ]
    }
   ],
   "source": [
    "total_done = 0\n",
    "for keys , values in done.items():\n",
    "    if not (keys == '__all__'):\n",
    "        if values:\n",
    "            total_done += 1\n",
    "        \n",
    "print(\" Total_done : \" , total_done)"
   ]
  },
  {
   "cell_type": "code",
   "execution_count": null,
   "metadata": {},
   "outputs": [],
   "source": []
  },
  {
   "cell_type": "code",
   "execution_count": null,
   "metadata": {},
   "outputs": [],
   "source": []
  }
 ],
 "metadata": {
  "kernelspec": {
   "display_name": "Python 3",
   "language": "python",
   "name": "python3"
  },
  "language_info": {
   "codemirror_mode": {
    "name": "ipython",
    "version": 3
   },
   "file_extension": ".py",
   "mimetype": "text/x-python",
   "name": "python",
   "nbconvert_exporter": "python",
   "pygments_lexer": "ipython3",
   "version": "3.7.4"
  }
 },
 "nbformat": 4,
 "nbformat_minor": 2
}
