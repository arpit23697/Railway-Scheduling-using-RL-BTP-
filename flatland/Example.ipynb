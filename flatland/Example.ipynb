{
 "cells": [
  {
   "cell_type": "code",
   "execution_count": 1,
   "metadata": {},
   "outputs": [],
   "source": [
    "import numpy as np\n",
    "import time\n",
    "from flatland.envs.rail_generators import complex_rail_generator, rail_from_manual_specifications_generator, random_rail_generator , sparse_rail_generator\n",
    "from flatland.envs.schedule_generators import complex_schedule_generator, sparse_schedule_generator\n",
    "from flatland.envs.rail_env import RailEnv\n",
    "from flatland.utils.rendertools import RenderTool\n",
    "from flatland.envs.observations import TreeObsForRailEnv,GlobalObsForRailEnv,LocalObsForRailEnv\n",
    "from flatland.envs.predictions import ShortestPathPredictorForRailEnv\n",
    "from flatland.utils.ordered_set import OrderedSet\n",
    "from flatland.core.grid.grid4_utils import get_new_position\n",
    "# from flatland.utils.observation_utils import normalize_observation\n",
    "import math"
   ]
  },
  {
   "cell_type": "code",
   "execution_count": 2,
   "metadata": {},
   "outputs": [],
   "source": [
    "Global_observations = GlobalObsForRailEnv()\n",
    "Tree_observations = TreeObsForRailEnv(max_depth=2 , predictor=ShortestPathPredictorForRailEnv(max_depth=10) )"
   ]
  },
  {
   "cell_type": "code",
   "execution_count": 3,
   "metadata": {},
   "outputs": [],
   "source": [
    "def environment1 ():\n",
    "    NUMBER_OF_AGENTS = 20\n",
    "    env = RailEnv(\n",
    "                width=20,\n",
    "                height=20,\n",
    "                rail_generator=complex_rail_generator(\n",
    "                                        nr_start_goal=20,\n",
    "                                        nr_extra=1,\n",
    "                                        min_dist=8,\n",
    "                                        max_dist=99999,\n",
    "                                        seed=0),\n",
    "                schedule_generator=complex_schedule_generator(),\n",
    "                number_of_agents=NUMBER_OF_AGENTS)\n",
    "    return env\n"
   ]
  },
  {
   "cell_type": "code",
   "execution_count": 4,
   "metadata": {},
   "outputs": [],
   "source": [
    "def environment2 ():\n",
    "    specs = [[(0, 0), (0, 0), (0, 0), (0, 0), (0, 0), (0, 0)],\n",
    "             [(0, 0), (0, 0), (0, 0), (0, 0), (7, 0), (0, 0)],\n",
    "             [(7, 270), (1, 90), (1, 90), (1, 90), (2, 90), (7, 90)],\n",
    "             [(0, 0), (0, 0), (0, 0), (0, 0), (0, 0), (0, 0)]]\n",
    "\n",
    "    env = RailEnv(width=6,\n",
    "                  height=4,\n",
    "                  rail_generator=rail_from_manual_specifications_generator(specs),\n",
    "                  number_of_agents=1,\n",
    "                 observations = Tree_observations\n",
    "                 )\n",
    "    \n",
    "    return env"
   ]
  },
  {
   "cell_type": "code",
   "execution_count": 5,
   "metadata": {},
   "outputs": [],
   "source": [
    "def random_environment ():\n",
    "    transition_probability = [1.0,  # empty cell - Case 0\n",
    "                          1.0,  # Case 1 - straight\n",
    "                          1.0,  # Case 2 - simple switch\n",
    "                          0.3,  # Case 3 - diamond drossing\n",
    "                          0.5,  # Case 4 - single slip\n",
    "                          0.5,  # Case 5 - double slip\n",
    "                          0.2,  # Case 6 - symmetrical\n",
    "                          0.0,  # Case 7 - dead end\n",
    "                          0.2,  # Case 8 - turn left\n",
    "                          0.2,  # Case 9 - turn right\n",
    "                          1.0]  # Case 10 - mirrored switch\n",
    "\n",
    "    # Example generate a random rail\n",
    "    env = RailEnv(width=10,\n",
    "                  height=10,\n",
    "                  rail_generator=random_rail_generator(\n",
    "                            cell_type_relative_proportion=transition_probability\n",
    "                            ),\n",
    "                  number_of_agents=3,\n",
    "                  obs_builder_object= Tree_observations )\n",
    "    return env"
   ]
  },
  {
   "cell_type": "code",
   "execution_count": 6,
   "metadata": {},
   "outputs": [],
   "source": [
    "def sparse_env ():\n",
    "    rail_generator = sparse_rail_generator(\n",
    "                        max_num_cities=20,\n",
    "                        grid_mode=False,\n",
    "                        max_rails_between_cities=2,\n",
    "                        max_rails_in_city=8,\n",
    "                        seed = 14\n",
    "#                     num_cities=10,  # Number of cities in map\n",
    "#                     num_intersections=10,  # Number of interesections in map\n",
    "#                     num_trainstations=50,  # Number of possible start/targets on map\n",
    "#                     min_node_dist=6,  # Minimal distance of nodes\n",
    "#                     node_radius=3,  # Proximity of stations to city center\n",
    "#                     num_neighb=3,  # Number of connections to other cities\n",
    "#                     seed=5,  # Random seed\n",
    "#                     grid_mode=False  # Ordered distribution of nodes\n",
    "                    )\n",
    "\n",
    "    #Build the environment\n",
    "    env = RailEnv(\n",
    "        width=50,\n",
    "        height=50,\n",
    "        rail_generator=rail_generator,\n",
    "        schedule_generator=sparse_schedule_generator(),\n",
    "        number_of_agents=3,\n",
    "        obs_builder_object=TreeObsForRailEnv(max_depth=3)\n",
    "    )\n",
    "    return env"
   ]
  },
  {
   "cell_type": "code",
   "execution_count": 7,
   "metadata": {},
   "outputs": [
    {
     "name": "stderr",
     "output_type": "stream",
     "text": [
      "/home/arpit/anaconda3/envs/IA/lib/python3.7/site-packages/flatland/envs/rail_generators.py:722: UserWarning: Could not set all required cities!\n",
      "  \"Could not set all required cities!\")\n"
     ]
    }
   ],
   "source": [
    "env = sparse_env()\n",
    "env_renderer = RenderTool(env ,screen_width=1600 , screen_height=750 , show_debug=True )\n",
    "obs , info = env.reset()"
   ]
  },
  {
   "cell_type": "code",
   "execution_count": 8,
   "metadata": {},
   "outputs": [],
   "source": [
    "def my_controller():\n",
    "    \"\"\"\n",
    "    You are supposed to write this controller\n",
    "    \"\"\"\n",
    "    _action = {}\n",
    "    for _idx in range(env.get_num_agents()):\n",
    "        _action[_idx] = np.random.randint(0, 5)\n",
    "    return _action"
   ]
  },
  {
   "cell_type": "code",
   "execution_count": 9,
   "metadata": {
    "scrolled": false
   },
   "outputs": [
    {
     "name": "stderr",
     "output_type": "stream",
     "text": [
      "/home/arpit/anaconda3/envs/IA/lib/python3.7/site-packages/flatland/utils/rendertools.py:313: UserWarning: Predictor did not provide any predicted cells to render.                 Predictors builder needs to populate: env.dev_pred_dict\n",
      "  Predictors builder needs to populate: env.dev_pred_dict\")\n"
     ]
    }
   ],
   "source": [
    "_done = False\n",
    "for _ in range(5):\n",
    "    _action = my_controller()\n",
    "    obs, all_rewards, done, _ = env.step(_action)\n",
    "    _done = done['__all__']\n",
    "    env_renderer.render_env(show=True , frames = True , show_observations = True , show_predictions=True )\n",
    "    time.sleep(0.3)"
   ]
  },
  {
   "cell_type": "code",
   "execution_count": 10,
   "metadata": {},
   "outputs": [
    {
     "name": "stdout",
     "output_type": "stream",
     "text": [
      "3\n"
     ]
    }
   ],
   "source": [
    "print(env.get_num_agents())"
   ]
  },
  {
   "cell_type": "markdown",
   "metadata": {},
   "source": [
    "$n \\times m$"
   ]
  },
  {
   "cell_type": "code",
   "execution_count": 10,
   "metadata": {},
   "outputs": [],
   "source": [
    "def print_node (node):\n",
    "    print(\"dist_own_target_encountered : \" , node.dist_own_target_encountered)\n",
    "    print(\"dist_other_target_encountered : \", node.dist_other_target_encountered)\n",
    "    print(\"dist_other_agent_encountered : \" , node.dist_other_agent_encountered)\n",
    "    print(\"dist_potential_conflict : \" , node.dist_potential_conflict)\n",
    "    print(\"dist_unusable_switch : \" , node.dist_unusable_switch)\n",
    "    print(\"dist_to_next_branch : \" , node.dist_to_next_branch)\n",
    "    print(\"dist_min_to_target : \" , node.dist_min_to_target)\n",
    "    print(\"num_agents_same_direction : \" , node.num_agents_same_direction)\n",
    "    print(\"num_agents_opposite_direction : \" , node.num_agents_opposite_direction )\n",
    "    print(\"num_agents_malfunctioning : \" , node.num_agents_malfunctioning )\n",
    "    print(\"speed_min_fractional : \" , node.speed_min_fractional)\n",
    "    print(\"num_agents_ready_to_depart \" , node.num_agents_ready_to_depart )"
   ]
  },
  {
   "cell_type": "code",
   "execution_count": 11,
   "metadata": {
    "scrolled": true
   },
   "outputs": [
    {
     "data": {
      "text/plain": [
       "{}"
      ]
     },
     "execution_count": 11,
     "metadata": {},
     "output_type": "execute_result"
    }
   ],
   "source": [
    "# distance_map = env.distance_map.get()[2]\n",
    "obs[0].childs['L'].childs['F'].childs\n",
    "# print(distance_map[0,4,0])"
   ]
  },
  {
   "cell_type": "markdown",
   "metadata": {},
   "source": [
    "# Working on flattening the tree"
   ]
  },
  {
   "cell_type": "code",
   "execution_count": 20,
   "metadata": {},
   "outputs": [],
   "source": [
    "def max_lt(seq, val):\n",
    "    \"\"\"\n",
    "    Return greatest item in seq for which item < val applies.\n",
    "    None is returned if seq was empty or all items in seq were >= val.\n",
    "    \"\"\"\n",
    "    max = 0\n",
    "    idx = len(seq) - 1\n",
    "    while idx >= 0:\n",
    "        if seq[idx] < val and seq[idx] >= 0 and seq[idx] > max:\n",
    "            max = seq[idx]\n",
    "        idx -= 1\n",
    "    return max"
   ]
  },
  {
   "cell_type": "code",
   "execution_count": 21,
   "metadata": {},
   "outputs": [],
   "source": [
    "\n",
    "def min_gt(seq, val):\n",
    "    \"\"\"\n",
    "    Return smallest item in seq for which item >= val applies.\n",
    "    None is returned if seq was empty or all items in seq were >= val.\n",
    "    \"\"\"\n",
    "    min = np.inf\n",
    "    idx = len(seq) - 1\n",
    "    while idx >= 0:\n",
    "        if seq[idx] >= val and seq[idx] < min:\n",
    "            min = seq[idx]\n",
    "        idx -= 1\n",
    "    return min\n"
   ]
  },
  {
   "cell_type": "code",
   "execution_count": 22,
   "metadata": {},
   "outputs": [],
   "source": [
    "\n",
    "def norm_obs_clip(obs, clip_min=-1, clip_max=1, fixed_radius=0, normalize_to_range=False):\n",
    "    \"\"\"\n",
    "    This function returns the difference between min and max value of an observation\n",
    "    :param obs: Observation that should be normalized\n",
    "    :param clip_min: min value where observation will be clipped\n",
    "    :param clip_max: max value where observation will be clipped\n",
    "    :return: returnes normalized and clipped observatoin\n",
    "    \"\"\"\n",
    "    if fixed_radius > 0:\n",
    "        max_obs = fixed_radius\n",
    "    else:\n",
    "        max_obs = max(1, max_lt(obs, 1000)) + 1\n",
    "\n",
    "    min_obs = 0  # min(max_obs, min_gt(obs, 0))\n",
    "    if normalize_to_range:\n",
    "        min_obs = min_gt(obs, 0)\n",
    "    if min_obs > max_obs:\n",
    "        min_obs = max_obs\n",
    "    if max_obs == min_obs:\n",
    "        return np.clip(np.array(obs) / max_obs, clip_min, clip_max)\n",
    "    norm = np.abs(max_obs - min_obs)\n",
    "    return np.clip((np.array(obs) - min_obs) / norm, clip_min, clip_max)\n"
   ]
  },
  {
   "cell_type": "code",
   "execution_count": 23,
   "metadata": {},
   "outputs": [],
   "source": [
    "def _split_node_into_feature_groups(node : TreeObsForRailEnv.Node) -> (np.ndarray , np.ndarray , np.ndarray):\n",
    "    data = np.zeros(6)\n",
    "    distance = np.zeros(1)\n",
    "    agent_data = np.zeros(4)\n",
    "    \n",
    "    data[0] = node.dist_own_target_encountered\n",
    "    data[1] = node.dist_other_target_encountered\n",
    "    data[2] = node.dist_other_agent_encountered\n",
    "    data[3] = node.dist_potential_conflict\n",
    "    data[4] = node.dist_unusable_switch\n",
    "    data[5] = node.dist_to_next_branch\n",
    "\n",
    "    distance[0] = node.dist_min_to_target\n",
    "    \n",
    "    agent_data[0] = node.num_agents_same_direction\n",
    "    agent_data[1] = node.num_agents_opposite_direction\n",
    "    agent_data[2] = node.num_agents_malfunctioning\n",
    "    agent_data[3] = node.speed_min_fractional\n",
    "\n",
    "\n",
    "    return data , distance, agent_data\n"
   ]
  },
  {
   "cell_type": "code",
   "execution_count": 24,
   "metadata": {},
   "outputs": [],
   "source": [
    "def _split_subtree_into_feature_groups(node: TreeObsForRailEnv.Node, current_tree_depth: int, max_tree_depth: int) -> (np.ndarray, np.ndarray, np.ndarray):\n",
    "    \n",
    "    if node == -np.inf:\n",
    "        remaining_depth = max_tree_depth - current_tree_depth\n",
    "        num_remaining_nodes = int((4**(remaining_depth+1) - 1) / (4 - 1))\n",
    "        return [-np.inf] * num_remaining_nodes*6, [-np.inf] * num_remaining_nodes, [-np.inf] * num_remaining_nodes*4\n",
    "\n",
    "\n",
    "    data, distance, agent_data = _split_node_into_feature_groups(node)\n",
    "\n",
    "    if not node.childs:\n",
    "        return data, distance, agent_data\n",
    "    \n",
    "    for direction in TreeObsForRailEnv.tree_explored_actions_char:\n",
    "        sub_data, sub_distance, sub_agent_data = _split_subtree_into_feature_groups(node.childs[direction], current_tree_depth + 1, max_tree_depth)\n",
    "        data = np.concatenate((data, sub_data))\n",
    "        distance = np.concatenate((distance, sub_distance))\n",
    "        agent_data = np.concatenate((agent_data, sub_agent_data))\n",
    "\n",
    "    \n",
    "    return data, distance ,agent_data"
   ]
  },
  {
   "cell_type": "code",
   "execution_count": 25,
   "metadata": {},
   "outputs": [],
   "source": [
    "def split_tree_into_feature_groups(tree : TreeObsForRailEnv.Node , max_tree_depth : int) -> (np.ndarray, np.ndarray , np.ndarray):\n",
    "    data , distance, agent_data = _split_node_into_feature_groups(tree)\n",
    "\n",
    "    for direction in TreeObsForRailEnv.tree_explored_actions_char:\n",
    "        sub_data  , sub_distance, sub_agent_data = _split_subtree_into_feature_groups(tree.childs[direction], 1, max_tree_depth)\n",
    "        data = np.concatenate((data, sub_data))\n",
    "        distance = np.concatenate((distance, sub_distance))\n",
    "        agent_data = np.concatenate((agent_data, sub_agent_data))\n",
    "\n",
    "    return data , distance , agent_data"
   ]
  },
  {
   "cell_type": "code",
   "execution_count": 26,
   "metadata": {},
   "outputs": [],
   "source": [
    "def flat_the_tree (observation : TreeObsForRailEnv.Node , tree_depth : int , observation_radius = 0):\n",
    "    \n",
    "    data , distance , agent_data = split_tree_into_feature_groups(observation , tree_depth)\n",
    "    \n",
    "    data = norm_obs_clip(data , fixed_radius=observation_radius)\n",
    "    distance = norm_obs_clip(distance, normalize_to_range = True)\n",
    "    agent_data = np.clip(agent_data , -1 , 1)\n",
    "    \n",
    "    normalized_obs = np.concatenate((np.concatenate((data, distance)), agent_data))\n",
    "    \n",
    "    return normalized_obs"
   ]
  },
  {
   "cell_type": "code",
   "execution_count": 28,
   "metadata": {},
   "outputs": [],
   "source": [
    "normalized_obs = flat_the_tree(obs[0] , 2)"
   ]
  },
  {
   "cell_type": "code",
   "execution_count": 30,
   "metadata": {},
   "outputs": [
    {
     "data": {
      "text/plain": [
       "231"
      ]
     },
     "execution_count": 30,
     "metadata": {},
     "output_type": "execute_result"
    }
   ],
   "source": [
    "normalized_obs.size"
   ]
  },
  {
   "cell_type": "markdown",
   "metadata": {},
   "source": [
    "# Finding the shortest path"
   ]
  },
  {
   "cell_type": "code",
   "execution_count": 13,
   "metadata": {
    "scrolled": false
   },
   "outputs": [],
   "source": [
    "#printing the shortest path\n",
    "def show_path(handle , position = None, direction = None):\n",
    "    agent = env.agents[handle]\n",
    "    visited = OrderedSet()\n",
    "    if (position is None):\n",
    "        position = agent.position\n",
    "    if (direction is None):\n",
    "        direction = agent.direction\n",
    "    \n",
    "    distance_map = env.distance_map.get()[handle]\n",
    "    distance = distance_map[position[0] , position[1] , direction]\n",
    "    print(position , direction, distance)\n",
    "    if math.isinf(distance):\n",
    "        env_renderer.render_env(show=True , frames = False , show_observations = True )\n",
    "        return \n",
    "    \n",
    "    while not (agent.target == position):\n",
    "        possible_transitions = env.rail.get_transitions(*position, direction)\n",
    "        visited.add(position)\n",
    "        for d in range(4):\n",
    "            if possible_transitions[d]:\n",
    "                new_position = get_new_position(position , d)\n",
    "                if (distance_map[new_position[0] , new_position[1] , d] == distance - 1 ):\n",
    "                    position = new_position\n",
    "                    direction = d\n",
    "                    distance -= 1\n",
    "                    break\n",
    "\n",
    "    env.dev_obs_dict[0] = visited\n",
    "    env_renderer.render_env(show=True , frames = False , show_observations = True )\n",
    "    "
   ]
  },
  {
   "cell_type": "code",
   "execution_count": 23,
   "metadata": {
    "scrolled": true
   },
   "outputs": [
    {
     "name": "stdout",
     "output_type": "stream",
     "text": [
      "(3, 2) 1 14.0\n"
     ]
    }
   ],
   "source": [
    "show_path(0 , (3 , 2) , 1)"
   ]
  },
  {
   "cell_type": "code",
   "execution_count": 10,
   "metadata": {},
   "outputs": [],
   "source": [
    "action_char = ['L' , 'F' , 'R' , 'B' ]\n",
    "def take_actions (position , direction):\n",
    "    trans = env.rail.get_transitions(*position, direction)\n",
    "    for i, d in enumerate([(direction + i) % 4 for i in range(-1, 3)]):\n",
    "        print(action_char[i], end = ' ')\n",
    "        if (trans[d]):\n",
    "            print(get_new_position(position , d) , d) \n",
    "        else:\n",
    "            print(\"Not Allowed\")"
   ]
  },
  {
   "cell_type": "code",
   "execution_count": 11,
   "metadata": {},
   "outputs": [
    {
     "name": "stdout",
     "output_type": "stream",
     "text": [
      "L Not Allowed\n",
      "F Not Allowed\n",
      "R (4, 1) 2\n",
      "B Not Allowed\n"
     ]
    }
   ],
   "source": [
    "take_actions(position=(3,1) , direction=1 )"
   ]
  },
  {
   "cell_type": "code",
   "execution_count": 14,
   "metadata": {
    "scrolled": true
   },
   "outputs": [
    {
     "name": "stdout",
     "output_type": "stream",
     "text": [
      "[[inf inf  9.  8.  7. inf 11. 12. 13. inf]\n",
      " [inf inf  8.  9.  8.  9. inf 13. 14. inf]\n",
      " [inf inf  9. inf  9. inf 11. inf inf inf]\n",
      " [inf 15. 10. 15. 10. inf 12.  5. inf inf]\n",
      " [inf inf inf 16. 11. inf 13.  0. inf inf]\n",
      " [inf inf inf 17. 12.  7. inf inf inf inf]\n",
      " [inf 18. 19. inf inf  8. 23. 16. inf inf]\n",
      " [inf 19. 12. inf 18. inf inf 17. inf inf]\n",
      " [inf inf 17. 20. inf inf inf 18. inf inf]\n",
      " [inf inf inf inf inf inf inf inf inf inf]]\n",
      "[[inf inf inf inf inf inf inf inf inf inf]\n",
      " [inf inf inf  7. inf  5. 12. 13. 14. inf]\n",
      " [inf inf inf  6.  5.  4.  3. 14. 15. 14.]\n",
      " [inf 13. 14. 13. 12. 13. 12. inf  4.  3.]\n",
      " [inf 16. 11. 16. inf inf inf  0.  3.  2.]\n",
      " [inf inf inf 17. inf inf  6.  5.  4.  3.]\n",
      " [inf 16. 19. 18.  9.  8. 23. 22. inf inf]\n",
      " [inf 13. 12. 11. 10.  9. 18. 17. inf inf]\n",
      " [inf 14. 13. inf 19. inf inf inf inf inf]\n",
      " [inf inf inf inf inf inf inf inf inf inf]]\n",
      "[[inf inf inf inf inf inf inf inf inf inf]\n",
      " [inf inf  8.  7.  6. inf 10. 11. 12. inf]\n",
      " [inf inf  7.  6. 13.  4. inf 12. 13. inf]\n",
      " [inf inf 18. inf 12. inf  2. inf inf inf]\n",
      " [inf 12. 17. 12. 11. inf  1.  0. inf inf]\n",
      " [inf inf inf 11. 10. inf  6.  5. inf inf]\n",
      " [inf inf inf 10.  9. 14. inf inf inf inf]\n",
      " [inf 15. 18. inf inf 19. 18. 21. inf inf]\n",
      " [inf 16. 17. inf 23. inf inf 20. inf inf]\n",
      " [inf inf 18. 21. inf inf inf 19. inf inf]]\n",
      "[[inf inf inf inf inf inf inf inf inf inf]\n",
      " [inf inf  8. inf  8.  9. 10. 11. inf inf]\n",
      " [inf inf  9. 10. 11. 10. 11. 12. 13. inf]\n",
      " [14. 13. 14. 15. 10. 11. inf  1.  2. inf]\n",
      " [17. 16. 17. inf inf inf 13.  0.  1. inf]\n",
      " [inf inf 18. inf inf 15. 14.  1.  2. inf]\n",
      " [17. 18. 19. 18. 13. 14. 15. inf inf inf]\n",
      " [14. 15. 16. 17. 18. 19. 20. inf inf inf]\n",
      " [15. 16. inf 22. inf inf inf inf inf inf]\n",
      " [inf inf inf inf inf inf inf inf inf inf]]\n"
     ]
    }
   ],
   "source": [
    "distance_map = env.distance_map.get()[0]\n",
    "for i in range(4):\n",
    "    print(distance_map[:,:,i])"
   ]
  },
  {
   "cell_type": "code",
   "execution_count": null,
   "metadata": {},
   "outputs": [],
   "source": []
  }
 ],
 "metadata": {
  "kernelspec": {
   "display_name": "Python 3",
   "language": "python",
   "name": "python3"
  },
  "language_info": {
   "codemirror_mode": {
    "name": "ipython",
    "version": 3
   },
   "file_extension": ".py",
   "mimetype": "text/x-python",
   "name": "python",
   "nbconvert_exporter": "python",
   "pygments_lexer": "ipython3",
   "version": "3.7.4"
  }
 },
 "nbformat": 4,
 "nbformat_minor": 2
}
