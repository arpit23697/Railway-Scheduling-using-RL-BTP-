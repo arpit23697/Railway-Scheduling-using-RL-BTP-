{
 "cells": [
  {
   "cell_type": "code",
   "execution_count": 1,
   "metadata": {},
   "outputs": [],
   "source": [
    "import numpy as np\n",
    "import time\n",
    "from flatland.envs.rail_generators import complex_rail_generator, rail_from_manual_specifications_generator, random_rail_generator\n",
    "from flatland.envs.schedule_generators import complex_schedule_generator\n",
    "from flatland.envs.rail_env import RailEnv\n",
    "from flatland.utils.rendertools import RenderTool\n",
    "from flatland.envs.observations import TreeObsForRailEnv,GlobalObsForRailEnv"
   ]
  },
  {
   "cell_type": "code",
   "execution_count": 2,
   "metadata": {},
   "outputs": [],
   "source": [
    "def environment1 ():\n",
    "    NUMBER_OF_AGENTS = 20\n",
    "    env = RailEnv(\n",
    "                width=20,\n",
    "                height=20,\n",
    "                rail_generator=complex_rail_generator(\n",
    "                                        nr_start_goal=20,\n",
    "                                        nr_extra=1,\n",
    "                                        min_dist=8,\n",
    "                                        max_dist=99999,\n",
    "                                        seed=0),\n",
    "                schedule_generator=complex_schedule_generator(),\n",
    "                number_of_agents=NUMBER_OF_AGENTS)\n",
    "    return env\n"
   ]
  },
  {
   "cell_type": "code",
   "execution_count": 3,
   "metadata": {},
   "outputs": [],
   "source": [
    "def environment2 ():\n",
    "    specs = [[(0, 0), (0, 0), (0, 0), (0, 0), (0, 0), (0, 0)],\n",
    "             [(0, 0), (0, 0), (0, 0), (0, 0), (7, 0), (0, 0)],\n",
    "             [(7, 270), (1, 90), (1, 90), (1, 90), (2, 90), (7, 90)],\n",
    "             [(0, 0), (0, 0), (0, 0), (0, 0), (0, 0), (0, 0)]]\n",
    "\n",
    "    env = RailEnv(width=6,\n",
    "                  height=4,\n",
    "                  rail_generator=rail_from_manual_specifications_generator(specs),\n",
    "                  number_of_agents=1)\n",
    "    \n",
    "    return env"
   ]
  },
  {
   "cell_type": "code",
   "execution_count": 4,
   "metadata": {},
   "outputs": [],
   "source": [
    "def random_environment ():\n",
    "    transition_probability = [1.0,  # empty cell - Case 0\n",
    "                          1.0,  # Case 1 - straight\n",
    "                          1.0,  # Case 2 - simple switch\n",
    "                          0.3,  # Case 3 - diamond drossing\n",
    "                          0.5,  # Case 4 - single slip\n",
    "                          0.5,  # Case 5 - double slip\n",
    "                          0.2,  # Case 6 - symmetrical\n",
    "                          0.0,  # Case 7 - dead end\n",
    "                          0.2,  # Case 8 - turn left\n",
    "                          0.2,  # Case 9 - turn right\n",
    "                          1.0]  # Case 10 - mirrored switch\n",
    "\n",
    "    # Example generate a random rail\n",
    "    env = RailEnv(width=10,\n",
    "                  height=10,\n",
    "                  rail_generator=random_rail_generator(\n",
    "                            cell_type_relative_proportion=transition_probability\n",
    "                            ),\n",
    "                  number_of_agents=2,\n",
    "                  obs_builder_object=GlobalObsForRailEnv() )\n",
    "    return env"
   ]
  },
  {
   "cell_type": "code",
   "execution_count": 5,
   "metadata": {},
   "outputs": [],
   "source": [
    "env = random_environment()\n",
    "env_renderer = RenderTool(env)\n",
    "obs , info = env.reset()"
   ]
  },
  {
   "cell_type": "code",
   "execution_count": 6,
   "metadata": {},
   "outputs": [],
   "source": [
    "def my_controller():\n",
    "    \"\"\"\n",
    "    You are supposed to write this controller\n",
    "    \"\"\"\n",
    "    _action = {}\n",
    "    for _idx in range(env.get_num_agents()):\n",
    "        _action[_idx] = np.random.randint(0, 5)\n",
    "    return _action"
   ]
  },
  {
   "cell_type": "code",
   "execution_count": 24,
   "metadata": {},
   "outputs": [],
   "source": [
    "_done = False\n",
    "for _ in range(5):\n",
    "    _action = my_controller()\n",
    "    obs, all_rewards, done, _ = env.step(_action)\n",
    "    _done = done['__all__']\n",
    "    env_renderer.render_env(show=True , frames = False , show_observations = True , show_predictions = True)\n",
    "    time.sleep(0.3)"
   ]
  },
  {
   "cell_type": "markdown",
   "metadata": {},
   "source": [
    "$n \\times m$"
   ]
  },
  {
   "cell_type": "code",
   "execution_count": 8,
   "metadata": {},
   "outputs": [],
   "source": [
    "?complex_rail_generator"
   ]
  },
  {
   "cell_type": "code",
   "execution_count": 36,
   "metadata": {
    "scrolled": false
   },
   "outputs": [
    {
     "data": {
      "text/plain": [
       "array([[0., 0., 0., 0., 0., 0., 0., 0., 0., 0.],\n",
       "       [0., 0., 0., 0., 0., 0., 1., 1., 1., 0.],\n",
       "       [0., 0., 0., 0., 0., 0., 0., 1., 1., 0.],\n",
       "       [0., 0., 0., 0., 0., 0., 1., 0., 0., 0.],\n",
       "       [0., 1., 1., 1., 0., 0., 0., 0., 0., 0.],\n",
       "       [0., 0., 0., 1., 0., 0., 0., 0., 0., 0.],\n",
       "       [0., 0., 0., 1., 0., 1., 0., 0., 0., 0.],\n",
       "       [0., 1., 0., 0., 0., 1., 0., 1., 0., 0.],\n",
       "       [0., 1., 1., 0., 1., 0., 0., 0., 0., 0.],\n",
       "       [0., 0., 0., 0., 0., 0., 0., 0., 0., 0.]])"
      ]
     },
     "execution_count": 36,
     "metadata": {},
     "output_type": "execute_result"
    }
   ],
   "source": [
    "obs[1][0][:,:,4]"
   ]
  },
  {
   "cell_type": "code",
   "execution_count": 8,
   "metadata": {},
   "outputs": [],
   "source": [
    "env_renderer.render_env(show=True , frames = False , show_observations = True , show_predictions = True)"
   ]
  },
  {
   "cell_type": "code",
   "execution_count": null,
   "metadata": {},
   "outputs": [],
   "source": []
  }
 ],
 "metadata": {
  "kernelspec": {
   "display_name": "Python 3",
   "language": "python",
   "name": "python3"
  },
  "language_info": {
   "codemirror_mode": {
    "name": "ipython",
    "version": 3
   },
   "file_extension": ".py",
   "mimetype": "text/x-python",
   "name": "python",
   "nbconvert_exporter": "python",
   "pygments_lexer": "ipython3",
   "version": "3.7.4"
  }
 },
 "nbformat": 4,
 "nbformat_minor": 2
}
