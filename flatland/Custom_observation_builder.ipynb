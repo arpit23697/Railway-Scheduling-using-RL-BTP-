{
 "cells": [
  {
   "cell_type": "code",
   "execution_count": 1,
   "metadata": {},
   "outputs": [],
   "source": [
    "import getopt\n",
    "import random\n",
    "import sys\n",
    "import time\n",
    "from typing import List\n",
    "\n",
    "import numpy as np\n",
    "\n",
    "from flatland.core.env_observation_builder import ObservationBuilder\n",
    "from flatland.core.grid.grid4_utils import get_new_position\n",
    "from flatland.envs.rail_env import RailEnv\n",
    "from flatland.envs.rail_generators import complex_rail_generator,random_rail_generator\n",
    "from flatland.envs.schedule_generators import complex_schedule_generator\n",
    "from flatland.utils.misc import str2bool\n",
    "from flatland.utils.rendertools import RenderTool\n",
    "\n",
    "random.seed(100)\n",
    "np.random.seed(100)\n",
    "\n"
   ]
  },
  {
   "cell_type": "code",
   "execution_count": 2,
   "metadata": {},
   "outputs": [],
   "source": [
    "from flatland.envs.observations import TreeObsForRailEnv\n",
    "class SingleAgentNavigationObs(ObservationBuilder):\n",
    "    \"\"\"\n",
    "    We build a representation vector with 3 binary components, indicating which of the 3 available directions\n",
    "    for each agent (Left, Forward, Right) lead to the shortest path to its target.\n",
    "    E.g., if taking the Left branch (if available) is the shortest route to the agent's target, the observation vector\n",
    "    will be [1, 0, 0].\n",
    "    \"\"\"\n",
    "\n",
    "    def __init__(self):\n",
    "        super().__init__()\n",
    "\n",
    "    def reset(self):\n",
    "        pass\n",
    "\n",
    "    def get(self, handle: int = 0) -> List[int]:\n",
    "        agent = self.env.agents[handle]\n",
    "\n",
    "        if agent.position:\n",
    "            possible_transitions = self.env.rail.get_transitions(*agent.position, agent.direction)\n",
    "            print(\"Agent Postion \" , *agent.position , \"Agent direction\" ,  agent.direction, \"Transitions :\" , possible_transitions )\n",
    "        else:\n",
    "            possible_transitions = self.env.rail.get_transitions(*agent.initial_position, agent.direction)\n",
    "\n",
    "        num_transitions = np.count_nonzero(possible_transitions)\n",
    "\n",
    "        # Start from the current orientation, and see which transitions are available;\n",
    "        # organize them as [left, forward, right], relative to the current orientation\n",
    "        # If only one transition is possible, the forward branch is aligned with it.\n",
    "        if num_transitions == 1:\n",
    "            observation = [0, 1, 0]\n",
    "        else:\n",
    "            min_distances = []\n",
    "            for direction in [(agent.direction + i) % 4 for i in range(-1, 2)]:\n",
    "                if possible_transitions[direction]:\n",
    "                    if agent.position:\n",
    "                        new_position = get_new_position(agent.position, direction)\n",
    "                    else:\n",
    "                        new_position = get_new_position(agent.initial_position , direction)\n",
    "                    min_distances.append(\n",
    "                        self.env.distance_map.get()[handle, new_position[0], new_position[1], direction])\n",
    "                    \n",
    "                else:\n",
    "                    min_distances.append(np.inf)\n",
    "\n",
    "            observation = [0, 0, 0]\n",
    "            observation[np.argmin(min_distances)] = 1\n",
    "\n",
    "        return observation"
   ]
  },
  {
   "cell_type": "code",
   "execution_count": 3,
   "metadata": {
    "scrolled": false
   },
   "outputs": [
    {
     "name": "stdout",
     "output_type": "stream",
     "text": [
      "Hi there\n",
      "[[inf inf inf inf inf inf inf inf inf inf]\n",
      " [inf inf inf 16. inf inf inf inf  9. 14.]\n",
      " [inf inf inf 19. inf inf inf inf 12. 11.]\n",
      " [inf 14. 21. 20. inf 10.  9. inf  7.  6.]\n",
      " [inf inf 12. 21. inf inf inf  7.  6.  5.]\n",
      " [inf inf inf 12. 11.  0.  9.  8. inf  8.]\n",
      " [inf 17. inf 17. inf  9. 10.  9. inf inf]\n",
      " [inf 16. 15.  8.  7.  2. 11. inf inf inf]\n",
      " [inf 19. 24. inf  8.  7.  6.  5. inf inf]\n",
      " [inf inf inf inf inf inf inf inf inf inf]]\n",
      "Hi there\n",
      "[[inf inf inf inf inf inf inf inf inf inf]\n",
      " [inf inf inf 16. inf inf inf inf  9. 14.]\n",
      " [inf inf inf 19. inf inf inf inf 12. 11.]\n",
      " [inf 14. 21. 20. inf 10.  9. inf  7.  6.]\n",
      " [inf inf 12. 21. inf inf inf  7.  6.  5.]\n",
      " [inf inf inf 12. 11.  0.  9.  8. inf  8.]\n",
      " [inf 17. inf 17. inf  9. 10.  9. inf inf]\n",
      " [inf 16. 15.  8.  7.  2. 11. inf inf inf]\n",
      " [inf 19. 24. inf  8.  7.  6.  5. inf inf]\n",
      " [inf inf inf inf inf inf inf inf inf inf]]\n"
     ]
    },
    {
     "name": "stderr",
     "output_type": "stream",
     "text": [
      "/home/arpit/anaconda3/envs/IA/lib/python3.7/site-packages/flatland/utils/rendertools.py:292: UserWarning: Predictor did not provide any predicted cells to render.                 Observation builder needs to populate: env.dev_obs_dict\n",
      "  Observation builder needs to populate: env.dev_obs_dict\")\n"
     ]
    }
   ],
   "source": [
    "env = RailEnv(width=10,\n",
    "              height=10,\n",
    "              rail_generator=random_rail_generator(),\n",
    "              number_of_agents=1,\n",
    "              obs_builder_object=SingleAgentNavigationObs())\n",
    "env.reset()\n",
    "\n",
    "obs, all_rewards, done, _ = env.step({0: 0})\n",
    "\n",
    "env_renderer = RenderTool(env, gl=\"PILSVG\", show_debug=True)\n",
    "env_renderer.render_env(show=True, frames=True, show_observations=True)\n"
   ]
  },
  {
   "cell_type": "code",
   "execution_count": 4,
   "metadata": {
    "scrolled": false
   },
   "outputs": [
    {
     "name": "stdout",
     "output_type": "stream",
     "text": [
      "Agent Postion  8 0 Agent direction 3 Transitions : (0, 1, 0, 0)\n",
      "Hi there\n",
      "[[inf inf inf inf inf inf inf inf inf inf]\n",
      " [inf inf inf 16. inf inf inf inf  9. 14.]\n",
      " [inf inf inf 19. inf inf inf inf 12. 11.]\n",
      " [inf 14. 21. 20. inf 10.  9. inf  7.  6.]\n",
      " [inf inf 12. 21. inf inf inf  7.  6.  5.]\n",
      " [inf inf inf 12. 11.  0.  9.  8. inf  8.]\n",
      " [inf 17. inf 17. inf  9. 10.  9. inf inf]\n",
      " [inf 16. 15.  8.  7.  2. 11. inf inf inf]\n",
      " [inf 19. 24. inf  8.  7.  6.  5. inf inf]\n",
      " [inf inf inf inf inf inf inf inf inf inf]]\n",
      "Rewards:  {0: -1.0}   [done= {0: False, '__all__': False} ]\n"
     ]
    }
   ],
   "source": [
    "\n",
    "for _ in range(1):\n",
    "    action = np.argmax(obs[0])+1\n",
    "#     action2 = np.argmax(obs[1]) + 1\n",
    "    obs, all_rewards, done, _ = env.step({0:action})\n",
    "    print(\"Rewards: \", all_rewards, \"  [done=\", done, \"]\")\n",
    "\n",
    "    env_renderer.render_env(show=True, frames=True, show_observations=False)\n",
    "    time.sleep(3.0)"
   ]
  },
  {
   "cell_type": "code",
   "execution_count": 6,
   "metadata": {},
   "outputs": [],
   "source": [
    "env_renderer.render_env(show=True, frames=True, show_observations=False)"
   ]
  },
  {
   "cell_type": "code",
   "execution_count": null,
   "metadata": {},
   "outputs": [],
   "source": []
  }
 ],
 "metadata": {
  "kernelspec": {
   "display_name": "Python 3",
   "language": "python",
   "name": "python3"
  },
  "language_info": {
   "codemirror_mode": {
    "name": "ipython",
    "version": 3
   },
   "file_extension": ".py",
   "mimetype": "text/x-python",
   "name": "python",
   "nbconvert_exporter": "python",
   "pygments_lexer": "ipython3",
   "version": "3.7.4"
  }
 },
 "nbformat": 4,
 "nbformat_minor": 2
}
